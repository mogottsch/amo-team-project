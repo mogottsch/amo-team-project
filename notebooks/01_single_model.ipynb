{
 "cells": [
  {
   "attachments": {},
   "cell_type": "markdown",
   "metadata": {},
   "source": [
    "# Solving Single Model\n",
    "This notebook demonstrates how to create and solve a single model.\n",
    "One model contains the first-stage reinforcement decision and the second-stage\n",
    "network scheduling decision. The attacks that happen are uncertain and \n",
    "therefore the second-stage network scheduling decision is stochastic, which \n",
    "makes the model a mixed-integer stochastic program."
   ]
  },
  {
   "cell_type": "code",
   "execution_count": 75,
   "metadata": {},
   "outputs": [
    {
     "name": "stderr",
     "output_type": "stream",
     "text": [
      "\u001b[32m\u001b[1m  Activating\u001b[22m\u001b[39m project at `~/dev/uni/amo-team-project`\n"
     ]
    }
   ],
   "source": [
    "using Pkg;\n",
    "Pkg.activate(\"..\");\n",
    "Pkg.instantiate();"
   ]
  },
  {
   "cell_type": "markdown",
   "metadata": {},
   "source": [
    "To solve our model we use the commercial solver Gurobi, because its performance\n",
    "is superior to the open source solvers. Our model, like many MILP models, gets\n",
    "computationally intractable very fast. Therefore, we need the fastest solver we\n",
    "can get."
   ]
  },
  {
   "cell_type": "code",
   "execution_count": 76,
   "metadata": {},
   "outputs": [
    {
     "name": "stdout",
     "output_type": "stream",
     "text": [
      "Set parameter Username\n",
      "Academic license - for non-commercial use only - expires 2024-01-19\n"
     ]
    },
    {
     "data": {
      "text/plain": [
       "Gurobi.Env(Ptr{Nothing} @0x0000560c2738bf10, false, 0)"
      ]
     },
     "metadata": {},
     "output_type": "display_data"
    }
   ],
   "source": [
    "import Gurobi\n",
    "GRB_ENV = Gurobi.Env()"
   ]
  },
  {
   "attachments": {},
   "cell_type": "markdown",
   "metadata": {},
   "source": [
    "First, we read the source data, which consists of the network specification and\n",
    "the demand data.  \n",
    "The network specification contains busses, lines and generators."
   ]
  },
  {
   "cell_type": "code",
   "execution_count": 77,
   "metadata": {},
   "outputs": [],
   "source": [
    "include(\"../src/rwth_parser.jl\")\n",
    "network = read_network(\"../data/Scenario_2013.xlsx\")\n",
    "loads = read_loads(\"../data/Scenario_2013.xlsx\")\n",
    "print()"
   ]
  },
  {
   "cell_type": "markdown",
   "metadata": {},
   "source": [
    "Here we limit the demand data to the month of January. This is not required in\n",
    "any way, but it is closer to what we later do in the simulation."
   ]
  },
  {
   "cell_type": "code",
   "execution_count": 66,
   "metadata": {},
   "outputs": [],
   "source": [
    "include(\"../src/loads.jl\")\n",
    "local_loads = remove_non_data_rows(filter_month(loads, 1))\n",
    "print()"
   ]
  },
  {
   "attachments": {},
   "cell_type": "markdown",
   "metadata": {},
   "source": [
    "Next we generate our scenarios. To do that we first need different scenarios for\n",
    "the weather, more specifically the wind and the solar irradiation, and also\n",
    "scenarios for the attacks that happen.  \n",
    "We can configure the number of attack scenarios and weather scenarios we want to\n",
    "generate, as well as the number of rocket attacks per scenario.  \n",
    "\n",
    "We generate wind speed with the help of the Rayleigh distribution with common\n",
    "parameters and solar irradiation with the help of the Beta distribution with\n",
    "common parameters.\n",
    "\n",
    "To generate attack scenarios we expect that busses with a large line capacity\n",
    "connected to them are more likely to be attacked. Therefore we sample N distinct\n",
    "busses from our network, with the probability of a bus being sampled being\n",
    "proportional to the line capacity connected to it."
   ]
  },
  {
   "cell_type": "code",
   "execution_count": 67,
   "metadata": {},
   "outputs": [],
   "source": [
    "include(\"../src/scenarios/generation.jl\")\n",
    "attack_scenarios = generate_attack_scenarios(network, 10, 10000)\n",
    "weather_scenarios = generate_weather_scenarios(10000)\n",
    "print()"
   ]
  },
  {
   "attachments": {},
   "cell_type": "markdown",
   "metadata": {},
   "source": [
    "A model with a high number of scenarios becomes computationally intractable very\n",
    "fast. Therefore we reduce the number of scenarios by clustering them.  \n",
    "For weather and demand we use k-means clustering, for the attacks we use \n",
    "k-medoids clustering, because the attacks are discrete and k-means could\n",
    "result in non-discrete cluster centers.\n",
    "The resulting cluster centers will be our reduced scenarios and the number of original data points assigned to each center will be used as the probability of that scenario."
   ]
  },
  {
   "cell_type": "code",
   "execution_count": 68,
   "metadata": {},
   "outputs": [],
   "source": [
    "include(\"../src/scenarios/reduction.jl\")\n",
    "reduced_attack_scenarios = reduce_binary_scenarios(attack_scenarios, 3)\n",
    "reduced_weather_scenarios = reduce_continous_scenarios(weather_scenarios, 2)\n",
    "reduced_load_scenarios = reduce_continous_scenarios(local_loads, 2)\n",
    "print()"
   ]
  },
  {
   "attachments": {},
   "cell_type": "markdown",
   "metadata": {},
   "source": [
    "Now, we have three datasets containing demand, attack and weather scenarios.\n",
    "A scenario in the final model needs to contain values for each of them.  \n",
    "Therefore in the next step we combine the three datasets into one dataset,\n",
    "by taking the cartesian product of the three datasets. "
   ]
  },
  {
   "cell_type": "code",
   "execution_count": 69,
   "metadata": {},
   "outputs": [],
   "source": [
    "include(\"../src/scenarios/assemble.jl\")\n",
    "scenarios = cartesian_scenarios(\n",
    "    reduced_load_scenarios,\n",
    "    reduced_attack_scenarios,\n",
    "    reduced_weather_scenarios,\n",
    ")\n",
    "print()"
   ]
  },
  {
   "attachments": {},
   "cell_type": "markdown",
   "metadata": {},
   "source": [
    "Until now, we had wind speed and solar irradiation as weather scenarios.\n",
    "However, our model needs to have maximum capacities of the solar power plants\n",
    "and wind turbines. We therefore convert the wind speed and solar irradiation\n",
    "into maximum capacities.  \n",
    "To do that we follow the approach of [Saber et al.](https://ietresearch.onlinelibrary.wiley.com/doi/full/10.1049/iet-gtd.2014.0040).\n",
    "The approach they use and an approximation we do on top of that is described in `./01_1_approximation_renewables.ipynb`."
   ]
  },
  {
   "cell_type": "code",
   "execution_count": 70,
   "metadata": {},
   "outputs": [],
   "source": [
    "scenarios = translate_weather_to_capacity(scenarios, network.generators)\n",
    "print()"
   ]
  },
  {
   "cell_type": "markdown",
   "metadata": {},
   "source": [
    "Before we can finally build the model we need to bring the scenarios into an appriopriate and performance optimized data format."
   ]
  },
  {
   "cell_type": "code",
   "execution_count": 71,
   "metadata": {},
   "outputs": [
    {
     "name": "stdout",
     "output_type": "stream",
     "text": [
      "Number of scenarios: 12"
     ]
    }
   ],
   "source": [
    "scenario_dict = convert_df_to_scenarios(scenarios)\n",
    "print(\"Number of scenarios: $(length(scenario_dict))\")"
   ]
  },
  {
   "attachments": {},
   "cell_type": "markdown",
   "metadata": {},
   "source": [
    "Next we build the model. For a detailed description of the model, read our paper or look at the model in `./model.jl`."
   ]
  },
  {
   "cell_type": "code",
   "execution_count": 72,
   "metadata": {},
   "outputs": [],
   "source": [
    "include(\"../src/model.jl\")\n",
    "dispatch_model = DispatchModel(network, scenario_dict, 10.0)\n",
    "init_model!(dispatch_model)\n",
    "print()"
   ]
  },
  {
   "attachments": {},
   "cell_type": "markdown",
   "metadata": {},
   "source": [
    "Finally, we solve the model."
   ]
  },
  {
   "cell_type": "code",
   "execution_count": 73,
   "metadata": {},
   "outputs": [],
   "source": [
    "t = solve!(dispatch_model)\n",
    "print()"
   ]
  },
  {
   "cell_type": "code",
   "execution_count": 74,
   "metadata": {},
   "outputs": [
    {
     "name": "stdout",
     "output_type": "stream",
     "text": [
      "Objective value: 1744.2195476633603"
     ]
    }
   ],
   "source": [
    "import JuMP\n",
    "print(\"Objective value: $(JuMP.objective_value(dispatch_model.m))\")"
   ]
  }
 ],
 "metadata": {
  "kernelspec": {
   "display_name": "Julia 1.8.5",
   "language": "julia",
   "name": "julia-1.8"
  },
  "language_info": {
   "file_extension": ".jl",
   "mimetype": "application/julia",
   "name": "julia",
   "version": "1.8.5"
  },
  "orig_nbformat": 4,
  "vscode": {
   "interpreter": {
    "hash": "2b108b0b8c917ebb81a97334be15d14f3b5a5c6f3cd31c8db627b5cf9361d105"
   }
  }
 },
 "nbformat": 4,
 "nbformat_minor": 2
}
