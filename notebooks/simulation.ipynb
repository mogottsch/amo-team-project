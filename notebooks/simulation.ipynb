{
 "cells": [
  {
   "cell_type": "code",
   "execution_count": 51,
   "metadata": {},
   "outputs": [
    {
     "name": "stderr",
     "output_type": "stream",
     "text": [
      "\u001b[32m\u001b[1m  Activating\u001b[22m\u001b[39m project at `~/dev/uni/amo-team-project`\n"
     ]
    }
   ],
   "source": [
    "using Pkg;\n",
    "Pkg.activate(\"..\");\n",
    "Pkg.instantiate();"
   ]
  },
  {
   "cell_type": "code",
   "execution_count": 52,
   "metadata": {},
   "outputs": [
    {
     "name": "stdout",
     "output_type": "stream",
     "text": [
      "Set parameter Username\n",
      "Academic license - for non-commercial use only - expires 2024-01-19\n"
     ]
    },
    {
     "data": {
      "text/plain": [
       "push_results! (generic function with 1 method)"
      ]
     },
     "metadata": {},
     "output_type": "display_data"
    }
   ],
   "source": [
    "include(\"../src/process.jl\")"
   ]
  },
  {
   "cell_type": "code",
   "execution_count": 53,
   "metadata": {},
   "outputs": [
    {
     "data": {
      "text/plain": [
       "\"/home/moritz/dev/uni/amo-team-project/data/Scenario_2023A.xlsx\""
      ]
     },
     "metadata": {},
     "output_type": "display_data"
    }
   ],
   "source": [
    "normpath(joinpath(@__DIR__, \"../data/Scenario_2023A.xlsx\"))"
   ]
  },
  {
   "cell_type": "code",
   "execution_count": 54,
   "metadata": {},
   "outputs": [
    {
     "data": {
      "text/plain": [
       "Config([\"../data/Scenario_2013.xlsx\", \"../data/Scenario_2023A.xlsx\", \"../data/Scenario_2023B.xlsx\", \"../data/Scenario_2023C.xlsx\"], 10, 100, 100, 1, 1, 1, 5.0)"
      ]
     },
     "metadata": {},
     "output_type": "display_data"
    }
   ],
   "source": [
    "config = create_config(Dict(\n",
    "\t\"data_source_paths\" => [\n",
    "\t\t\"../data/Scenario_2013.xlsx\", \n",
    "\t\t\"../data/Scenario_2023A.xlsx\", \n",
    "\t\t\"../data/Scenario_2023B.xlsx\", \n",
    "\t\t\"../data/Scenario_2023C.xlsx\", \n",
    "\t],\n",
    "\t\"n_attacks\" => 10,\n",
    "\t\"n_intermediate_attack_scenarios\" => 100,\n",
    "\t\"n_intermediate_weather_scenarios\" => 100,\n",
    "\t\"n_reduced_attack_scenarios\" => 1,\n",
    "\t\"n_reduced_weather_scenarios\" => 1,\n",
    "\t\"n_reduced_load_scenarios\" => 1,\n",
    "\t\"reinforcment_budget\" => 5.0,\n",
    "))"
   ]
  },
  {
   "cell_type": "code",
   "execution_count": 55,
   "metadata": {},
   "outputs": [
    {
     "name": "stdout",
     "output_type": "stream",
     "text": [
      "Initializing environment\n"
     ]
    },
    {
     "name": "stderr",
     "output_type": "stream",
     "text": [
      "\r\u001b[32m../data/Scenario_2013.xlsx  17%|████▏                    |  ETA: 0:00:05\u001b[39m\u001b[K"
     ]
    },
    {
     "name": "stderr",
     "output_type": "stream",
     "text": [
      "\r\u001b[32m../data/Scenario_2013.xlsx  42%|██████████▍              |  ETA: 0:00:02\u001b[39m\u001b[K"
     ]
    },
    {
     "name": "stderr",
     "output_type": "stream",
     "text": [
      "\r\u001b[32m../data/Scenario_2013.xlsx  67%|████████████████▋        |  ETA: 0:00:01\u001b[39m\u001b[K"
     ]
    },
    {
     "name": "stderr",
     "output_type": "stream",
     "text": [
      "\r\u001b[32m../data/Scenario_2013.xlsx 100%|█████████████████████████| Time: 0:00:01\u001b[39m\u001b[K\n"
     ]
    },
    {
     "name": "stderr",
     "output_type": "stream",
     "text": [
      "\r\u001b[32m../data/Scenario_2023A.xlsx  25%|██████                  |  ETA: 0:00:00\u001b[39m\u001b[K"
     ]
    },
    {
     "name": "stderr",
     "output_type": "stream",
     "text": [
      "\r\u001b[32m../data/Scenario_2023A.xlsx  50%|████████████            |  ETA: 0:00:00\u001b[39m\u001b[K"
     ]
    },
    {
     "name": "stderr",
     "output_type": "stream",
     "text": [
      "\r\u001b[32m../data/Scenario_2023A.xlsx  75%|██████████████████      |  ETA: 0:00:00\u001b[39m\u001b[K"
     ]
    },
    {
     "name": "stderr",
     "output_type": "stream",
     "text": [
      "\r\u001b[32m../data/Scenario_2023A.xlsx 100%|████████████████████████| Time: 0:00:00\u001b[39m\u001b[K\n"
     ]
    },
    {
     "name": "stderr",
     "output_type": "stream",
     "text": [
      "\r\u001b[32mProgress:  50%|████████████████████▌                    |  ETA: 0:00:04\u001b[39m\u001b[K"
     ]
    },
    {
     "name": "stderr",
     "output_type": "stream",
     "text": [
      "\r\u001b[32m../data/Scenario_2023B.xlsx  25%|██████                  |  ETA: 0:00:00\u001b[39m\u001b[K"
     ]
    },
    {
     "name": "stderr",
     "output_type": "stream",
     "text": [
      "\r\u001b[32m../data/Scenario_2023B.xlsx  50%|████████████            |  ETA: 0:00:00\u001b[39m\u001b[K"
     ]
    },
    {
     "name": "stderr",
     "output_type": "stream",
     "text": [
      "\r\u001b[32m../data/Scenario_2023B.xlsx  75%|██████████████████      |  ETA: 0:00:00\u001b[39m\u001b[K"
     ]
    },
    {
     "name": "stderr",
     "output_type": "stream",
     "text": [
      "\r\u001b[32m../data/Scenario_2023B.xlsx 100%|████████████████████████| Time: 0:00:00\u001b[39m\u001b[K\n"
     ]
    },
    {
     "name": "stderr",
     "output_type": "stream",
     "text": [
      "\r\u001b[32mProgress:  75%|██████████████████████████████▊          |  ETA: 0:00:02\u001b[39m\u001b[K"
     ]
    },
    {
     "name": "stderr",
     "output_type": "stream",
     "text": [
      "\r\u001b[32m../data/Scenario_2023C.xlsx  25%|██████                  |  ETA: 0:00:00\u001b[39m\u001b[K"
     ]
    },
    {
     "name": "stderr",
     "output_type": "stream",
     "text": [
      "\r\u001b[32m../data/Scenario_2023C.xlsx  50%|████████████            |  ETA: 0:00:00\u001b[39m\u001b[K"
     ]
    },
    {
     "name": "stderr",
     "output_type": "stream",
     "text": [
      "\r\u001b[32m../data/Scenario_2023C.xlsx  67%|████████████████        |  ETA: 0:00:00\u001b[39m\u001b[K"
     ]
    },
    {
     "name": "stderr",
     "output_type": "stream",
     "text": [
      "\r\u001b[32m../data/Scenario_2023C.xlsx  83%|████████████████████    |  ETA: 0:00:00\u001b[39m\u001b[K"
     ]
    },
    {
     "name": "stderr",
     "output_type": "stream",
     "text": [
      "\r\u001b[32m../data/Scenario_2023C.xlsx 100%|████████████████████████| Time: 0:00:00\u001b[39m\u001b[K\n"
     ]
    },
    {
     "name": "stderr",
     "output_type": "stream",
     "text": [
      "\r\u001b[32mProgress: 100%|█████████████████████████████████████████| Time: 0:00:06\u001b[39m\u001b[K\n"
     ]
    }
   ],
   "source": [
    "results = run_simulation(config)\n",
    "print()"
   ]
  },
  {
   "cell_type": "code",
   "execution_count": 64,
   "metadata": {},
   "outputs": [
    {
     "data": {
      "text/html": [
       "<div><div style = \"float: left;\"><span>4×4 DataFrame</span></div><div style = \"clear: both;\"></div></div><div class = \"data-frame\" style = \"overflow-x: scroll;\"><table class = \"data-frame\" style = \"margin-bottom: 6px;\"><thead><tr class = \"header\"><th class = \"rowNumber\" style = \"font-weight: bold; text-align: right;\">Row</th><th style = \"text-align: left;\">source_path</th><th style = \"text-align: left;\">objective_value_sum</th><th style = \"text-align: left;\">solve_time_sum</th><th style = \"text-align: left;\">mean_load_mean</th></tr><tr class = \"subheader headerLastRow\"><th class = \"rowNumber\" style = \"font-weight: bold; text-align: right;\"></th><th title = \"String\" style = \"text-align: left;\">String</th><th title = \"Float64\" style = \"text-align: left;\">Float64</th><th title = \"Float64\" style = \"text-align: left;\">Float64</th><th title = \"Float64\" style = \"text-align: left;\">Float64</th></tr></thead><tbody><tr><td class = \"rowNumber\" style = \"font-weight: bold; text-align: right;\">1</td><td style = \"text-align: left;\">../data/Scenario_2023C.xlsx</td><td style = \"text-align: right;\">6974.3</td><td style = \"text-align: right;\">0.452664</td><td style = \"text-align: right;\">18640.5</td></tr><tr><td class = \"rowNumber\" style = \"font-weight: bold; text-align: right;\">2</td><td style = \"text-align: left;\">../data/Scenario_2023B.xlsx</td><td style = \"text-align: right;\">7406.83</td><td style = \"text-align: right;\">0.367836</td><td style = \"text-align: right;\">18640.5</td></tr><tr><td class = \"rowNumber\" style = \"font-weight: bold; text-align: right;\">3</td><td style = \"text-align: left;\">../data/Scenario_2023A.xlsx</td><td style = \"text-align: right;\">7423.52</td><td style = \"text-align: right;\">0.352288</td><td style = \"text-align: right;\">18640.5</td></tr><tr><td class = \"rowNumber\" style = \"font-weight: bold; text-align: right;\">4</td><td style = \"text-align: left;\">../data/Scenario_2013.xlsx</td><td style = \"text-align: right;\">7915.91</td><td style = \"text-align: right;\">0.389785</td><td style = \"text-align: right;\">18640.5</td></tr></tbody></table></div>"
      ],
      "text/latex": [
       "\\begin{tabular}{r|cccc}\n",
       "\t& source\\_path & objective\\_value\\_sum & solve\\_time\\_sum & mean\\_load\\_mean\\\\\n",
       "\t\\hline\n",
       "\t& String & Float64 & Float64 & Float64\\\\\n",
       "\t\\hline\n",
       "\t1 & ../data/Scenario\\_2023C.xlsx & 6974.3 & 0.452664 & 18640.5 \\\\\n",
       "\t2 & ../data/Scenario\\_2023B.xlsx & 7406.83 & 0.367836 & 18640.5 \\\\\n",
       "\t3 & ../data/Scenario\\_2023A.xlsx & 7423.52 & 0.352288 & 18640.5 \\\\\n",
       "\t4 & ../data/Scenario\\_2013.xlsx & 7915.91 & 0.389785 & 18640.5 \\\\\n",
       "\\end{tabular}\n"
      ],
      "text/plain": [
       "\u001b[1m4×4 DataFrame\u001b[0m\n",
       "\u001b[1m Row \u001b[0m│\u001b[1m source_path                 \u001b[0m\u001b[1m objective_value_sum \u001b[0m\u001b[1m solve_time_sum \u001b[0m\u001b[1m mean_\u001b[0m ⋯\n",
       "     │\u001b[90m String                      \u001b[0m\u001b[90m Float64             \u001b[0m\u001b[90m Float64        \u001b[0m\u001b[90m Float\u001b[0m ⋯\n",
       "─────┼──────────────────────────────────────────────────────────────────────────\n",
       "   1 │ ../data/Scenario_2023C.xlsx              6974.3         0.452664        ⋯\n",
       "   2 │ ../data/Scenario_2023B.xlsx              7406.83        0.367836\n",
       "   3 │ ../data/Scenario_2023A.xlsx              7423.52        0.352288\n",
       "   4 │ ../data/Scenario_2013.xlsx               7915.91        0.389785\n",
       "\u001b[36m                                                                1 column omitted\u001b[0m"
      ]
     },
     "metadata": {},
     "output_type": "display_data"
    }
   ],
   "source": [
    "groupby_col(results, :source_path)"
   ]
  },
  {
   "cell_type": "code",
   "execution_count": 56,
   "metadata": {},
   "outputs": [],
   "source": []
  },
  {
   "cell_type": "code",
   "execution_count": 65,
   "metadata": {},
   "outputs": [
    {
     "data": {
      "text/plain": [
       "read_results_from_dir (generic function with 1 method)"
      ]
     },
     "metadata": {},
     "output_type": "display_data"
    }
   ],
   "source": [
    "include(\"../src/results.jl\")"
   ]
  },
  {
   "cell_type": "code",
   "execution_count": 70,
   "metadata": {},
   "outputs": [
    {
     "data": {
      "text/html": [
       "<div><div style = \"float: left;\"><span>48×6 DataFrame</span></div><div style = \"float: right;\"><span style = \"font-style: italic;\">23 rows omitted</span></div><div style = \"clear: both;\"></div></div><div class = \"data-frame\" style = \"overflow-x: scroll;\"><table class = \"data-frame\" style = \"margin-bottom: 6px;\"><thead><tr class = \"header\"><th class = \"rowNumber\" style = \"font-weight: bold; text-align: right;\">Row</th><th style = \"text-align: left;\">source_path</th><th style = \"text-align: left;\">month</th><th style = \"text-align: left;\">termination_status</th><th style = \"text-align: left;\">objective_value</th><th style = \"text-align: left;\">solve_time</th><th style = \"text-align: left;\">mean_load</th></tr><tr class = \"subheader headerLastRow\"><th class = \"rowNumber\" style = \"font-weight: bold; text-align: right;\"></th><th title = \"String\" style = \"text-align: left;\">String</th><th title = \"Int64\" style = \"text-align: left;\">Int64</th><th title = \"InlineStrings.String7\" style = \"text-align: left;\">String7</th><th title = \"Float64\" style = \"text-align: left;\">Float64</th><th title = \"Float64\" style = \"text-align: left;\">Float64</th><th title = \"Float64\" style = \"text-align: left;\">Float64</th></tr></thead><tbody><tr><td class = \"rowNumber\" style = \"font-weight: bold; text-align: right;\">1</td><td style = \"text-align: left;\">/home/moritz/dev/uni/amo-team-project/data/Scenario_2013.xlsx</td><td style = \"text-align: right;\">1</td><td style = \"text-align: left;\">OPTIMAL</td><td style = \"text-align: right;\">1326.57</td><td style = \"text-align: right;\">21.9541</td><td style = \"text-align: right;\">19260.0</td></tr><tr><td class = \"rowNumber\" style = \"font-weight: bold; text-align: right;\">2</td><td style = \"text-align: left;\">/home/moritz/dev/uni/amo-team-project/data/Scenario_2013.xlsx</td><td style = \"text-align: right;\">2</td><td style = \"text-align: left;\">OPTIMAL</td><td style = \"text-align: right;\">1762.93</td><td style = \"text-align: right;\">47.867</td><td style = \"text-align: right;\">20731.4</td></tr><tr><td class = \"rowNumber\" style = \"font-weight: bold; text-align: right;\">3</td><td style = \"text-align: left;\">/home/moritz/dev/uni/amo-team-project/data/Scenario_2013.xlsx</td><td style = \"text-align: right;\">3</td><td style = \"text-align: left;\">OPTIMAL</td><td style = \"text-align: right;\">1752.68</td><td style = \"text-align: right;\">30.7019</td><td style = \"text-align: right;\">19624.1</td></tr><tr><td class = \"rowNumber\" style = \"font-weight: bold; text-align: right;\">4</td><td style = \"text-align: left;\">/home/moritz/dev/uni/amo-team-project/data/Scenario_2013.xlsx</td><td style = \"text-align: right;\">4</td><td style = \"text-align: left;\">OPTIMAL</td><td style = \"text-align: right;\">1351.79</td><td style = \"text-align: right;\">23.9713</td><td style = \"text-align: right;\">17939.6</td></tr><tr><td class = \"rowNumber\" style = \"font-weight: bold; text-align: right;\">5</td><td style = \"text-align: left;\">/home/moritz/dev/uni/amo-team-project/data/Scenario_2013.xlsx</td><td style = \"text-align: right;\">5</td><td style = \"text-align: left;\">OPTIMAL</td><td style = \"text-align: right;\">1471.79</td><td style = \"text-align: right;\">33.4169</td><td style = \"text-align: right;\">17029.5</td></tr><tr><td class = \"rowNumber\" style = \"font-weight: bold; text-align: right;\">6</td><td style = \"text-align: left;\">/home/moritz/dev/uni/amo-team-project/data/Scenario_2013.xlsx</td><td style = \"text-align: right;\">6</td><td style = \"text-align: left;\">OPTIMAL</td><td style = \"text-align: right;\">1269.35</td><td style = \"text-align: right;\">42.0836</td><td style = \"text-align: right;\">17360.1</td></tr><tr><td class = \"rowNumber\" style = \"font-weight: bold; text-align: right;\">7</td><td style = \"text-align: left;\">/home/moritz/dev/uni/amo-team-project/data/Scenario_2013.xlsx</td><td style = \"text-align: right;\">7</td><td style = \"text-align: left;\">OPTIMAL</td><td style = \"text-align: right;\">1517.32</td><td style = \"text-align: right;\">38.2091</td><td style = \"text-align: right;\">16674.4</td></tr><tr><td class = \"rowNumber\" style = \"font-weight: bold; text-align: right;\">8</td><td style = \"text-align: left;\">/home/moritz/dev/uni/amo-team-project/data/Scenario_2013.xlsx</td><td style = \"text-align: right;\">8</td><td style = \"text-align: left;\">OPTIMAL</td><td style = \"text-align: right;\">1234.5</td><td style = \"text-align: right;\">29.0792</td><td style = \"text-align: right;\">17504.6</td></tr><tr><td class = \"rowNumber\" style = \"font-weight: bold; text-align: right;\">9</td><td style = \"text-align: left;\">/home/moritz/dev/uni/amo-team-project/data/Scenario_2013.xlsx</td><td style = \"text-align: right;\">9</td><td style = \"text-align: left;\">OPTIMAL</td><td style = \"text-align: right;\">1353.82</td><td style = \"text-align: right;\">23.3766</td><td style = \"text-align: right;\">17769.0</td></tr><tr><td class = \"rowNumber\" style = \"font-weight: bold; text-align: right;\">10</td><td style = \"text-align: left;\">/home/moritz/dev/uni/amo-team-project/data/Scenario_2013.xlsx</td><td style = \"text-align: right;\">10</td><td style = \"text-align: left;\">OPTIMAL</td><td style = \"text-align: right;\">1252.65</td><td style = \"text-align: right;\">26.4615</td><td style = \"text-align: right;\">18629.2</td></tr><tr><td class = \"rowNumber\" style = \"font-weight: bold; text-align: right;\">11</td><td style = \"text-align: left;\">/home/moritz/dev/uni/amo-team-project/data/Scenario_2013.xlsx</td><td style = \"text-align: right;\">11</td><td style = \"text-align: left;\">OPTIMAL</td><td style = \"text-align: right;\">1421.74</td><td style = \"text-align: right;\">26.8768</td><td style = \"text-align: right;\">18643.2</td></tr><tr><td class = \"rowNumber\" style = \"font-weight: bold; text-align: right;\">12</td><td style = \"text-align: left;\">/home/moritz/dev/uni/amo-team-project/data/Scenario_2013.xlsx</td><td style = \"text-align: right;\">12</td><td style = \"text-align: left;\">OPTIMAL</td><td style = \"text-align: right;\">1325.14</td><td style = \"text-align: right;\">25.8256</td><td style = \"text-align: right;\">17603.1</td></tr><tr><td class = \"rowNumber\" style = \"font-weight: bold; text-align: right;\">13</td><td style = \"text-align: left;\">/home/moritz/dev/uni/amo-team-project/data/Scenario_2023A.xlsx</td><td style = \"text-align: right;\">1</td><td style = \"text-align: left;\">OPTIMAL</td><td style = \"text-align: right;\">1293.83</td><td style = \"text-align: right;\">11.5826</td><td style = \"text-align: right;\">19260.0</td></tr><tr><td style = \"text-align: right;\">&vellip;</td><td style = \"text-align: right;\">&vellip;</td><td style = \"text-align: right;\">&vellip;</td><td style = \"text-align: right;\">&vellip;</td><td style = \"text-align: right;\">&vellip;</td><td style = \"text-align: right;\">&vellip;</td><td style = \"text-align: right;\">&vellip;</td></tr><tr><td class = \"rowNumber\" style = \"font-weight: bold; text-align: right;\">37</td><td style = \"text-align: left;\">/home/moritz/dev/uni/amo-team-project/data/Scenario_2023C.xlsx</td><td style = \"text-align: right;\">1</td><td style = \"text-align: left;\">OPTIMAL</td><td style = \"text-align: right;\">1249.59</td><td style = \"text-align: right;\">16.7326</td><td style = \"text-align: right;\">19260.0</td></tr><tr><td class = \"rowNumber\" style = \"font-weight: bold; text-align: right;\">38</td><td style = \"text-align: left;\">/home/moritz/dev/uni/amo-team-project/data/Scenario_2023C.xlsx</td><td style = \"text-align: right;\">2</td><td style = \"text-align: left;\">OPTIMAL</td><td style = \"text-align: right;\">1274.48</td><td style = \"text-align: right;\">12.3202</td><td style = \"text-align: right;\">20731.4</td></tr><tr><td class = \"rowNumber\" style = \"font-weight: bold; text-align: right;\">39</td><td style = \"text-align: left;\">/home/moritz/dev/uni/amo-team-project/data/Scenario_2023C.xlsx</td><td style = \"text-align: right;\">3</td><td style = \"text-align: left;\">OPTIMAL</td><td style = \"text-align: right;\">1167.0</td><td style = \"text-align: right;\">14.977</td><td style = \"text-align: right;\">19624.1</td></tr><tr><td class = \"rowNumber\" style = \"font-weight: bold; text-align: right;\">40</td><td style = \"text-align: left;\">/home/moritz/dev/uni/amo-team-project/data/Scenario_2023C.xlsx</td><td style = \"text-align: right;\">4</td><td style = \"text-align: left;\">OPTIMAL</td><td style = \"text-align: right;\">1207.14</td><td style = \"text-align: right;\">21.0588</td><td style = \"text-align: right;\">17939.6</td></tr><tr><td class = \"rowNumber\" style = \"font-weight: bold; text-align: right;\">41</td><td style = \"text-align: left;\">/home/moritz/dev/uni/amo-team-project/data/Scenario_2023C.xlsx</td><td style = \"text-align: right;\">5</td><td style = \"text-align: left;\">OPTIMAL</td><td style = \"text-align: right;\">844.391</td><td style = \"text-align: right;\">19.9215</td><td style = \"text-align: right;\">17029.5</td></tr><tr><td class = \"rowNumber\" style = \"font-weight: bold; text-align: right;\">42</td><td style = \"text-align: left;\">/home/moritz/dev/uni/amo-team-project/data/Scenario_2023C.xlsx</td><td style = \"text-align: right;\">6</td><td style = \"text-align: left;\">OPTIMAL</td><td style = \"text-align: right;\">1293.91</td><td style = \"text-align: right;\">20.2194</td><td style = \"text-align: right;\">17360.1</td></tr><tr><td class = \"rowNumber\" style = \"font-weight: bold; text-align: right;\">43</td><td style = \"text-align: left;\">/home/moritz/dev/uni/amo-team-project/data/Scenario_2023C.xlsx</td><td style = \"text-align: right;\">7</td><td style = \"text-align: left;\">OPTIMAL</td><td style = \"text-align: right;\">978.514</td><td style = \"text-align: right;\">19.7677</td><td style = \"text-align: right;\">16674.4</td></tr><tr><td class = \"rowNumber\" style = \"font-weight: bold; text-align: right;\">44</td><td style = \"text-align: left;\">/home/moritz/dev/uni/amo-team-project/data/Scenario_2023C.xlsx</td><td style = \"text-align: right;\">8</td><td style = \"text-align: left;\">OPTIMAL</td><td style = \"text-align: right;\">957.381</td><td style = \"text-align: right;\">13.9804</td><td style = \"text-align: right;\">17504.6</td></tr><tr><td class = \"rowNumber\" style = \"font-weight: bold; text-align: right;\">45</td><td style = \"text-align: left;\">/home/moritz/dev/uni/amo-team-project/data/Scenario_2023C.xlsx</td><td style = \"text-align: right;\">9</td><td style = \"text-align: left;\">OPTIMAL</td><td style = \"text-align: right;\">1172.45</td><td style = \"text-align: right;\">16.5404</td><td style = \"text-align: right;\">17769.0</td></tr><tr><td class = \"rowNumber\" style = \"font-weight: bold; text-align: right;\">46</td><td style = \"text-align: left;\">/home/moritz/dev/uni/amo-team-project/data/Scenario_2023C.xlsx</td><td style = \"text-align: right;\">10</td><td style = \"text-align: left;\">OPTIMAL</td><td style = \"text-align: right;\">1285.08</td><td style = \"text-align: right;\">19.6865</td><td style = \"text-align: right;\">18629.2</td></tr><tr><td class = \"rowNumber\" style = \"font-weight: bold; text-align: right;\">47</td><td style = \"text-align: left;\">/home/moritz/dev/uni/amo-team-project/data/Scenario_2023C.xlsx</td><td style = \"text-align: right;\">11</td><td style = \"text-align: left;\">OPTIMAL</td><td style = \"text-align: right;\">1115.07</td><td style = \"text-align: right;\">12.4763</td><td style = \"text-align: right;\">18643.2</td></tr><tr><td class = \"rowNumber\" style = \"font-weight: bold; text-align: right;\">48</td><td style = \"text-align: left;\">/home/moritz/dev/uni/amo-team-project/data/Scenario_2023C.xlsx</td><td style = \"text-align: right;\">12</td><td style = \"text-align: left;\">OPTIMAL</td><td style = \"text-align: right;\">1274.51</td><td style = \"text-align: right;\">18.9071</td><td style = \"text-align: right;\">17603.1</td></tr></tbody></table></div>"
      ],
      "text/latex": [
       "\\begin{tabular}{r|cccc}\n",
       "\t& source\\_path & month & termination\\_status & \\\\\n",
       "\t\\hline\n",
       "\t& String & Int64 & String7 & \\\\\n",
       "\t\\hline\n",
       "\t1 & /home/moritz/dev/uni/amo-team-project/data/Scenario\\_2013.xlsx & 1 & OPTIMAL & $\\dots$ \\\\\n",
       "\t2 & /home/moritz/dev/uni/amo-team-project/data/Scenario\\_2013.xlsx & 2 & OPTIMAL & $\\dots$ \\\\\n",
       "\t3 & /home/moritz/dev/uni/amo-team-project/data/Scenario\\_2013.xlsx & 3 & OPTIMAL & $\\dots$ \\\\\n",
       "\t4 & /home/moritz/dev/uni/amo-team-project/data/Scenario\\_2013.xlsx & 4 & OPTIMAL & $\\dots$ \\\\\n",
       "\t5 & /home/moritz/dev/uni/amo-team-project/data/Scenario\\_2013.xlsx & 5 & OPTIMAL & $\\dots$ \\\\\n",
       "\t6 & /home/moritz/dev/uni/amo-team-project/data/Scenario\\_2013.xlsx & 6 & OPTIMAL & $\\dots$ \\\\\n",
       "\t7 & /home/moritz/dev/uni/amo-team-project/data/Scenario\\_2013.xlsx & 7 & OPTIMAL & $\\dots$ \\\\\n",
       "\t8 & /home/moritz/dev/uni/amo-team-project/data/Scenario\\_2013.xlsx & 8 & OPTIMAL & $\\dots$ \\\\\n",
       "\t9 & /home/moritz/dev/uni/amo-team-project/data/Scenario\\_2013.xlsx & 9 & OPTIMAL & $\\dots$ \\\\\n",
       "\t10 & /home/moritz/dev/uni/amo-team-project/data/Scenario\\_2013.xlsx & 10 & OPTIMAL & $\\dots$ \\\\\n",
       "\t11 & /home/moritz/dev/uni/amo-team-project/data/Scenario\\_2013.xlsx & 11 & OPTIMAL & $\\dots$ \\\\\n",
       "\t12 & /home/moritz/dev/uni/amo-team-project/data/Scenario\\_2013.xlsx & 12 & OPTIMAL & $\\dots$ \\\\\n",
       "\t13 & /home/moritz/dev/uni/amo-team-project/data/Scenario\\_2023A.xlsx & 1 & OPTIMAL & $\\dots$ \\\\\n",
       "\t14 & /home/moritz/dev/uni/amo-team-project/data/Scenario\\_2023A.xlsx & 2 & OPTIMAL & $\\dots$ \\\\\n",
       "\t15 & /home/moritz/dev/uni/amo-team-project/data/Scenario\\_2023A.xlsx & 3 & OPTIMAL & $\\dots$ \\\\\n",
       "\t16 & /home/moritz/dev/uni/amo-team-project/data/Scenario\\_2023A.xlsx & 4 & OPTIMAL & $\\dots$ \\\\\n",
       "\t17 & /home/moritz/dev/uni/amo-team-project/data/Scenario\\_2023A.xlsx & 5 & OPTIMAL & $\\dots$ \\\\\n",
       "\t18 & /home/moritz/dev/uni/amo-team-project/data/Scenario\\_2023A.xlsx & 6 & OPTIMAL & $\\dots$ \\\\\n",
       "\t19 & /home/moritz/dev/uni/amo-team-project/data/Scenario\\_2023A.xlsx & 7 & OPTIMAL & $\\dots$ \\\\\n",
       "\t20 & /home/moritz/dev/uni/amo-team-project/data/Scenario\\_2023A.xlsx & 8 & OPTIMAL & $\\dots$ \\\\\n",
       "\t21 & /home/moritz/dev/uni/amo-team-project/data/Scenario\\_2023A.xlsx & 9 & OPTIMAL & $\\dots$ \\\\\n",
       "\t22 & /home/moritz/dev/uni/amo-team-project/data/Scenario\\_2023A.xlsx & 10 & OPTIMAL & $\\dots$ \\\\\n",
       "\t23 & /home/moritz/dev/uni/amo-team-project/data/Scenario\\_2023A.xlsx & 11 & OPTIMAL & $\\dots$ \\\\\n",
       "\t24 & /home/moritz/dev/uni/amo-team-project/data/Scenario\\_2023A.xlsx & 12 & OPTIMAL & $\\dots$ \\\\\n",
       "\t$\\dots$ & $\\dots$ & $\\dots$ & $\\dots$ &  \\\\\n",
       "\\end{tabular}\n"
      ],
      "text/plain": [
       "\u001b[1m48×6 DataFrame\u001b[0m\n",
       "\u001b[1m Row \u001b[0m│\u001b[1m source_path                       \u001b[0m\u001b[1m month \u001b[0m\u001b[1m termination_status \u001b[0m\u001b[1m objective\u001b[0m ⋯\n",
       "     │\u001b[90m String                            \u001b[0m\u001b[90m Int64 \u001b[0m\u001b[90m String7            \u001b[0m\u001b[90m Float64  \u001b[0m ⋯\n",
       "─────┼──────────────────────────────────────────────────────────────────────────\n",
       "   1 │ /home/moritz/dev/uni/amo-team-pr…      1  OPTIMAL                    13 ⋯\n",
       "   2 │ /home/moritz/dev/uni/amo-team-pr…      2  OPTIMAL                    17\n",
       "   3 │ /home/moritz/dev/uni/amo-team-pr…      3  OPTIMAL                    17\n",
       "   4 │ /home/moritz/dev/uni/amo-team-pr…      4  OPTIMAL                    13\n",
       "   5 │ /home/moritz/dev/uni/amo-team-pr…      5  OPTIMAL                    14 ⋯\n",
       "   6 │ /home/moritz/dev/uni/amo-team-pr…      6  OPTIMAL                    12\n",
       "   7 │ /home/moritz/dev/uni/amo-team-pr…      7  OPTIMAL                    15\n",
       "   8 │ /home/moritz/dev/uni/amo-team-pr…      8  OPTIMAL                    12\n",
       "  ⋮  │                 ⋮                    ⋮            ⋮                  ⋮  ⋱\n",
       "  42 │ /home/moritz/dev/uni/amo-team-pr…      6  OPTIMAL                    12 ⋯\n",
       "  43 │ /home/moritz/dev/uni/amo-team-pr…      7  OPTIMAL                     9\n",
       "  44 │ /home/moritz/dev/uni/amo-team-pr…      8  OPTIMAL                     9\n",
       "  45 │ /home/moritz/dev/uni/amo-team-pr…      9  OPTIMAL                    11\n",
       "  46 │ /home/moritz/dev/uni/amo-team-pr…     10  OPTIMAL                    12 ⋯\n",
       "  47 │ /home/moritz/dev/uni/amo-team-pr…     11  OPTIMAL                    11\n",
       "  48 │ /home/moritz/dev/uni/amo-team-pr…     12  OPTIMAL                    12\n",
       "\u001b[36m                                                   3 columns and 33 rows omitted\u001b[0m"
      ]
     },
     "metadata": {},
     "output_type": "display_data"
    }
   ],
   "source": [
    "res = read_results_from_dir(\"../results/100_gen_focus\")"
   ]
  },
  {
   "cell_type": "code",
   "execution_count": 71,
   "metadata": {},
   "outputs": [
    {
     "data": {
      "text/html": [
       "<div><div style = \"float: left;\"><span>4×4 DataFrame</span></div><div style = \"clear: both;\"></div></div><div class = \"data-frame\" style = \"overflow-x: scroll;\"><table class = \"data-frame\" style = \"margin-bottom: 6px;\"><thead><tr class = \"header\"><th class = \"rowNumber\" style = \"font-weight: bold; text-align: right;\">Row</th><th style = \"text-align: left;\">source_path</th><th style = \"text-align: left;\">objective_value_sum</th><th style = \"text-align: left;\">solve_time_sum</th><th style = \"text-align: left;\">mean_load_mean</th></tr><tr class = \"subheader headerLastRow\"><th class = \"rowNumber\" style = \"font-weight: bold; text-align: right;\"></th><th title = \"String\" style = \"text-align: left;\">String</th><th title = \"Float64\" style = \"text-align: left;\">Float64</th><th title = \"Float64\" style = \"text-align: left;\">Float64</th><th title = \"Float64\" style = \"text-align: left;\">Float64</th></tr></thead><tbody><tr><td class = \"rowNumber\" style = \"font-weight: bold; text-align: right;\">1</td><td style = \"text-align: left;\">/home/moritz/dev/uni/amo-team-project/data/Scenario_2023B.xlsx</td><td style = \"text-align: right;\">13339.6</td><td style = \"text-align: right;\">180.394</td><td style = \"text-align: right;\">18230.7</td></tr><tr><td class = \"rowNumber\" style = \"font-weight: bold; text-align: right;\">2</td><td style = \"text-align: left;\">/home/moritz/dev/uni/amo-team-project/data/Scenario_2023C.xlsx</td><td style = \"text-align: right;\">13819.5</td><td style = \"text-align: right;\">206.588</td><td style = \"text-align: right;\">18230.7</td></tr><tr><td class = \"rowNumber\" style = \"font-weight: bold; text-align: right;\">3</td><td style = \"text-align: left;\">/home/moritz/dev/uni/amo-team-project/data/Scenario_2023A.xlsx</td><td style = \"text-align: right;\">14222.5</td><td style = \"text-align: right;\">202.566</td><td style = \"text-align: right;\">18230.7</td></tr><tr><td class = \"rowNumber\" style = \"font-weight: bold; text-align: right;\">4</td><td style = \"text-align: left;\">/home/moritz/dev/uni/amo-team-project/data/Scenario_2013.xlsx</td><td style = \"text-align: right;\">17040.3</td><td style = \"text-align: right;\">369.824</td><td style = \"text-align: right;\">18230.7</td></tr></tbody></table></div>"
      ],
      "text/latex": [
       "\\begin{tabular}{r|ccc}\n",
       "\t& source\\_path & objective\\_value\\_sum & \\\\\n",
       "\t\\hline\n",
       "\t& String & Float64 & \\\\\n",
       "\t\\hline\n",
       "\t1 & /home/moritz/dev/uni/amo-team-project/data/Scenario\\_2023B.xlsx & 13339.6 & $\\dots$ \\\\\n",
       "\t2 & /home/moritz/dev/uni/amo-team-project/data/Scenario\\_2023C.xlsx & 13819.5 & $\\dots$ \\\\\n",
       "\t3 & /home/moritz/dev/uni/amo-team-project/data/Scenario\\_2023A.xlsx & 14222.5 & $\\dots$ \\\\\n",
       "\t4 & /home/moritz/dev/uni/amo-team-project/data/Scenario\\_2013.xlsx & 17040.3 & $\\dots$ \\\\\n",
       "\\end{tabular}\n"
      ],
      "text/plain": [
       "\u001b[1m4×4 DataFrame\u001b[0m\n",
       "\u001b[1m Row \u001b[0m│\u001b[1m source_path                       \u001b[0m\u001b[1m objective_value_sum \u001b[0m\u001b[1m solve_time_sum \u001b[0m\u001b[1m\u001b[0m ⋯\n",
       "     │\u001b[90m String                            \u001b[0m\u001b[90m Float64             \u001b[0m\u001b[90m Float64        \u001b[0m\u001b[90m\u001b[0m ⋯\n",
       "─────┼──────────────────────────────────────────────────────────────────────────\n",
       "   1 │ /home/moritz/dev/uni/amo-team-pr…              13339.6         180.394  ⋯\n",
       "   2 │ /home/moritz/dev/uni/amo-team-pr…              13819.5         206.588\n",
       "   3 │ /home/moritz/dev/uni/amo-team-pr…              14222.5         202.566\n",
       "   4 │ /home/moritz/dev/uni/amo-team-pr…              17040.3         369.824\n",
       "\u001b[36m                                                                1 column omitted\u001b[0m"
      ]
     },
     "metadata": {},
     "output_type": "display_data"
    }
   ],
   "source": [
    "groupby_col(res, :source_path)"
   ]
  },
  {
   "cell_type": "code",
   "execution_count": 60,
   "metadata": {},
   "outputs": [
    {
     "data": {
      "text/plain": [
       ":rf"
      ]
     },
     "metadata": {},
     "output_type": "display_data"
    }
   ],
   "source": [
    "t = :r\n",
    "Symbol(t, :f)"
   ]
  },
  {
   "cell_type": "code",
   "execution_count": 61,
   "metadata": {},
   "outputs": [
    {
     "data": {
      "text/plain": [
       "\"../results/test/all_results.csv\""
      ]
     },
     "metadata": {},
     "output_type": "display_data"
    }
   ],
   "source": [
    "store_results_in_dir(results, \"../results/test/\")"
   ]
  },
  {
   "cell_type": "code",
   "execution_count": 62,
   "metadata": {},
   "outputs": [
    {
     "ename": "SystemError",
     "evalue": "SystemError: opening file \"../results/test/config.json\": No such file or directory",
     "output_type": "error",
     "traceback": [
      "SystemError: opening file \"../results/test/config.json\": No such file or directory\n",
      "\n",
      "Stacktrace:\n",
      " [1] open\n",
      "   @ ./iostream.jl:275 [inlined]\n",
      " [2] open(f::JSON.Parser.var\"#4#5\"{DataType, DataType, Nothing, Bool, Bool, Int64}, args::String; kwargs::Base.Pairs{Symbol, Union{}, Tuple{}, NamedTuple{(), Tuple{}}})\n",
      "   @ Base ./io.jl:382\n",
      " [3] open\n",
      "   @ ./io.jl:381 [inlined]\n",
      " [4] #parsefile#3\n",
      "   @ ~/.julia/packages/JSON/NeJ9k/src/Parser.jl:509 [inlined]\n",
      " [5] parsefile\n",
      "   @ ~/.julia/packages/JSON/NeJ9k/src/Parser.jl:502 [inlined]\n",
      " [6] read_config(path::String)\n",
      "   @ Main ~/dev/uni/amo-team-project/src/process.jl:30\n",
      " [7] top-level scope\n",
      "   @ ~/dev/uni/amo-team-project/notebooks/simulation.ipynb:1"
     ]
    }
   ],
   "source": [
    "read_config(\"../results/test/config.json\")"
   ]
  }
 ],
 "metadata": {
  "kernelspec": {
   "display_name": "Julia 1.8.5",
   "language": "julia",
   "name": "julia-1.8"
  },
  "language_info": {
   "file_extension": ".jl",
   "mimetype": "application/julia",
   "name": "julia",
   "version": "1.8.5"
  }
 },
 "nbformat": 4,
 "nbformat_minor": 2
}
