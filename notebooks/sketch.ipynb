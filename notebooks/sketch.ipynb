{
 "cells": [
  {
   "cell_type": "code",
   "execution_count": 1,
   "metadata": {},
   "outputs": [
    {
     "name": "stderr",
     "output_type": "stream",
     "text": [
      "\u001b[32m\u001b[1m  Activating\u001b[22m\u001b[39m project at `~/dev/uni/amo-team-project`\n"
     ]
    }
   ],
   "source": [
    "using Pkg;\n",
    "Pkg.activate(\"..\");\n",
    "Pkg.instantiate();"
   ]
  },
  {
   "cell_type": "code",
   "execution_count": 2,
   "metadata": {},
   "outputs": [
    {
     "name": "stdout",
     "output_type": "stream",
     "text": [
      "Set parameter Username\n",
      "Academic license - for non-commercial use only - expires 2024-01-19\n"
     ]
    },
    {
     "data": {
      "text/plain": [
       "Gurobi.Env(Ptr{Nothing} @0x000056537e27b0c0, false, 0)"
      ]
     },
     "metadata": {},
     "output_type": "display_data"
    }
   ],
   "source": [
    "# Pkg.add(\"Gurobi\");\n",
    "# Pkg.build(\"Gurobi\");\n",
    "import Gurobi\n",
    "GRB_ENV = Gurobi.Env()"
   ]
  },
  {
   "cell_type": "code",
   "execution_count": 3,
   "metadata": {},
   "outputs": [],
   "source": [
    "# using HiGHS\n",
    "# using JuMP\n",
    "# using Ipopt\n",
    "# using DataFrames\n",
    "# using JSON\n",
    "# using Plots\n",
    "# using StatsPlots\n",
    "# using StatsBase\n",
    "# using BenchmarkTools\n",
    "# using Distributions\n",
    "# using Distances"
   ]
  },
  {
   "cell_type": "code",
   "execution_count": 94,
   "metadata": {},
   "outputs": [],
   "source": [
    "include(\"../src/rwth_parser.jl\")\n",
    "network = read_network(\"../data/Scenario_2013.xlsx\")\n",
    "loads  = read_loads(\"../data/Scenario_2013.xlsx\")\n",
    "print()"
   ]
  },
  {
   "cell_type": "code",
   "execution_count": 95,
   "metadata": {},
   "outputs": [],
   "source": [
    "include(\"../src/loads.jl\")\n",
    "local_loads = remove_non_data_rows(filter_month(loads, 1))\n",
    "print()"
   ]
  },
  {
   "cell_type": "code",
   "execution_count": 96,
   "metadata": {},
   "outputs": [],
   "source": [
    "include(\"../src/scenarios/generation.jl\")\n",
    "attack_scenarios = generate_attack_scenarios(network, 10, 1000)\n",
    "weather_scenarios = generate_weather_scenarios(1000)\n",
    "print()"
   ]
  },
  {
   "cell_type": "code",
   "execution_count": 97,
   "metadata": {},
   "outputs": [],
   "source": [
    "include(\"../src/scenarios/reduction.jl\")\n",
    "reduced_attack_scenarios = reduce_binary_scenarios(attack_scenarios, 4)\n",
    "reduced_weather_scenarios = reduce_continous_scenarios(weather_scenarios, 4)\n",
    "reduced_load_scenarios = reduce_continous_scenarios(local_loads, 4)\n",
    "print()"
   ]
  },
  {
   "cell_type": "code",
   "execution_count": 98,
   "metadata": {},
   "outputs": [],
   "source": [
    "include(\"../src/scenarios/assemble.jl\")\n",
    "scenarios = cartesian_scenarios(\n",
    "\treduced_load_scenarios,\n",
    "\treduced_attack_scenarios,\n",
    "\treduced_weather_scenarios,\n",
    ")\n",
    "print()"
   ]
  },
  {
   "cell_type": "code",
   "execution_count": 99,
   "metadata": {},
   "outputs": [],
   "source": [
    "scenarios = translate_weather_to_capacity(scenarios, network.generators)\n",
    "print()"
   ]
  },
  {
   "cell_type": "code",
   "execution_count": 100,
   "metadata": {},
   "outputs": [
    {
     "name": "stdout",
     "output_type": "stream",
     "text": [
      "Number of scenarios: 64"
     ]
    }
   ],
   "source": [
    "scenario_dict = convert_df_to_scenarios(scenarios)\n",
    "print(\"Number of scenarios: $(length(scenario_dict))\")"
   ]
  },
  {
   "cell_type": "code",
   "execution_count": 101,
   "metadata": {},
   "outputs": [],
   "source": [
    "include(\"../src/model.jl\")\n",
    "dispatch_model = DispatchModel(network, scenario_dict, 5.0)\n",
    "init_model!(dispatch_model)\n",
    "print()"
   ]
  },
  {
   "cell_type": "code",
   "execution_count": 102,
   "metadata": {},
   "outputs": [
    {
     "data": {
      "text/plain": [
       "A JuMP Model\n",
       "Minimization problem with:\n",
       "Variables: 41016\n",
       "Objective function type: AffExpr\n",
       "`AffExpr`-in-`MathOptInterface.EqualTo{Float64}`: 20992 constraints\n",
       "`AffExpr`-in-`MathOptInterface.GreaterThan{Float64}`: 4608 constraints\n",
       "`AffExpr`-in-`MathOptInterface.LessThan{Float64}`: 69889 constraints\n",
       "`AffExpr`-in-`MathOptInterface.Interval{Float64}`: 7680 constraints\n",
       "`VariableRef`-in-`MathOptInterface.ZeroOne`: 7800 constraints\n",
       "Model mode: AUTOMATIC\n",
       "CachingOptimizer state: EMPTY_OPTIMIZER\n",
       "Solver name: Gurobi\n",
       "Names registered in the model: reinforcement_budget"
      ]
     },
     "metadata": {},
     "output_type": "display_data"
    }
   ],
   "source": [
    "dispatch_model.m"
   ]
  },
  {
   "cell_type": "code",
   "execution_count": 103,
   "metadata": {},
   "outputs": [
    {
     "name": "stdout",
     "output_type": "stream",
     "text": [
      " 36.405857 seconds (822.61 k allocations: 67.515 MiB)\n"
     ]
    }
   ],
   "source": [
    "t = @time solve!(dispatch_model)\n",
    "print()"
   ]
  },
  {
   "cell_type": "code",
   "execution_count": 105,
   "metadata": {},
   "outputs": [
    {
     "data": {
      "text/plain": [
       "21.6"
      ]
     },
     "metadata": {},
     "output_type": "display_data"
    }
   ],
   "source": [
    "3*12*36 / 60"
   ]
  },
  {
   "cell_type": "code",
   "execution_count": 75,
   "metadata": {},
   "outputs": [
    {
     "name": "stdout",
     "output_type": "stream",
     "text": [
      "Objective value: 1166.4784488866733"
     ]
    }
   ],
   "source": [
    "import JuMP\n",
    "print(\"Objective value: $(JuMP.objective_value(dispatch_model.m))\")"
   ]
  },
  {
   "cell_type": "code",
   "execution_count": 78,
   "metadata": {},
   "outputs": [],
   "source": [
    "include(\"../src/model.jl\")\n",
    "dispatch_model = DispatchModel(network, scenario_dict, 5.0)\n",
    "t = @time solve_with_benders!(dispatch_model)\n",
    "print()"
   ]
  },
  {
   "cell_type": "code",
   "execution_count": 77,
   "metadata": {},
   "outputs": [
    {
     "data": {
      "text/plain": [
       "2931.9324380360194"
      ]
     },
     "metadata": {},
     "output_type": "display_data"
    }
   ],
   "source": [
    "JuMP.objective_value(dispatch_model.m)"
   ]
  },
  {
   "cell_type": "code",
   "execution_count": null,
   "metadata": {},
   "outputs": [],
   "source": []
  },
  {
   "cell_type": "code",
   "execution_count": 46,
   "metadata": {},
   "outputs": [],
   "source": [
    "vars = dispatch_model.variables[:mp]\n",
    "print()"
   ]
  },
  {
   "cell_type": "code",
   "execution_count": 52,
   "metadata": {},
   "outputs": [],
   "source": [
    "vars = dispatch_model.variables[Symbol()]\n",
    "print()"
   ]
  },
  {
   "cell_type": "code",
   "execution_count": 47,
   "metadata": {},
   "outputs": [
    {
     "data": {
      "text/plain": [
       "store_results_in_dir (generic function with 1 method)"
      ]
     },
     "metadata": {},
     "output_type": "display_data"
    }
   ],
   "source": [
    "include(\"../src/results.jl\")"
   ]
  },
  {
   "cell_type": "code",
   "execution_count": 56,
   "metadata": {},
   "outputs": [
    {
     "data": {
      "text/plain": [
       "1121.7745501867353"
      ]
     },
     "metadata": {},
     "output_type": "display_data"
    }
   ],
   "source": [
    "results_sum = get_results_summary(dispatch_model)\n",
    "results_sum.objective_value"
   ]
  },
  {
   "cell_type": "code",
   "execution_count": 55,
   "metadata": {},
   "outputs": [
    {
     "data": {
      "text/html": [
       "<div><div style = \"float: left;\"><span>5×2 DataFrame</span></div><div style = \"clear: both;\"></div></div><div class = \"data-frame\" style = \"overflow-x: scroll;\"><table class = \"data-frame\" style = \"margin-bottom: 6px;\"><thead><tr class = \"header\"><th class = \"rowNumber\" style = \"font-weight: bold; text-align: right;\">Row</th><th style = \"text-align: left;\">dim1</th><th style = \"text-align: left;\">Value</th></tr><tr class = \"subheader headerLastRow\"><th class = \"rowNumber\" style = \"font-weight: bold; text-align: right;\"></th><th title = \"Symbol\" style = \"text-align: left;\">Symbol</th><th title = \"Float64\" style = \"text-align: left;\">Float64</th></tr></thead><tbody><tr><td class = \"rowNumber\" style = \"font-weight: bold; text-align: right;\">1</td><td style = \"text-align: left;\">B12</td><td style = \"text-align: right;\">1.0</td></tr><tr><td class = \"rowNumber\" style = \"font-weight: bold; text-align: right;\">2</td><td style = \"text-align: left;\">B24</td><td style = \"text-align: right;\">1.0</td></tr><tr><td class = \"rowNumber\" style = \"font-weight: bold; text-align: right;\">3</td><td style = \"text-align: left;\">B26</td><td style = \"text-align: right;\">1.0</td></tr><tr><td class = \"rowNumber\" style = \"font-weight: bold; text-align: right;\">4</td><td style = \"text-align: left;\">B38</td><td style = \"text-align: right;\">1.0</td></tr><tr><td class = \"rowNumber\" style = \"font-weight: bold; text-align: right;\">5</td><td style = \"text-align: left;\">B90</td><td style = \"text-align: right;\">1.0</td></tr></tbody></table></div>"
      ],
      "text/latex": [
       "\\begin{tabular}{r|cc}\n",
       "\t& dim1 & Value\\\\\n",
       "\t\\hline\n",
       "\t& Symbol & Float64\\\\\n",
       "\t\\hline\n",
       "\t1 & B12 & 1.0 \\\\\n",
       "\t2 & B24 & 1.0 \\\\\n",
       "\t3 & B26 & 1.0 \\\\\n",
       "\t4 & B38 & 1.0 \\\\\n",
       "\t5 & B90 & 1.0 \\\\\n",
       "\\end{tabular}\n"
      ],
      "text/plain": [
       "\u001b[1m5×2 DataFrame\u001b[0m\n",
       "\u001b[1m Row \u001b[0m│\u001b[1m dim1   \u001b[0m\u001b[1m Value   \u001b[0m\n",
       "     │\u001b[90m Symbol \u001b[0m\u001b[90m Float64 \u001b[0m\n",
       "─────┼─────────────────\n",
       "   1 │ B12         1.0\n",
       "   2 │ B24         1.0\n",
       "   3 │ B26         1.0\n",
       "   4 │ B38         1.0\n",
       "   5 │ B90         1.0"
      ]
     },
     "metadata": {},
     "output_type": "display_data"
    }
   ],
   "source": [
    "results_r = convert_jump_container_to_df(vars[:r])\n",
    "results_r[results_r.Value .!= 0, :]"
   ]
  },
  {
   "cell_type": "code",
   "execution_count": 88,
   "metadata": {},
   "outputs": [
    {
     "data": {
      "text/html": [
       "<div><div style = \"float: left;\"><span>72×3 DataFrame</span></div><div style = \"float: right;\"><span style = \"font-style: italic;\">47 rows omitted</span></div><div style = \"clear: both;\"></div></div><div class = \"data-frame\" style = \"overflow-x: scroll;\"><table class = \"data-frame\" style = \"margin-bottom: 6px;\"><thead><tr class = \"header\"><th class = \"rowNumber\" style = \"font-weight: bold; text-align: right;\">Row</th><th style = \"text-align: left;\">dim1</th><th style = \"text-align: left;\">S1</th><th style = \"text-align: left;\">S2</th></tr><tr class = \"subheader headerLastRow\"><th class = \"rowNumber\" style = \"font-weight: bold; text-align: right;\"></th><th title = \"Symbol\" style = \"text-align: left;\">Symbol</th><th title = \"Union{Missing, Float64}\" style = \"text-align: left;\">Float64?</th><th title = \"Union{Missing, Float64}\" style = \"text-align: left;\">Float64?</th></tr></thead><tbody><tr><td class = \"rowNumber\" style = \"font-weight: bold; text-align: right;\">1</td><td style = \"text-align: left;\">G1</td><td style = \"text-align: right;\">1000.0</td><td style = \"text-align: right;\">0.0</td></tr><tr><td class = \"rowNumber\" style = \"font-weight: bold; text-align: right;\">2</td><td style = \"text-align: left;\">G10</td><td style = \"text-align: right;\">177.0</td><td style = \"text-align: right;\">371.508</td></tr><tr><td class = \"rowNumber\" style = \"font-weight: bold; text-align: right;\">3</td><td style = \"text-align: left;\">G11</td><td style = \"text-align: right;\">282.0</td><td style = \"text-align: right;\">600.0</td></tr><tr><td class = \"rowNumber\" style = \"font-weight: bold; text-align: right;\">4</td><td style = \"text-align: left;\">G12</td><td style = \"text-align: right;\">551.0</td><td style = \"text-align: right;\">551.0</td></tr><tr><td class = \"rowNumber\" style = \"font-weight: bold; text-align: right;\">5</td><td style = \"text-align: left;\">G13</td><td style = \"text-align: right;\">1600.0</td><td style = \"text-align: right;\">683.0</td></tr><tr><td class = \"rowNumber\" style = \"font-weight: bold; text-align: right;\">6</td><td style = \"text-align: left;\">G14</td><td style = \"text-align: right;\">378.0</td><td style = \"text-align: right;\">378.0</td></tr><tr><td class = \"rowNumber\" style = \"font-weight: bold; text-align: right;\">7</td><td style = \"text-align: left;\">G15</td><td style = \"text-align: right;\">800.0</td><td style = \"text-align: right;\">395.0</td></tr><tr><td class = \"rowNumber\" style = \"font-weight: bold; text-align: right;\">8</td><td style = \"text-align: left;\">G16</td><td style = \"text-align: right;\">870.388</td><td style = \"text-align: right;\">0.0</td></tr><tr><td class = \"rowNumber\" style = \"font-weight: bold; text-align: right;\">9</td><td style = \"text-align: left;\">G17</td><td style = \"text-align: right;\">488.0</td><td style = \"text-align: right;\">0.0</td></tr><tr><td class = \"rowNumber\" style = \"font-weight: bold; text-align: right;\">10</td><td style = \"text-align: left;\">G18</td><td style = \"text-align: right;\">339.819</td><td style = \"text-align: right;\">400.0</td></tr><tr><td class = \"rowNumber\" style = \"font-weight: bold; text-align: right;\">11</td><td style = \"text-align: left;\">G19</td><td style = \"text-align: right;\">0.0</td><td style = \"text-align: right;\">345.0</td></tr><tr><td class = \"rowNumber\" style = \"font-weight: bold; text-align: right;\">12</td><td style = \"text-align: left;\">G2</td><td style = \"text-align: right;\">0.0</td><td style = \"text-align: right;\">0.0</td></tr><tr><td class = \"rowNumber\" style = \"font-weight: bold; text-align: right;\">13</td><td style = \"text-align: left;\">G20</td><td style = \"text-align: right;\">328.764</td><td style = \"text-align: right;\">400.0</td></tr><tr><td style = \"text-align: right;\">&vellip;</td><td style = \"text-align: right;\">&vellip;</td><td style = \"text-align: right;\">&vellip;</td><td style = \"text-align: right;\">&vellip;</td></tr><tr><td class = \"rowNumber\" style = \"font-weight: bold; text-align: right;\">61</td><td style = \"text-align: left;\">G64</td><td style = \"text-align: right;\">0.0</td><td style = \"text-align: right;\">140.886</td></tr><tr><td class = \"rowNumber\" style = \"font-weight: bold; text-align: right;\">62</td><td style = \"text-align: left;\">G65</td><td style = \"text-align: right;\">0.0</td><td style = \"text-align: right;\">0.0</td></tr><tr><td class = \"rowNumber\" style = \"font-weight: bold; text-align: right;\">63</td><td style = \"text-align: left;\">G66</td><td style = \"text-align: right;\">0.0</td><td style = \"text-align: right;\">226.234</td></tr><tr><td class = \"rowNumber\" style = \"font-weight: bold; text-align: right;\">64</td><td style = \"text-align: left;\">G67</td><td style = \"text-align: right;\">0.0</td><td style = \"text-align: right;\">0.0</td></tr><tr><td class = \"rowNumber\" style = \"font-weight: bold; text-align: right;\">65</td><td style = \"text-align: left;\">G68</td><td style = \"text-align: right;\">0.0</td><td style = \"text-align: right;\">220.0</td></tr><tr><td class = \"rowNumber\" style = \"font-weight: bold; text-align: right;\">66</td><td style = \"text-align: left;\">G69</td><td style = \"text-align: right;\">0.0</td><td style = \"text-align: right;\">0.0</td></tr><tr><td class = \"rowNumber\" style = \"font-weight: bold; text-align: right;\">67</td><td style = \"text-align: left;\">G7</td><td style = \"text-align: right;\">389.0</td><td style = \"text-align: right;\">389.0</td></tr><tr><td class = \"rowNumber\" style = \"font-weight: bold; text-align: right;\">68</td><td style = \"text-align: left;\">G70</td><td style = \"text-align: right;\">0.0</td><td style = \"text-align: right;\">0.0</td></tr><tr><td class = \"rowNumber\" style = \"font-weight: bold; text-align: right;\">69</td><td style = \"text-align: left;\">G71</td><td style = \"text-align: right;\">0.0</td><td style = \"text-align: right;\">139.98</td></tr><tr><td class = \"rowNumber\" style = \"font-weight: bold; text-align: right;\">70</td><td style = \"text-align: left;\">G72</td><td style = \"text-align: right;\">0.0</td><td style = \"text-align: right;\">0.0</td></tr><tr><td class = \"rowNumber\" style = \"font-weight: bold; text-align: right;\">71</td><td style = \"text-align: left;\">G8</td><td style = \"text-align: right;\">0.0</td><td style = \"text-align: right;\">0.0</td></tr><tr><td class = \"rowNumber\" style = \"font-weight: bold; text-align: right;\">72</td><td style = \"text-align: left;\">G9</td><td style = \"text-align: right;\">870.0</td><td style = \"text-align: right;\">1600.0</td></tr></tbody></table></div>"
      ],
      "text/latex": [
       "\\begin{tabular}{r|ccc}\n",
       "\t& dim1 & S1 & S2\\\\\n",
       "\t\\hline\n",
       "\t& Symbol & Float64? & Float64?\\\\\n",
       "\t\\hline\n",
       "\t1 & G1 & 1000.0 & 0.0 \\\\\n",
       "\t2 & G10 & 177.0 & 371.508 \\\\\n",
       "\t3 & G11 & 282.0 & 600.0 \\\\\n",
       "\t4 & G12 & 551.0 & 551.0 \\\\\n",
       "\t5 & G13 & 1600.0 & 683.0 \\\\\n",
       "\t6 & G14 & 378.0 & 378.0 \\\\\n",
       "\t7 & G15 & 800.0 & 395.0 \\\\\n",
       "\t8 & G16 & 870.388 & 0.0 \\\\\n",
       "\t9 & G17 & 488.0 & 0.0 \\\\\n",
       "\t10 & G18 & 339.819 & 400.0 \\\\\n",
       "\t11 & G19 & 0.0 & 345.0 \\\\\n",
       "\t12 & G2 & 0.0 & 0.0 \\\\\n",
       "\t13 & G20 & 328.764 & 400.0 \\\\\n",
       "\t14 & G21 & 0.0 & 674.0 \\\\\n",
       "\t15 & G22 & 382.0 & 382.0 \\\\\n",
       "\t16 & G23 & 0.0 & 1157.19 \\\\\n",
       "\t17 & G24 & 0.0 & 908.429 \\\\\n",
       "\t18 & G25 & 207.76 & 169.0 \\\\\n",
       "\t19 & G26 & 393.0 & 393.0 \\\\\n",
       "\t20 & G27 & 0.0 & 0.0 \\\\\n",
       "\t21 & G28 & 1600.0 & 834.0 \\\\\n",
       "\t22 & G29 & 0.0 & 392.0 \\\\\n",
       "\t23 & G3 & 168.0 & 168.0 \\\\\n",
       "\t24 & G30 & 0.0 & 0.0 \\\\\n",
       "\t$\\dots$ & $\\dots$ & $\\dots$ & $\\dots$ \\\\\n",
       "\\end{tabular}\n"
      ],
      "text/plain": [
       "\u001b[1m72×3 DataFrame\u001b[0m\n",
       "\u001b[1m Row \u001b[0m│\u001b[1m dim1   \u001b[0m\u001b[1m S1       \u001b[0m\u001b[1m S2       \u001b[0m\n",
       "     │\u001b[90m Symbol \u001b[0m\u001b[90m Float64? \u001b[0m\u001b[90m Float64? \u001b[0m\n",
       "─────┼────────────────────────────\n",
       "   1 │ G1      1000.0       0.0\n",
       "   2 │ G10      177.0     371.508\n",
       "   3 │ G11      282.0     600.0\n",
       "   4 │ G12      551.0     551.0\n",
       "   5 │ G13     1600.0     683.0\n",
       "   6 │ G14      378.0     378.0\n",
       "   7 │ G15      800.0     395.0\n",
       "   8 │ G16      870.388     0.0\n",
       "  ⋮  │   ⋮        ⋮         ⋮\n",
       "  66 │ G69        0.0       0.0\n",
       "  67 │ G7       389.0     389.0\n",
       "  68 │ G70        0.0       0.0\n",
       "  69 │ G71        0.0     139.98\n",
       "  70 │ G72        0.0       0.0\n",
       "  71 │ G8         0.0       0.0\n",
       "  72 │ G9       870.0    1600.0\n",
       "\u001b[36m                   57 rows omitted\u001b[0m"
      ]
     },
     "metadata": {},
     "output_type": "display_data"
    }
   ],
   "source": [
    "p_results = reformat_2d_df(convert_jump_container_to_df(vars[:P]))"
   ]
  },
  {
   "cell_type": "code",
   "execution_count": 89,
   "metadata": {},
   "outputs": [
    {
     "data": {
      "text/html": [
       "<div><div style = \"float: left;\"><span>23×3 DataFrameRows</span></div><div style = \"clear: both;\"></div></div><div class = \"data-frame\" style = \"overflow-x: scroll;\"><table class = \"data-frame\" style = \"margin-bottom: 6px;\"><thead><tr class = \"header\"><th class = \"rowNumber\" style = \"font-weight: bold; text-align: right;\">Row</th><th style = \"text-align: left;\">dim1</th><th style = \"text-align: left;\">S1</th><th style = \"text-align: left;\">S2</th></tr><tr class = \"subheader headerLastRow\"><th class = \"rowNumber\" style = \"font-weight: bold; text-align: right;\"></th><th title = \"Symbol\" style = \"text-align: left;\">Symbol</th><th title = \"Union{Missing, Float64}\" style = \"text-align: left;\">Float64?</th><th title = \"Union{Missing, Float64}\" style = \"text-align: left;\">Float64?</th></tr></thead><tbody><tr><td class = \"rowNumber\" style = \"font-weight: bold; text-align: right;\">1</td><td style = \"text-align: left;\">B105</td><td style = \"text-align: right;\">177.37</td><td style = \"text-align: right;\">0.0</td></tr><tr><td class = \"rowNumber\" style = \"font-weight: bold; text-align: right;\">2</td><td style = \"text-align: left;\">B116</td><td style = \"text-align: right;\">157.19</td><td style = \"text-align: right;\">0.0</td></tr><tr><td class = \"rowNumber\" style = \"font-weight: bold; text-align: right;\">3</td><td style = \"text-align: left;\">B24</td><td style = \"text-align: right;\">399.558</td><td style = \"text-align: right;\">0.0</td></tr><tr><td class = \"rowNumber\" style = \"font-weight: bold; text-align: right;\">4</td><td style = \"text-align: left;\">B41</td><td style = \"text-align: right;\">0.0</td><td style = \"text-align: right;\">152.184</td></tr><tr><td class = \"rowNumber\" style = \"font-weight: bold; text-align: right;\">5</td><td style = \"text-align: left;\">B42</td><td style = \"text-align: right;\">0.0</td><td style = \"text-align: right;\">148.357</td></tr><tr><td class = \"rowNumber\" style = \"font-weight: bold; text-align: right;\">6</td><td style = \"text-align: left;\">B48</td><td style = \"text-align: right;\">135.285</td><td style = \"text-align: right;\">0.0</td></tr><tr><td class = \"rowNumber\" style = \"font-weight: bold; text-align: right;\">7</td><td style = \"text-align: left;\">B51</td><td style = \"text-align: right;\">0.0</td><td style = \"text-align: right;\">147.859</td></tr><tr><td class = \"rowNumber\" style = \"font-weight: bold; text-align: right;\">8</td><td style = \"text-align: left;\">B56</td><td style = \"text-align: right;\">0.0</td><td style = \"text-align: right;\">116.493</td></tr><tr><td class = \"rowNumber\" style = \"font-weight: bold; text-align: right;\">9</td><td style = \"text-align: left;\">B57</td><td style = \"text-align: right;\">0.0</td><td style = \"text-align: right;\">120.692</td></tr><tr><td class = \"rowNumber\" style = \"font-weight: bold; text-align: right;\">10</td><td style = \"text-align: left;\">B63</td><td style = \"text-align: right;\">0.0</td><td style = \"text-align: right;\">150.53</td></tr><tr><td class = \"rowNumber\" style = \"font-weight: bold; text-align: right;\">11</td><td style = \"text-align: left;\">B68</td><td style = \"text-align: right;\">123.711</td><td style = \"text-align: right;\">0.0</td></tr><tr><td class = \"rowNumber\" style = \"font-weight: bold; text-align: right;\">12</td><td style = \"text-align: left;\">B69</td><td style = \"text-align: right;\">123.314</td><td style = \"text-align: right;\">0.0</td></tr><tr><td class = \"rowNumber\" style = \"font-weight: bold; text-align: right;\">13</td><td style = \"text-align: left;\">B72</td><td style = \"text-align: right;\">148.23</td><td style = \"text-align: right;\">148.23</td></tr><tr><td class = \"rowNumber\" style = \"font-weight: bold; text-align: right;\">14</td><td style = \"text-align: left;\">B78</td><td style = \"text-align: right;\">155.335</td><td style = \"text-align: right;\">0.0</td></tr><tr><td class = \"rowNumber\" style = \"font-weight: bold; text-align: right;\">15</td><td style = \"text-align: left;\">B79</td><td style = \"text-align: right;\">43.2704</td><td style = \"text-align: right;\">0.0</td></tr><tr><td class = \"rowNumber\" style = \"font-weight: bold; text-align: right;\">16</td><td style = \"text-align: left;\">B80</td><td style = \"text-align: right;\">94.5137</td><td style = \"text-align: right;\">0.0</td></tr><tr><td class = \"rowNumber\" style = \"font-weight: bold; text-align: right;\">17</td><td style = \"text-align: left;\">B81</td><td style = \"text-align: right;\">192.918</td><td style = \"text-align: right;\">192.918</td></tr><tr><td class = \"rowNumber\" style = \"font-weight: bold; text-align: right;\">18</td><td style = \"text-align: left;\">B84</td><td style = \"text-align: right;\">174.494</td><td style = \"text-align: right;\">0.0</td></tr><tr><td class = \"rowNumber\" style = \"font-weight: bold; text-align: right;\">19</td><td style = \"text-align: left;\">B88</td><td style = \"text-align: right;\">0.0</td><td style = \"text-align: right;\">117.688</td></tr><tr><td class = \"rowNumber\" style = \"font-weight: bold; text-align: right;\">20</td><td style = \"text-align: left;\">B89</td><td style = \"text-align: right;\">61.2767</td><td style = \"text-align: right;\">0.0</td></tr><tr><td class = \"rowNumber\" style = \"font-weight: bold; text-align: right;\">21</td><td style = \"text-align: left;\">B90</td><td style = \"text-align: right;\">208.894</td><td style = \"text-align: right;\">0.0</td></tr><tr><td class = \"rowNumber\" style = \"font-weight: bold; text-align: right;\">22</td><td style = \"text-align: left;\">B91</td><td style = \"text-align: right;\">228.398</td><td style = \"text-align: right;\">228.398</td></tr><tr><td class = \"rowNumber\" style = \"font-weight: bold; text-align: right;\">23</td><td style = \"text-align: left;\">B96</td><td style = \"text-align: right;\">112.209</td><td style = \"text-align: right;\">0.0</td></tr></tbody></table></div>"
      ],
      "text/latex": [
       "\\begin{tabular}{r|ccc}\n",
       "\t& dim1 & S1 & S2\\\\\n",
       "\t\\hline\n",
       "\t& Symbol & Float64? & Float64?\\\\\n",
       "\t\\hline\n",
       "\t1 & B105 & 177.37 & 0.0 \\\\\n",
       "\t2 & B116 & 157.19 & 0.0 \\\\\n",
       "\t3 & B24 & 399.558 & 0.0 \\\\\n",
       "\t4 & B41 & 0.0 & 152.184 \\\\\n",
       "\t5 & B42 & 0.0 & 148.357 \\\\\n",
       "\t6 & B48 & 135.285 & 0.0 \\\\\n",
       "\t7 & B51 & 0.0 & 147.859 \\\\\n",
       "\t8 & B56 & 0.0 & 116.493 \\\\\n",
       "\t9 & B57 & 0.0 & 120.692 \\\\\n",
       "\t10 & B63 & 0.0 & 150.53 \\\\\n",
       "\t11 & B68 & 123.711 & 0.0 \\\\\n",
       "\t12 & B69 & 123.314 & 0.0 \\\\\n",
       "\t13 & B72 & 148.23 & 148.23 \\\\\n",
       "\t14 & B78 & 155.335 & 0.0 \\\\\n",
       "\t15 & B79 & 43.2704 & 0.0 \\\\\n",
       "\t16 & B80 & 94.5137 & 0.0 \\\\\n",
       "\t17 & B81 & 192.918 & 192.918 \\\\\n",
       "\t18 & B84 & 174.494 & 0.0 \\\\\n",
       "\t19 & B88 & 0.0 & 117.688 \\\\\n",
       "\t20 & B89 & 61.2767 & 0.0 \\\\\n",
       "\t21 & B90 & 208.894 & 0.0 \\\\\n",
       "\t22 & B91 & 228.398 & 228.398 \\\\\n",
       "\t23 & B96 & 112.209 & 0.0 \\\\\n",
       "\\end{tabular}\n"
      ],
      "text/plain": [
       "\u001b[1m23×3 DataFrameRows\u001b[0m\n",
       "\u001b[1m Row \u001b[0m│\u001b[1m dim1   \u001b[0m\u001b[1m S1       \u001b[0m\u001b[1m S2       \u001b[0m\n",
       "     │\u001b[90m Symbol \u001b[0m\u001b[90m Float64? \u001b[0m\u001b[90m Float64? \u001b[0m\n",
       "─────┼────────────────────────────\n",
       "   1 │ B105    177.37       0.0\n",
       "   2 │ B116    157.19       0.0\n",
       "   3 │ B24     399.558      0.0\n",
       "   4 │ B41       0.0      152.184\n",
       "   5 │ B42       0.0      148.357\n",
       "   6 │ B48     135.285      0.0\n",
       "   7 │ B51       0.0      147.859\n",
       "   8 │ B56       0.0      116.493\n",
       "  ⋮  │   ⋮        ⋮         ⋮\n",
       "  17 │ B81     192.918    192.918\n",
       "  18 │ B84     174.494      0.0\n",
       "  19 │ B88       0.0      117.688\n",
       "  20 │ B89      61.2767     0.0\n",
       "  21 │ B90     208.894      0.0\n",
       "  22 │ B91     228.398    228.398\n",
       "  23 │ B96     112.209      0.0\n",
       "\u001b[36m                    8 rows omitted\u001b[0m"
      ]
     },
     "metadata": {},
     "output_type": "display_data"
    }
   ],
   "source": [
    "l_shed_results = reformat_2d_df(convert_jump_container_to_df(vars[:L_shed]))\n",
    "any_rows_greater_zero(l_shed_results)"
   ]
  },
  {
   "cell_type": "code",
   "execution_count": 90,
   "metadata": {},
   "outputs": [
    {
     "data": {
      "text/html": [
       "<div><div style = \"float: left;\"><span>22×3 DataFrameRows</span></div><div style = \"clear: both;\"></div></div><div class = \"data-frame\" style = \"overflow-x: scroll;\"><table class = \"data-frame\" style = \"margin-bottom: 6px;\"><thead><tr class = \"header\"><th class = \"rowNumber\" style = \"font-weight: bold; text-align: right;\">Row</th><th style = \"text-align: left;\">dim1</th><th style = \"text-align: left;\">S1</th><th style = \"text-align: left;\">S2</th></tr><tr class = \"subheader headerLastRow\"><th class = \"rowNumber\" style = \"font-weight: bold; text-align: right;\"></th><th title = \"Symbol\" style = \"text-align: left;\">Symbol</th><th title = \"Union{Missing, Float64}\" style = \"text-align: left;\">Float64?</th><th title = \"Union{Missing, Float64}\" style = \"text-align: left;\">Float64?</th></tr></thead><tbody><tr><td class = \"rowNumber\" style = \"font-weight: bold; text-align: right;\">1</td><td style = \"text-align: left;\">B10</td><td style = \"text-align: right;\">0.0</td><td style = \"text-align: right;\">0.0</td></tr><tr><td class = \"rowNumber\" style = \"font-weight: bold; text-align: right;\">2</td><td style = \"text-align: left;\">B105</td><td style = \"text-align: right;\">-0.0</td><td style = \"text-align: right;\">1.0</td></tr><tr><td class = \"rowNumber\" style = \"font-weight: bold; text-align: right;\">3</td><td style = \"text-align: left;\">B116</td><td style = \"text-align: right;\">0.0</td><td style = \"text-align: right;\">1.0</td></tr><tr><td class = \"rowNumber\" style = \"font-weight: bold; text-align: right;\">4</td><td style = \"text-align: left;\">B119</td><td style = \"text-align: right;\">0.0</td><td style = \"text-align: right;\">0.0</td></tr><tr><td class = \"rowNumber\" style = \"font-weight: bold; text-align: right;\">5</td><td style = \"text-align: left;\">B120</td><td style = \"text-align: right;\">0.0</td><td style = \"text-align: right;\">0.0</td></tr><tr><td class = \"rowNumber\" style = \"font-weight: bold; text-align: right;\">6</td><td style = \"text-align: left;\">B24</td><td style = \"text-align: right;\">-0.0</td><td style = \"text-align: right;\">1.0</td></tr><tr><td class = \"rowNumber\" style = \"font-weight: bold; text-align: right;\">7</td><td style = \"text-align: left;\">B41</td><td style = \"text-align: right;\">1.0</td><td style = \"text-align: right;\">-0.0</td></tr><tr><td class = \"rowNumber\" style = \"font-weight: bold; text-align: right;\">8</td><td style = \"text-align: left;\">B42</td><td style = \"text-align: right;\">1.0</td><td style = \"text-align: right;\">0.0</td></tr><tr><td class = \"rowNumber\" style = \"font-weight: bold; text-align: right;\">9</td><td style = \"text-align: left;\">B48</td><td style = \"text-align: right;\">-0.0</td><td style = \"text-align: right;\">1.0</td></tr><tr><td class = \"rowNumber\" style = \"font-weight: bold; text-align: right;\">10</td><td style = \"text-align: left;\">B51</td><td style = \"text-align: right;\">1.0</td><td style = \"text-align: right;\">-0.0</td></tr><tr><td class = \"rowNumber\" style = \"font-weight: bold; text-align: right;\">11</td><td style = \"text-align: left;\">B56</td><td style = \"text-align: right;\">1.0</td><td style = \"text-align: right;\">-0.0</td></tr><tr><td class = \"rowNumber\" style = \"font-weight: bold; text-align: right;\">12</td><td style = \"text-align: left;\">B63</td><td style = \"text-align: right;\">1.0</td><td style = \"text-align: right;\">0.0</td></tr><tr><td class = \"rowNumber\" style = \"font-weight: bold; text-align: right;\">13</td><td style = \"text-align: left;\">B68</td><td style = \"text-align: right;\">-0.0</td><td style = \"text-align: right;\">1.0</td></tr><tr><td class = \"rowNumber\" style = \"font-weight: bold; text-align: right;\">14</td><td style = \"text-align: left;\">B69</td><td style = \"text-align: right;\">-0.0</td><td style = \"text-align: right;\">1.0</td></tr><tr><td class = \"rowNumber\" style = \"font-weight: bold; text-align: right;\">15</td><td style = \"text-align: left;\">B72</td><td style = \"text-align: right;\">-0.0</td><td style = \"text-align: right;\">-0.0</td></tr><tr><td class = \"rowNumber\" style = \"font-weight: bold; text-align: right;\">16</td><td style = \"text-align: left;\">B78</td><td style = \"text-align: right;\">0.0</td><td style = \"text-align: right;\">1.0</td></tr><tr><td class = \"rowNumber\" style = \"font-weight: bold; text-align: right;\">17</td><td style = \"text-align: left;\">B81</td><td style = \"text-align: right;\">0.0</td><td style = \"text-align: right;\">-0.0</td></tr><tr><td class = \"rowNumber\" style = \"font-weight: bold; text-align: right;\">18</td><td style = \"text-align: left;\">B84</td><td style = \"text-align: right;\">-0.0</td><td style = \"text-align: right;\">1.0</td></tr><tr><td class = \"rowNumber\" style = \"font-weight: bold; text-align: right;\">19</td><td style = \"text-align: left;\">B88</td><td style = \"text-align: right;\">1.0</td><td style = \"text-align: right;\">-0.0</td></tr><tr><td class = \"rowNumber\" style = \"font-weight: bold; text-align: right;\">20</td><td style = \"text-align: left;\">B90</td><td style = \"text-align: right;\">-0.0</td><td style = \"text-align: right;\">1.0</td></tr><tr><td class = \"rowNumber\" style = \"font-weight: bold; text-align: right;\">21</td><td style = \"text-align: left;\">B91</td><td style = \"text-align: right;\">-0.0</td><td style = \"text-align: right;\">-0.0</td></tr><tr><td class = \"rowNumber\" style = \"font-weight: bold; text-align: right;\">22</td><td style = \"text-align: left;\">B96</td><td style = \"text-align: right;\">-0.0</td><td style = \"text-align: right;\">1.0</td></tr></tbody></table></div>"
      ],
      "text/latex": [
       "\\begin{tabular}{r|ccc}\n",
       "\t& dim1 & S1 & S2\\\\\n",
       "\t\\hline\n",
       "\t& Symbol & Float64? & Float64?\\\\\n",
       "\t\\hline\n",
       "\t1 & B10 & 0.0 & 0.0 \\\\\n",
       "\t2 & B105 & -0.0 & 1.0 \\\\\n",
       "\t3 & B116 & 0.0 & 1.0 \\\\\n",
       "\t4 & B119 & 0.0 & 0.0 \\\\\n",
       "\t5 & B120 & 0.0 & 0.0 \\\\\n",
       "\t6 & B24 & -0.0 & 1.0 \\\\\n",
       "\t7 & B41 & 1.0 & -0.0 \\\\\n",
       "\t8 & B42 & 1.0 & 0.0 \\\\\n",
       "\t9 & B48 & -0.0 & 1.0 \\\\\n",
       "\t10 & B51 & 1.0 & -0.0 \\\\\n",
       "\t11 & B56 & 1.0 & -0.0 \\\\\n",
       "\t12 & B63 & 1.0 & 0.0 \\\\\n",
       "\t13 & B68 & -0.0 & 1.0 \\\\\n",
       "\t14 & B69 & -0.0 & 1.0 \\\\\n",
       "\t15 & B72 & -0.0 & -0.0 \\\\\n",
       "\t16 & B78 & 0.0 & 1.0 \\\\\n",
       "\t17 & B81 & 0.0 & -0.0 \\\\\n",
       "\t18 & B84 & -0.0 & 1.0 \\\\\n",
       "\t19 & B88 & 1.0 & -0.0 \\\\\n",
       "\t20 & B90 & -0.0 & 1.0 \\\\\n",
       "\t21 & B91 & -0.0 & -0.0 \\\\\n",
       "\t22 & B96 & -0.0 & 1.0 \\\\\n",
       "\\end{tabular}\n"
      ],
      "text/plain": [
       "\u001b[1m22×3 DataFrameRows\u001b[0m\n",
       "\u001b[1m Row \u001b[0m│\u001b[1m dim1   \u001b[0m\u001b[1m S1       \u001b[0m\u001b[1m S2       \u001b[0m\n",
       "     │\u001b[90m Symbol \u001b[0m\u001b[90m Float64? \u001b[0m\u001b[90m Float64? \u001b[0m\n",
       "─────┼────────────────────────────\n",
       "   1 │ B10          0.0       0.0\n",
       "   2 │ B105        -0.0       1.0\n",
       "   3 │ B116         0.0       1.0\n",
       "   4 │ B119         0.0       0.0\n",
       "   5 │ B120         0.0       0.0\n",
       "   6 │ B24         -0.0       1.0\n",
       "   7 │ B41          1.0      -0.0\n",
       "   8 │ B42          1.0       0.0\n",
       "  ⋮  │   ⋮        ⋮         ⋮\n",
       "  16 │ B78          0.0       1.0\n",
       "  17 │ B81          0.0      -0.0\n",
       "  18 │ B84         -0.0       1.0\n",
       "  19 │ B88          1.0      -0.0\n",
       "  20 │ B90         -0.0       1.0\n",
       "  21 │ B91         -0.0      -0.0\n",
       "  22 │ B96         -0.0       1.0\n",
       "\u001b[36m                    7 rows omitted\u001b[0m"
      ]
     },
     "metadata": {},
     "output_type": "display_data"
    }
   ],
   "source": [
    "z_results = reformat_2d_df(convert_jump_container_to_df(vars[:z]))\n",
    "any_rows_equal_zero(z_results)"
   ]
  },
  {
   "cell_type": "code",
   "execution_count": 91,
   "metadata": {},
   "outputs": [
    {
     "data": {
      "text/html": [
       "<div><div style = \"float: left;\"><span>20×3 DataFrameRows</span></div><div style = \"clear: both;\"></div></div><div class = \"data-frame\" style = \"overflow-x: scroll;\"><table class = \"data-frame\" style = \"margin-bottom: 6px;\"><thead><tr class = \"header\"><th class = \"rowNumber\" style = \"font-weight: bold; text-align: right;\">Row</th><th style = \"text-align: left;\">scenario</th><th style = \"text-align: left;\">S1</th><th style = \"text-align: left;\">S2</th></tr><tr class = \"subheader headerLastRow\"><th class = \"rowNumber\" style = \"font-weight: bold; text-align: right;\"></th><th title = \"String\" style = \"text-align: left;\">String</th><th title = \"Int64\" style = \"text-align: left;\">Int64</th><th title = \"Int64\" style = \"text-align: left;\">Int64</th></tr></thead><tbody><tr><td class = \"rowNumber\" style = \"font-weight: bold; text-align: right;\">1</td><td style = \"text-align: left;\">B90_attack</td><td style = \"text-align: right;\">1</td><td style = \"text-align: right;\">0</td></tr><tr><td class = \"rowNumber\" style = \"font-weight: bold; text-align: right;\">2</td><td style = \"text-align: left;\">B12_attack</td><td style = \"text-align: right;\">1</td><td style = \"text-align: right;\">0</td></tr><tr><td class = \"rowNumber\" style = \"font-weight: bold; text-align: right;\">3</td><td style = \"text-align: left;\">B78_attack</td><td style = \"text-align: right;\">1</td><td style = \"text-align: right;\">0</td></tr><tr><td class = \"rowNumber\" style = \"font-weight: bold; text-align: right;\">4</td><td style = \"text-align: left;\">B105_attack</td><td style = \"text-align: right;\">1</td><td style = \"text-align: right;\">0</td></tr><tr><td class = \"rowNumber\" style = \"font-weight: bold; text-align: right;\">5</td><td style = \"text-align: left;\">B56_attack</td><td style = \"text-align: right;\">0</td><td style = \"text-align: right;\">1</td></tr><tr><td class = \"rowNumber\" style = \"font-weight: bold; text-align: right;\">6</td><td style = \"text-align: left;\">B38_attack</td><td style = \"text-align: right;\">0</td><td style = \"text-align: right;\">1</td></tr><tr><td class = \"rowNumber\" style = \"font-weight: bold; text-align: right;\">7</td><td style = \"text-align: left;\">B68_attack</td><td style = \"text-align: right;\">1</td><td style = \"text-align: right;\">0</td></tr><tr><td class = \"rowNumber\" style = \"font-weight: bold; text-align: right;\">8</td><td style = \"text-align: left;\">B26_attack</td><td style = \"text-align: right;\">0</td><td style = \"text-align: right;\">1</td></tr><tr><td class = \"rowNumber\" style = \"font-weight: bold; text-align: right;\">9</td><td style = \"text-align: left;\">B116_attack</td><td style = \"text-align: right;\">1</td><td style = \"text-align: right;\">0</td></tr><tr><td class = \"rowNumber\" style = \"font-weight: bold; text-align: right;\">10</td><td style = \"text-align: left;\">B48_attack</td><td style = \"text-align: right;\">1</td><td style = \"text-align: right;\">0</td></tr><tr><td class = \"rowNumber\" style = \"font-weight: bold; text-align: right;\">11</td><td style = \"text-align: left;\">B65_attack</td><td style = \"text-align: right;\">1</td><td style = \"text-align: right;\">0</td></tr><tr><td class = \"rowNumber\" style = \"font-weight: bold; text-align: right;\">12</td><td style = \"text-align: left;\">B88_attack</td><td style = \"text-align: right;\">0</td><td style = \"text-align: right;\">1</td></tr><tr><td class = \"rowNumber\" style = \"font-weight: bold; text-align: right;\">13</td><td style = \"text-align: left;\">B70_attack</td><td style = \"text-align: right;\">0</td><td style = \"text-align: right;\">1</td></tr><tr><td class = \"rowNumber\" style = \"font-weight: bold; text-align: right;\">14</td><td style = \"text-align: left;\">B72_attack</td><td style = \"text-align: right;\">0</td><td style = \"text-align: right;\">1</td></tr><tr><td class = \"rowNumber\" style = \"font-weight: bold; text-align: right;\">15</td><td style = \"text-align: left;\">B24_attack</td><td style = \"text-align: right;\">1</td><td style = \"text-align: right;\">0</td></tr><tr><td class = \"rowNumber\" style = \"font-weight: bold; text-align: right;\">16</td><td style = \"text-align: left;\">B81_attack</td><td style = \"text-align: right;\">0</td><td style = \"text-align: right;\">1</td></tr><tr><td class = \"rowNumber\" style = \"font-weight: bold; text-align: right;\">17</td><td style = \"text-align: left;\">B42_attack</td><td style = \"text-align: right;\">0</td><td style = \"text-align: right;\">1</td></tr><tr><td class = \"rowNumber\" style = \"font-weight: bold; text-align: right;\">18</td><td style = \"text-align: left;\">B41_attack</td><td style = \"text-align: right;\">0</td><td style = \"text-align: right;\">1</td></tr><tr><td class = \"rowNumber\" style = \"font-weight: bold; text-align: right;\">19</td><td style = \"text-align: left;\">B96_attack</td><td style = \"text-align: right;\">1</td><td style = \"text-align: right;\">0</td></tr><tr><td class = \"rowNumber\" style = \"font-weight: bold; text-align: right;\">20</td><td style = \"text-align: left;\">B51_attack</td><td style = \"text-align: right;\">0</td><td style = \"text-align: right;\">1</td></tr></tbody></table></div>"
      ],
      "text/latex": [
       "\\begin{tabular}{r|ccc}\n",
       "\t& scenario & S1 & S2\\\\\n",
       "\t\\hline\n",
       "\t& String & Int64 & Int64\\\\\n",
       "\t\\hline\n",
       "\t1 & B90\\_attack & 1 & 0 \\\\\n",
       "\t2 & B12\\_attack & 1 & 0 \\\\\n",
       "\t3 & B78\\_attack & 1 & 0 \\\\\n",
       "\t4 & B105\\_attack & 1 & 0 \\\\\n",
       "\t5 & B56\\_attack & 0 & 1 \\\\\n",
       "\t6 & B38\\_attack & 0 & 1 \\\\\n",
       "\t7 & B68\\_attack & 1 & 0 \\\\\n",
       "\t8 & B26\\_attack & 0 & 1 \\\\\n",
       "\t9 & B116\\_attack & 1 & 0 \\\\\n",
       "\t10 & B48\\_attack & 1 & 0 \\\\\n",
       "\t11 & B65\\_attack & 1 & 0 \\\\\n",
       "\t12 & B88\\_attack & 0 & 1 \\\\\n",
       "\t13 & B70\\_attack & 0 & 1 \\\\\n",
       "\t14 & B72\\_attack & 0 & 1 \\\\\n",
       "\t15 & B24\\_attack & 1 & 0 \\\\\n",
       "\t16 & B81\\_attack & 0 & 1 \\\\\n",
       "\t17 & B42\\_attack & 0 & 1 \\\\\n",
       "\t18 & B41\\_attack & 0 & 1 \\\\\n",
       "\t19 & B96\\_attack & 1 & 0 \\\\\n",
       "\t20 & B51\\_attack & 0 & 1 \\\\\n",
       "\\end{tabular}\n"
      ],
      "text/plain": [
       "\u001b[1m20×3 DataFrameRows\u001b[0m\n",
       "\u001b[1m Row \u001b[0m│\u001b[1m scenario    \u001b[0m\u001b[1m S1    \u001b[0m\u001b[1m S2    \u001b[0m\n",
       "     │\u001b[90m String      \u001b[0m\u001b[90m Int64 \u001b[0m\u001b[90m Int64 \u001b[0m\n",
       "─────┼───────────────────────────\n",
       "   1 │ B90_attack       1      0\n",
       "   2 │ B12_attack       1      0\n",
       "   3 │ B78_attack       1      0\n",
       "   4 │ B105_attack      1      0\n",
       "   5 │ B56_attack       0      1\n",
       "   6 │ B38_attack       0      1\n",
       "   7 │ B68_attack       1      0\n",
       "   8 │ B26_attack       0      1\n",
       "  ⋮  │      ⋮         ⋮      ⋮\n",
       "  14 │ B72_attack       0      1\n",
       "  15 │ B24_attack       1      0\n",
       "  16 │ B81_attack       0      1\n",
       "  17 │ B42_attack       0      1\n",
       "  18 │ B41_attack       0      1\n",
       "  19 │ B96_attack       1      0\n",
       "  20 │ B51_attack       0      1\n",
       "\u001b[36m                   5 rows omitted\u001b[0m"
      ]
     },
     "metadata": {},
     "output_type": "display_data"
    }
   ],
   "source": [
    "attacked_busses_df = get_attacked_busses_df(scenarios)\n",
    "any_rows_greater_zero(attacked_busses_df)"
   ]
  },
  {
   "cell_type": "code",
   "execution_count": 92,
   "metadata": {},
   "outputs": [],
   "source": []
  }
 ],
 "metadata": {
  "kernelspec": {
   "display_name": "Julia 1.8.5",
   "language": "julia",
   "name": "julia-1.8"
  },
  "language_info": {
   "file_extension": ".jl",
   "mimetype": "application/julia",
   "name": "julia",
   "version": "1.8.5"
  },
  "orig_nbformat": 4
 },
 "nbformat": 4,
 "nbformat_minor": 2
}
