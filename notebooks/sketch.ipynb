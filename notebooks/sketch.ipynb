{
 "cells": [
  {
   "cell_type": "code",
   "execution_count": 1,
   "metadata": {},
   "outputs": [
    {
     "name": "stderr",
     "output_type": "stream",
     "text": [
      "\u001b[32m\u001b[1m  Activating\u001b[22m\u001b[39m project at `~/dev/uni/amo-team-project`\n"
     ]
    }
   ],
   "source": [
    "using Pkg;\n",
    "Pkg.activate(\"..\");\n",
    "Pkg.instantiate();"
   ]
  },
  {
   "cell_type": "code",
   "execution_count": 2,
   "metadata": {},
   "outputs": [
    {
     "ename": "InitError",
     "evalue": "InitError: could not load library \"/home/moritz/.julia/artifacts/cdf6dc8aa6771a61c6c65a5a5c1a8d1b75f50a2f/lib/libarpack.so\"\nlibopenblas64_.so: cannot open shared object file: No such file or directory\nduring initialization of module Arpack_jll",
     "output_type": "error",
     "traceback": [
      "InitError: could not load library \"/home/moritz/.julia/artifacts/cdf6dc8aa6771a61c6c65a5a5c1a8d1b75f50a2f/lib/libarpack.so\"\n",
      "libopenblas64_.so: cannot open shared object file: No such file or directory\n",
      "during initialization of module Arpack_jll\n",
      "\n",
      "Stacktrace:\n",
      "  [1] macro expansion\n",
      "    @ ~/.julia/packages/JLLWrappers/QpMQW/src/products/library_generators.jl:54 [inlined]\n",
      "  [2] __init__()\n",
      "    @ Arpack_jll ~/.julia/packages/Arpack_jll/zfgpQ/src/wrappers/x86_64-linux-gnu-libgfortran5.jl:10\n",
      "  [3] _include_from_serialized(pkg::Base.PkgId, path::String, depmods::Vector{Any})\n",
      "    @ Base ./loading.jl:831\n",
      "  [4] _tryrequire_from_serialized(modkey::Base.PkgId, path::String, sourcepath::String, depmods::Vector{Any})\n",
      "    @ Base ./loading.jl:938\n",
      "  [5] _require_search_from_serialized(pkg::Base.PkgId, sourcepath::String, build_id::UInt64)\n",
      "    @ Base ./loading.jl:1028\n",
      "  [6] _require(pkg::Base.PkgId)\n",
      "    @ Base ./loading.jl:1315\n",
      "  [7] _require_prelocked(uuidkey::Base.PkgId)\n",
      "    @ Base ./loading.jl:1200\n",
      "  [8] macro expansion\n",
      "    @ ./loading.jl:1180 [inlined]\n",
      "  [9] macro expansion\n",
      "    @ ./lock.jl:223 [inlined]\n",
      " [10] require(into::Module, mod::Symbol)\n",
      "    @ Base ./loading.jl:1144\n",
      " [11] eval\n",
      "    @ ./boot.jl:368 [inlined]\n",
      " [12] include_string(mapexpr::typeof(REPL.softscope), mod::Module, code::String, filename::String)\n",
      "    @ Base ./loading.jl:1428\n",
      " [13] #invokelatest#2\n",
      "    @ ./essentials.jl:729 [inlined]\n",
      " [14] invokelatest\n",
      "    @ ./essentials.jl:726 [inlined]\n",
      " [15] (::VSCodeServer.var\"#198#199\"{VSCodeServer.NotebookRunCellArguments, String})()\n",
      "    @ VSCodeServer ~/.vscode/extensions/julialang.language-julia-1.38.2/scripts/packages/VSCodeServer/src/serve_notebook.jl:19\n",
      " [16] withpath(f::VSCodeServer.var\"#198#199\"{VSCodeServer.NotebookRunCellArguments, String}, path::String)\n",
      "    @ VSCodeServer ~/.vscode/extensions/julialang.language-julia-1.38.2/scripts/packages/VSCodeServer/src/repl.jl:249\n",
      " [17] notebook_runcell_request(conn::VSCodeServer.JSONRPC.JSONRPCEndpoint{Base.PipeEndpoint, Base.PipeEndpoint}, params::VSCodeServer.NotebookRunCellArguments)\n",
      "    @ VSCodeServer ~/.vscode/extensions/julialang.language-julia-1.38.2/scripts/packages/VSCodeServer/src/serve_notebook.jl:13\n",
      " [18] dispatch_msg(x::VSCodeServer.JSONRPC.JSONRPCEndpoint{Base.PipeEndpoint, Base.PipeEndpoint}, dispatcher::VSCodeServer.JSONRPC.MsgDispatcher, msg::Dict{String, Any})\n",
      "    @ VSCodeServer.JSONRPC ~/.vscode/extensions/julialang.language-julia-1.38.2/scripts/packages/JSONRPC/src/typed.jl:67\n",
      " [19] serve_notebook(pipename::String, outputchannel_logger::Base.CoreLogging.SimpleLogger; crashreporting_pipename::String)\n",
      "    @ VSCodeServer ~/.vscode/extensions/julialang.language-julia-1.38.2/scripts/packages/VSCodeServer/src/serve_notebook.jl:139\n",
      " [20] top-level scope\n",
      "    @ ~/.vscode/extensions/julialang.language-julia-1.38.2/scripts/notebook/notebook.jl:32"
     ]
    }
   ],
   "source": [
    "using HiGHS\n",
    "using JuMP\n",
    "using Ipopt\n",
    "using DataFrames\n",
    "using JSON\n",
    "using Plots\n",
    "using StatsPlots\n",
    "using StatsBase\n",
    "using BenchmarkTools\n",
    "using Distributions\n",
    "using Distances"
   ]
  },
  {
   "cell_type": "code",
   "execution_count": 105,
   "metadata": {},
   "outputs": [],
   "source": [
    "include(\"../src/rwth_parser.jl\")\n",
    "network, loads = read_data(\"../data/Scenario_2013.xlsx\")\n",
    "print()"
   ]
  },
  {
   "cell_type": "code",
   "execution_count": 4,
   "metadata": {},
   "outputs": [],
   "source": [
    "df = read_sheet(\"../data/Scenario_2013.xlsx\", LOAD_SHEET_NAME)\n",
    "print()"
   ]
  },
  {
   "cell_type": "code",
   "execution_count": 5,
   "metadata": {},
   "outputs": [],
   "source": [
    "include(\"../src/loads.jl\")\n",
    "local_loads = remove_non_data_rows(filter_month(loads, 1))\n",
    "print()"
   ]
  },
  {
   "cell_type": "code",
   "execution_count": 138,
   "metadata": {},
   "outputs": [],
   "source": [
    "include(\"../src/scenarios.jl\")\n",
    "attack_scenarios = generate_attack_scenarios(network, 10, 1000)\n",
    "weather_scenarios = generate_weather_scenarios(1000)\n",
    "print()"
   ]
  },
  {
   "cell_type": "code",
   "execution_count": 141,
   "metadata": {},
   "outputs": [],
   "source": [
    "reduced_attack_scenarios = reduce_binary_scenarios(attack_scenarios, 10)\n",
    "reduced_weather_scenarios = reduce_continous_scenarios(weather_scenarios, 10)\n",
    "reduced_load_scenarios = reduce_continous_scenarios(local_loads, 10)\n",
    "\n",
    "scenarios = cartesian_scenarios(\n",
    "\treduced_attack_scenarios,\n",
    "\treduced_weather_scenarios,\n",
    "\treduced_load_scenarios,\n",
    ")\n",
    "\n",
    "print()"
   ]
  },
  {
   "cell_type": "code",
   "execution_count": 97,
   "metadata": {},
   "outputs": [],
   "source": [
    "include(\"../src/model.jl\")\n",
    "dispatch_model = build_model(network, scenarios, budget)\n",
    "print()"
   ]
  },
  {
   "cell_type": "code",
   "execution_count": 98,
   "metadata": {},
   "outputs": [
    {
     "name": "stdout",
     "output_type": "stream",
     "text": [
      "Running HiGHS 1.4.0 [date: 1970-01-01, git hash: bcf6c0b22]\n",
      "Copyright (c) 2022 ERGO-Code under MIT licence terms\n",
      "Presolving model\n",
      "467 rows, 467 cols, 1359 nonzeros\n",
      "392 rows, 392 cols, 1289 nonzeros\n",
      "273 rows, 296 cols, 1019 nonzeros\n",
      "231 rows, 270 cols, 934 nonzeros\n",
      "\n",
      "Solving MIP model with:\n",
      "   231 rows\n",
      "   270 cols (7 binary, 0 integer, 0 implied int., 263 continuous)\n",
      "   934 nonzeros\n",
      "\n",
      "        Nodes      |    B&B Tree     |            Objective Bounds              |  Dynamic Constraints |       Work      \n",
      "     Proc. InQueue |  Leaves   Expl. | BestBound       BestSol              Gap |   Cuts   InLp Confl. | LpIters     Time\n",
      "\n",
      "         0       0         0   0.00%   37.68           inf                  inf        0      0      0         0     0.0s\n",
      " R       0       0         0   0.00%   157.647185      236.8231947       33.43%        0      0      0       154     0.0s\n",
      " C       0       0         0   0.00%   165.8077366     236.8231947       29.99%      140     12      0       183     0.0s\n",
      " L       0       0         0   0.00%   165.8077366     172.5884159        3.93%      140     12      0       183     0.1s\n",
      "\n",
      "28.6% inactive integer columns, restarting\n",
      "Model after restart has 189 rows, 230 cols (5 bin., 0 int., 0 impl., 225 cont.), and 866 nonzeros\n",
      "\n",
      "         0       0         0   0.00%   165.9203462     172.5884159        3.86%       11      0      0       217     0.1s\n",
      "         0       0         0   0.00%   166.1971838     172.5884159        3.70%       11     11      0       242     0.1s\n",
      "\n",
      "Solving report\n",
      "  Status            Optimal\n",
      "  Primal bound      172.588415898\n",
      "  Dual bound        172.588415898\n",
      "  Gap               0% (tolerance: 0.01%)\n",
      "  Solution status   feasible\n",
      "                    172.588415898 (objective)\n",
      "                    0 (bound viol.)\n",
      "                    0 (int. viol.)\n",
      "                    0 (row viol.)\n",
      "  Timing            0.08 (total)\n",
      "                    0.01 (presolve)\n",
      "                    0.00 (postsolve)\n",
      "  Nodes             1\n",
      "  LP iterations     311 (total)\n",
      "                    0 (strong br.)\n",
      "                    70 (separation)\n",
      "                    62 (heuristics)\n"
     ]
    },
    {
     "data": {
      "text/plain": [
       "OPTIMAL::TerminationStatusCode = 1"
      ]
     },
     "metadata": {},
     "output_type": "display_data"
    }
   ],
   "source": [
    "solve!(dispatch_model)"
   ]
  },
  {
   "cell_type": "code",
   "execution_count": 89,
   "metadata": {},
   "outputs": [
    {
     "data": {
      "text/html": [
       "<div><div style = \"float: left;\"><span>14×2 DataFrame</span></div><div style = \"clear: both;\"></div></div><div class = \"data-frame\" style = \"overflow-x: scroll;\"><table class = \"data-frame\" style = \"margin-bottom: 6px;\"><thead><tr class = \"header\"><th class = \"rowNumber\" style = \"font-weight: bold; text-align: right;\">Row</th><th style = \"text-align: left;\">dim1</th><th style = \"text-align: left;\">Value</th></tr><tr class = \"subheader headerLastRow\"><th class = \"rowNumber\" style = \"font-weight: bold; text-align: right;\"></th><th title = \"Symbol\" style = \"text-align: left;\">Symbol</th><th title = \"Float64\" style = \"text-align: left;\">Float64</th></tr></thead><tbody><tr><td class = \"rowNumber\" style = \"font-weight: bold; text-align: right;\">1</td><td style = \"text-align: left;\">B1</td><td style = \"text-align: right;\">0.0</td></tr><tr><td class = \"rowNumber\" style = \"font-weight: bold; text-align: right;\">2</td><td style = \"text-align: left;\">B10</td><td style = \"text-align: right;\">0.0</td></tr><tr><td class = \"rowNumber\" style = \"font-weight: bold; text-align: right;\">3</td><td style = \"text-align: left;\">B11</td><td style = \"text-align: right;\">0.0</td></tr><tr><td class = \"rowNumber\" style = \"font-weight: bold; text-align: right;\">4</td><td style = \"text-align: left;\">B12</td><td style = \"text-align: right;\">0.0</td></tr><tr><td class = \"rowNumber\" style = \"font-weight: bold; text-align: right;\">5</td><td style = \"text-align: left;\">B13</td><td style = \"text-align: right;\">0.0</td></tr><tr><td class = \"rowNumber\" style = \"font-weight: bold; text-align: right;\">6</td><td style = \"text-align: left;\">B14</td><td style = \"text-align: right;\">0.0</td></tr><tr><td class = \"rowNumber\" style = \"font-weight: bold; text-align: right;\">7</td><td style = \"text-align: left;\">B2</td><td style = \"text-align: right;\">0.0</td></tr><tr><td class = \"rowNumber\" style = \"font-weight: bold; text-align: right;\">8</td><td style = \"text-align: left;\">B3</td><td style = \"text-align: right;\">1.0</td></tr><tr><td class = \"rowNumber\" style = \"font-weight: bold; text-align: right;\">9</td><td style = \"text-align: left;\">B4</td><td style = \"text-align: right;\">0.0</td></tr><tr><td class = \"rowNumber\" style = \"font-weight: bold; text-align: right;\">10</td><td style = \"text-align: left;\">B5</td><td style = \"text-align: right;\">0.0</td></tr><tr><td class = \"rowNumber\" style = \"font-weight: bold; text-align: right;\">11</td><td style = \"text-align: left;\">B6</td><td style = \"text-align: right;\">0.0</td></tr><tr><td class = \"rowNumber\" style = \"font-weight: bold; text-align: right;\">12</td><td style = \"text-align: left;\">B7</td><td style = \"text-align: right;\">0.0</td></tr><tr><td class = \"rowNumber\" style = \"font-weight: bold; text-align: right;\">13</td><td style = \"text-align: left;\">B8</td><td style = \"text-align: right;\">0.0</td></tr><tr><td class = \"rowNumber\" style = \"font-weight: bold; text-align: right;\">14</td><td style = \"text-align: left;\">B9</td><td style = \"text-align: right;\">0.0</td></tr></tbody></table></div>"
      ],
      "text/latex": [
       "\\begin{tabular}{r|cc}\n",
       "\t& dim1 & Value\\\\\n",
       "\t\\hline\n",
       "\t& Symbol & Float64\\\\\n",
       "\t\\hline\n",
       "\t1 & B1 & 0.0 \\\\\n",
       "\t2 & B10 & 0.0 \\\\\n",
       "\t3 & B11 & 0.0 \\\\\n",
       "\t4 & B12 & 0.0 \\\\\n",
       "\t5 & B13 & 0.0 \\\\\n",
       "\t6 & B14 & 0.0 \\\\\n",
       "\t7 & B2 & 0.0 \\\\\n",
       "\t8 & B3 & 1.0 \\\\\n",
       "\t9 & B4 & 0.0 \\\\\n",
       "\t10 & B5 & 0.0 \\\\\n",
       "\t11 & B6 & 0.0 \\\\\n",
       "\t12 & B7 & 0.0 \\\\\n",
       "\t13 & B8 & 0.0 \\\\\n",
       "\t14 & B9 & 0.0 \\\\\n",
       "\\end{tabular}\n"
      ],
      "text/plain": [
       "\u001b[1m14×2 DataFrame\u001b[0m\n",
       "\u001b[1m Row \u001b[0m│\u001b[1m dim1   \u001b[0m\u001b[1m Value   \u001b[0m\n",
       "     │\u001b[90m Symbol \u001b[0m\u001b[90m Float64 \u001b[0m\n",
       "─────┼─────────────────\n",
       "   1 │ B1          0.0\n",
       "   2 │ B10         0.0\n",
       "   3 │ B11         0.0\n",
       "   4 │ B12         0.0\n",
       "   5 │ B13         0.0\n",
       "   6 │ B14         0.0\n",
       "   7 │ B2          0.0\n",
       "   8 │ B3          1.0\n",
       "   9 │ B4          0.0\n",
       "  10 │ B5          0.0\n",
       "  11 │ B6          0.0\n",
       "  12 │ B7          0.0\n",
       "  13 │ B8          0.0\n",
       "  14 │ B9          0.0"
      ]
     },
     "metadata": {},
     "output_type": "display_data"
    }
   ],
   "source": [
    "results_r = convert_jump_container_to_df(vars[:r])"
   ]
  },
  {
   "cell_type": "code",
   "execution_count": 92,
   "metadata": {},
   "outputs": [
    {
     "data": {
      "text/html": [
       "<div><div style = \"float: left;\"><span>2×11 DataFrame</span></div><div style = \"clear: both;\"></div></div><div class = \"data-frame\" style = \"overflow-x: scroll;\"><table class = \"data-frame\" style = \"margin-bottom: 6px;\"><thead><tr class = \"header\"><th class = \"rowNumber\" style = \"font-weight: bold; text-align: right;\">Row</th><th style = \"text-align: left;\">dim1</th><th style = \"text-align: left;\">S1</th><th style = \"text-align: left;\">S10</th><th style = \"text-align: left;\">S2</th><th style = \"text-align: left;\">S3</th><th style = \"text-align: left;\">S4</th><th style = \"text-align: left;\">S5</th><th style = \"text-align: left;\">S6</th><th style = \"text-align: left;\">S7</th><th style = \"text-align: left;\">S8</th><th style = \"text-align: left;\">S9</th></tr><tr class = \"subheader headerLastRow\"><th class = \"rowNumber\" style = \"font-weight: bold; text-align: right;\"></th><th title = \"Symbol\" style = \"text-align: left;\">Symbol</th><th title = \"Union{Missing, Float64}\" style = \"text-align: left;\">Float64?</th><th title = \"Union{Missing, Float64}\" style = \"text-align: left;\">Float64?</th><th title = \"Union{Missing, Float64}\" style = \"text-align: left;\">Float64?</th><th title = \"Union{Missing, Float64}\" style = \"text-align: left;\">Float64?</th><th title = \"Union{Missing, Float64}\" style = \"text-align: left;\">Float64?</th><th title = \"Union{Missing, Float64}\" style = \"text-align: left;\">Float64?</th><th title = \"Union{Missing, Float64}\" style = \"text-align: left;\">Float64?</th><th title = \"Union{Missing, Float64}\" style = \"text-align: left;\">Float64?</th><th title = \"Union{Missing, Float64}\" style = \"text-align: left;\">Float64?</th><th title = \"Union{Missing, Float64}\" style = \"text-align: left;\">Float64?</th></tr></thead><tbody><tr><td class = \"rowNumber\" style = \"font-weight: bold; text-align: right;\">1</td><td style = \"text-align: left;\">G1</td><td style = \"text-align: right;\">147.424</td><td style = \"text-align: right;\">1.01601e-14</td><td style = \"text-align: right;\">-0.0</td><td style = \"text-align: right;\">27.721</td><td style = \"text-align: right;\">144.671</td><td style = \"text-align: right;\">158.101</td><td style = \"text-align: right;\">27.721</td><td style = \"text-align: right;\">27.721</td><td style = \"text-align: right;\">147.424</td><td style = \"text-align: right;\">27.721</td></tr><tr><td class = \"rowNumber\" style = \"font-weight: bold; text-align: right;\">2</td><td style = \"text-align: left;\">G2</td><td style = \"text-align: right;\">40.0</td><td style = \"text-align: right;\">0.0</td><td style = \"text-align: right;\">-0.0</td><td style = \"text-align: right;\">0.0</td><td style = \"text-align: right;\">35.6112</td><td style = \"text-align: right;\">40.0</td><td style = \"text-align: right;\">-5.04522e-16</td><td style = \"text-align: right;\">-1.02002e-15</td><td style = \"text-align: right;\">40.0</td><td style = \"text-align: right;\">1.66247e-16</td></tr></tbody></table></div>"
      ],
      "text/latex": [
       "\\begin{tabular}{r|ccccccccc}\n",
       "\t& dim1 & S1 & S10 & S2 & S3 & S4 & S5 & S6 & \\\\\n",
       "\t\\hline\n",
       "\t& Symbol & Float64? & Float64? & Float64? & Float64? & Float64? & Float64? & Float64? & \\\\\n",
       "\t\\hline\n",
       "\t1 & G1 & 147.424 & 1.01601e-14 & -0.0 & 27.721 & 144.671 & 158.101 & 27.721 & $\\dots$ \\\\\n",
       "\t2 & G2 & 40.0 & 0.0 & -0.0 & 0.0 & 35.6112 & 40.0 & -5.04522e-16 & $\\dots$ \\\\\n",
       "\\end{tabular}\n"
      ],
      "text/plain": [
       "\u001b[1m2×11 DataFrame\u001b[0m\n",
       "\u001b[1m Row \u001b[0m│\u001b[1m dim1   \u001b[0m\u001b[1m S1       \u001b[0m\u001b[1m S10         \u001b[0m\u001b[1m S2       \u001b[0m\u001b[1m S3       \u001b[0m\u001b[1m S4       \u001b[0m\u001b[1m S5       \u001b[0m\u001b[1m \u001b[0m ⋯\n",
       "     │\u001b[90m Symbol \u001b[0m\u001b[90m Float64? \u001b[0m\u001b[90m Float64?    \u001b[0m\u001b[90m Float64? \u001b[0m\u001b[90m Float64? \u001b[0m\u001b[90m Float64? \u001b[0m\u001b[90m Float64? \u001b[0m\u001b[90m \u001b[0m ⋯\n",
       "─────┼──────────────────────────────────────────────────────────────────────────\n",
       "   1 │ G1       147.424  1.01601e-14      -0.0    27.721  144.671    158.101   ⋯\n",
       "   2 │ G2        40.0    0.0              -0.0     0.0     35.6112    40.0\n",
       "\u001b[36m                                                               4 columns omitted\u001b[0m"
      ]
     },
     "metadata": {},
     "output_type": "display_data"
    }
   ],
   "source": [
    "p_results = reformat_2d_df(convert_jump_container_to_df(vars[:P]))"
   ]
  },
  {
   "cell_type": "code",
   "execution_count": 67,
   "metadata": {},
   "outputs": [],
   "source": [
    "m = JuMP.Model(HiGHS.Optimizer)\n",
    "\n",
    "# variables\n",
    "## first-stage\n",
    "@variable(m, r[b in keys(busses)], Bin) # reinforce bus\n",
    "\n",
    "## second-stage\n",
    "@variable(m, 0 <= P[g in keys(generators), s in keys(scenarios)]) # power generation\n",
    "@variable(m, 0 <= L_shed[b in keys(busses), s in keys(scenarios)] <= busses[b][:load]) # load shedding\n",
    "\n",
    "@variable(m, z[b in keys(busses), s in keys(scenarios)], Bin) # bus outage\n",
    "\n",
    "@variable(m, F[l in keys(lines), s in keys(scenarios)]) # power flow\n",
    "@variable(m, δ[b in keys(busses), s in keys(scenarios)]) # voltage angle\n",
    "\n",
    "print()"
   ]
  },
  {
   "cell_type": "code",
   "execution_count": 158,
   "metadata": {},
   "outputs": [],
   "source": [
    "# objective\n",
    "# minimize expected load shedding over all scenarios\n",
    "@objective(m, Min, sum(sum(L_shed[b, s] for b in keys(busses)) * 1/length(scenarios) for s in keys(scenarios)))\n",
    "print()"
   ]
  },
  {
   "cell_type": "code",
   "execution_count": 159,
   "metadata": {},
   "outputs": [
    {
     "data": {
      "text/plain": [
       "2-dimensional DenseAxisArray{ConstraintRef{Model, MathOptInterface.ConstraintIndex{MathOptInterface.ScalarAffineFunction{Float64}, MathOptInterface.LessThan{Float64}}, ScalarShape},2,...} with index sets:\n",
       "    Dimension 1, [:S4, :S2, :S1, :S3]\n",
       "    Dimension 2, [:B3, :B1, :B2]\n",
       "And data, a 4×3 Matrix{ConstraintRef{Model, MathOptInterface.ConstraintIndex{MathOptInterface.ScalarAffineFunction{Float64}, MathOptInterface.LessThan{Float64}}, ScalarShape}}:\n",
       " busses[S4,B3] : -r[B3] + z[B3,S4] ≤ 1.0  …  busses[S4,B2] : -r[B2] + z[B2,S4] ≤ 0.0\n",
       " busses[S2,B3] : -r[B3] + z[B3,S2] ≤ 1.0     busses[S2,B2] : -r[B2] + z[B2,S2] ≤ 1.0\n",
       " busses[S1,B3] : -r[B3] + z[B3,S1] ≤ 1.0     busses[S1,B2] : -r[B2] + z[B2,S1] ≤ 1.0\n",
       " busses[S3,B3] : -r[B3] + z[B3,S3] ≤ 1.0     busses[S3,B2] : -r[B2] + z[B2,S3] ≤ 0.0"
      ]
     },
     "metadata": {},
     "output_type": "display_data"
    }
   ],
   "source": [
    "# constraints\n",
    "\n",
    "## first-stage\n",
    "### reinforcement budget\n",
    "@constraint(m, \n",
    "\treinforcement_budget,\n",
    "\t  sum(r[b] * busses[b][:reinforcement_cost] for b in keys(busses)) \n",
    "\t<= budget\n",
    ")\n",
    "\n",
    "## second-stage\n",
    "### power balance\n",
    "@constraint(m, \n",
    "\tpower_balance[b in keys(busses), s in keys(scenarios)],\n",
    "\tsum(P[g, s] for g in busses[b][:generators]) \n",
    "\t+ sum(F[l, s] for l in busses[b][:incoming]) \n",
    "\t- sum(F[l, s] for l in busses[b][:outgoing]) \n",
    "\t+ L_shed[b, s] \n",
    "\t- busses[b][:load]\n",
    "\t== 0\n",
    ")\n",
    "### line flow\n",
    "@constraint(m, \n",
    "\tline_flow[l in keys(lines), s in keys(scenarios)],\n",
    "\tF[l, s] == lines[l][:susceptance] * (δ[lines[l][:from], s] - δ[lines[l][:to], s])\n",
    ")\n",
    "### line flow under outage upper\n",
    "@constraint(m,\n",
    "\tline_flow_under_outage_upper[b in keys(busses), l in [busses[b][:incoming]; busses[b][:outgoing]], s in keys(scenarios)],\n",
    "\tF[l, s] <= lines[l][:capacity] * z[b, s]\n",
    ")\n",
    "### line flow under outage lower\n",
    "@constraint(m,\n",
    "\tline_flow_under_outage_lower[b in keys(busses), l in [busses[b][:incoming]; busses[b][:outgoing]], s in keys(scenarios)],\n",
    "\t-lines[l][:capacity] * z[b, s] <= F[l, s] \n",
    ")\n",
    "\n",
    "### generator under outage lower\n",
    "@constraint(m,\n",
    "\tgenerator_under_outage_lower[g in keys(generators), s in keys(scenarios)],\n",
    "\t-generators[g][:capacity] * z[generators[g][:bus], s] <= P[g, s] \n",
    ")\n",
    "### generator under outage upper\n",
    "@constraint(m,\n",
    "\tgenerator_under_outage_upper[g in keys(generators), s in keys(scenarios)],\n",
    "\tP[g, s] <= generators[g][:capacity] * z[generators[g][:bus], s]\n",
    ")\n",
    "\n",
    "### reference angle\n",
    "@constraint(m,\n",
    "\treference_angle[s in keys(scenarios)],\n",
    "\tδ[:B1, s] == 0\n",
    ")\n",
    "### attacked busses\n",
    "@constraint(m,\n",
    "\tbusses[s in keys(scenarios), b in keys(busses)],\n",
    "\tz[b, s] <= 1 - (b in scenarios[s][:attacked_busses] ? 1 : 0) + r[b]\n",
    ")"
   ]
  },
  {
   "cell_type": "code",
   "execution_count": 160,
   "metadata": {},
   "outputs": [
    {
     "name": "stdout",
     "output_type": "stream",
     "text": [
      "Min 0.25 L_shed[B3,S4] + 0.25 L_shed[B1,S4] + 0.25 L_shed[B2,S4] + 0.25 L_shed[B3,S2] + 0.25 L_shed[B1,S2] + 0.25 L_shed[B2,S2] + 0.25 L_shed[B3,S1] + 0.25 L_shed[B1,S1] + 0.25 L_shed[B2,S1] + 0.25 L_shed[B3,S3] + 0.25 L_shed[B1,S3] + 0.25 L_shed[B2,S3]\n",
      "Subject to\n",
      " power_balance[B3,S4] : L_shed[B3,S4] + F[L2,S4] - F[L3,S4] = 200.0\n",
      " power_balance[B1,S4] : P[G1,S4] + L_shed[B1,S4] - F[L2,S4] + F[L1,S4] = 0.0\n",
      " power_balance[B2,S4] : P[G2,S4] + L_shed[B2,S4] - F[L1,S4] + F[L3,S4] = 0.0\n",
      " power_balance[B3,S2] : L_shed[B3,S2] + F[L2,S2] - F[L3,S2] = 200.0\n",
      " power_balance[B1,S2] : P[G1,S2] + L_shed[B1,S2] - F[L2,S2] + F[L1,S2] = 0.0\n",
      " power_balance[B2,S2] : P[G2,S2] + L_shed[B2,S2] - F[L1,S2] + F[L3,S2] = 0.0\n",
      " power_balance[B3,S1] : L_shed[B3,S1] + F[L2,S1] - F[L3,S1] = 200.0\n",
      " power_balance[B1,S1] : P[G1,S1] + L_shed[B1,S1] - F[L2,S1] + F[L1,S1] = 0.0\n",
      " power_balance[B2,S1] : P[G2,S1] + L_shed[B2,S1] - F[L1,S1] + F[L3,S1] = 0.0\n",
      " power_balance[B3,S3] : L_shed[B3,S3] + F[L2,S3] - F[L3,S3] = 200.0\n",
      " power_balance[B1,S3] : P[G1,S3] + L_shed[B1,S3] - F[L2,S3] + F[L1,S3] = 0.0\n",
      " power_balance[B2,S3] : P[G2,S3] + L_shed[B2,S3] - F[L1,S3] + F[L3,S3] = 0.0\n",
      " line_flow[L2,S4] : F[L2,S4] + 500 δ[B3,S4] - 500 δ[B1,S4] = 0.0\n",
      " line_flow[L1,S4] : F[L1,S4] + 500 δ[B1,S4] - 500 δ[B2,S4] = 0.0\n",
      " line_flow[L3,S4] : F[L3,S4] - 500 δ[B3,S4] + 500 δ[B2,S4] = 0.0\n",
      " line_flow[L2,S2] : F[L2,S2] + 500 δ[B3,S2] - 500 δ[B1,S2] = 0.0\n",
      " line_flow[L1,S2] : F[L1,S2] + 500 δ[B1,S2] - 500 δ[B2,S2] = 0.0\n",
      " line_flow[L3,S2] : F[L3,S2] - 500 δ[B3,S2] + 500 δ[B2,S2] = 0.0\n",
      " line_flow[L2,S1] : F[L2,S1] + 500 δ[B3,S1] - 500 δ[B1,S1] = 0.0\n",
      " line_flow[L1,S1] : F[L1,S1] + 500 δ[B1,S1] - 500 δ[B2,S1] = 0.0\n",
      " line_flow[L3,S1] : F[L3,S1] - 500 δ[B3,S1] + 500 δ[B2,S1] = 0.0\n",
      " line_flow[L2,S3] : F[L2,S3] + 500 δ[B3,S3] - 500 δ[B1,S3] = 0.0\n",
      " line_flow[L1,S3] : F[L1,S3] + 500 δ[B1,S3] - 500 δ[B2,S3] = 0.0\n",
      " line_flow[L3,S3] : F[L3,S3] - 500 δ[B3,S3] + 500 δ[B2,S3] = 0.0\n",
      " reference_angle[S4] : δ[B1,S4] = 0.0\n",
      " reference_angle[S2] : δ[B1,S2] = 0.0\n",
      " reference_angle[S1] : δ[B1,S1] = 0.0\n",
      " reference_angle[S3] : δ[B1,S3] = 0.0\n",
      " reinforcement_budget : 100 r[B3] + 100 r[B1] + 100 r[B2] ≤ 100.0\n",
      " line_flow_under_outage_upper[B3,L2,S4] : -100 z[B3,S4] + F[L2,S4] ≤ 0.0\n",
      " line_flow_under_outage_upper[B3,L2,S2] : -100 z[B3,S2] + F[L2,S2] ≤ 0.0\n",
      " line_flow_under_outage_upper[B3,L2,S1] : -100 z[B3,S1] + F[L2,S1] ≤ 0.0\n",
      " line_flow_under_outage_upper[B3,L2,S3] : -100 z[B3,S3] + F[L2,S3] ≤ 0.0\n",
      " line_flow_under_outage_upper[B3,L3,S4] : -150 z[B3,S4] + F[L3,S4] ≤ 0.0\n",
      " line_flow_under_outage_upper[B3,L3,S2] : -150 z[B3,S2] + F[L3,S2] ≤ 0.0\n",
      " line_flow_under_outage_upper[B3,L3,S1] : -150 z[B3,S1] + F[L3,S1] ≤ 0.0\n",
      " line_flow_under_outage_upper[B3,L3,S3] : -150 z[B3,S3] + F[L3,S3] ≤ 0.0\n",
      " line_flow_under_outage_upper[B1,L1,S4] : -100 z[B1,S4] + F[L1,S4] ≤ 0.0\n",
      " line_flow_under_outage_upper[B1,L1,S2] : -100 z[B1,S2] + F[L1,S2] ≤ 0.0\n",
      " line_flow_under_outage_upper[B1,L1,S1] : -100 z[B1,S1] + F[L1,S1] ≤ 0.0\n",
      " line_flow_under_outage_upper[B1,L1,S3] : -100 z[B1,S3] + F[L1,S3] ≤ 0.0\n",
      " line_flow_under_outage_upper[B1,L2,S4] : -100 z[B1,S4] + F[L2,S4] ≤ 0.0\n",
      " line_flow_under_outage_upper[B1,L2,S2] : -100 z[B1,S2] + F[L2,S2] ≤ 0.0\n",
      " line_flow_under_outage_upper[B1,L2,S1] : -100 z[B1,S1] + F[L2,S1] ≤ 0.0\n",
      " line_flow_under_outage_upper[B1,L2,S3] : -100 z[B1,S3] + F[L2,S3] ≤ 0.0\n",
      " line_flow_under_outage_upper[B2,L3,S4] : -150 z[B2,S4] + F[L3,S4] ≤ 0.0\n",
      " line_flow_under_outage_upper[B2,L3,S2] : -150 z[B2,S2] + F[L3,S2] ≤ 0.0\n",
      " line_flow_under_outage_upper[B2,L3,S1] : -150 z[B2,S1] + F[L3,S1] ≤ 0.0\n",
      " line_flow_under_outage_upper[B2,L3,S3] : -150 z[B2,S3] + F[L3,S3] ≤ 0.0\n",
      " line_flow_under_outage_upper[B2,L1,S4] : -100 z[B2,S4] + F[L1,S4] ≤ 0.0\n",
      " line_flow_under_outage_upper[B2,L1,S2] : -100 z[B2,S2] + F[L1,S2] ≤ 0.0\n",
      " line_flow_under_outage_upper[B2,L1,S1] : -100 z[B2,S1] + F[L1,S1] ≤ 0.0\n",
      " line_flow_under_outage_upper[B2,L1,S3] : -100 z[B2,S3] + F[L1,S3] ≤ 0.0\n",
      " line_flow_under_outage_lower[B3,L2,S4] : -100 z[B3,S4] - F[L2,S4] ≤ 0.0\n",
      " line_flow_under_outage_lower[B3,L2,S2] : -100 z[B3,S2] - F[L2,S2] ≤ 0.0\n",
      " line_flow_under_outage_lower[B3,L2,S1] : -100 z[B3,S1] - F[L2,S1] ≤ 0.0\n",
      " line_flow_under_outage_lower[B3,L2,S3] : -100 z[B3,S3] - F[L2,S3] ≤ 0.0\n",
      " line_flow_under_outage_lower[B3,L3,S4] : -150 z[B3,S4] - F[L3,S4] ≤ 0.0\n",
      " line_flow_under_outage_lower[B3,L3,S2] : -150 z[B3,S2] - F[L3,S2] ≤ 0.0\n",
      " line_flow_under_outage_lower[B3,L3,S1] : -150 z[B3,S1] - F[L3,S1] ≤ 0.0\n",
      " line_flow_under_outage_lower[B3,L3,S3] : -150 z[B3,S3] - F[L3,S3] ≤ 0.0\n",
      " line_flow_under_outage_lower[B1,L1,S4] : -100 z[B1,S4] - F[L1,S4] ≤ 0.0\n",
      " line_flow_under_outage_lower[B1,L1,S2] : -100 z[B1,S2] - F[L1,S2] ≤ 0.0\n",
      " line_flow_under_outage_lower[B1,L1,S1] : -100 z[B1,S1] - F[L1,S1] ≤ 0.0\n",
      " line_flow_under_outage_lower[B1,L1,S3] : -100 z[B1,S3] - F[L1,S3] ≤ 0.0\n",
      " line_flow_under_outage_lower[B1,L2,S4] : -100 z[B1,S4] - F[L2,S4] ≤ 0.0\n",
      " line_flow_under_outage_lower[B1,L2,S2] : -100 z[B1,S2] - F[L2,S2] ≤ 0.0\n",
      " line_flow_under_outage_lower[B1,L2,S1] : -100 z[B1,S1] - F[L2,S1] ≤ 0.0\n",
      " line_flow_under_outage_lower[B1,L2,S3] : -100 z[B1,S3] - F[L2,S3] ≤ 0.0\n",
      " line_flow_under_outage_lower[B2,L3,S4] : -150 z[B2,S4] - F[L3,S4] ≤ 0.0\n",
      " line_flow_under_outage_lower[B2,L3,S2] : -150 z[B2,S2] - F[L3,S2] ≤ 0.0\n",
      " line_flow_under_outage_lower[B2,L3,S1] : -150 z[B2,S1] - F[L3,S1] ≤ 0.0\n",
      " line_flow_under_outage_lower[B2,L3,S3] : -150 z[B2,S3] - F[L3,S3] ≤ 0.0\n",
      " line_flow_under_outage_lower[B2,L1,S4] : -100 z[B2,S4] - F[L1,S4] ≤ 0.0\n",
      " line_flow_under_outage_lower[B2,L1,S2] : -100 z[B2,S2] - F[L1,S2] ≤ 0.0\n",
      " line_flow_under_outage_lower[B2,L1,S1] : -100 z[B2,S1] - F[L1,S1] ≤ 0.0\n",
      " line_flow_under_outage_lower[B2,L1,S3] : -100 z[B2,S3] - F[L1,S3] ≤ 0.0\n",
      " generator_under_outage_lower[G2,S4] : -P[G2,S4] - 150 z[B2,S4] ≤ 0.0\n",
      " generator_under_outage_lower[G1,S4] : -P[G1,S4] - 100 z[B1,S4] ≤ 0.0\n",
      " generator_under_outage_lower[G2,S2] : -P[G2,S2] - 150 z[B2,S2] ≤ 0.0\n",
      " generator_under_outage_lower[G1,S2] : -P[G1,S2] - 100 z[B1,S2] ≤ 0.0\n",
      " generator_under_outage_lower[G2,S1] : -P[G2,S1] - 150 z[B2,S1] ≤ 0.0\n",
      " generator_under_outage_lower[G1,S1] : -P[G1,S1] - 100 z[B1,S1] ≤ 0.0\n",
      " generator_under_outage_lower[G2,S3] : -P[G2,S3] - 150 z[B2,S3] ≤ 0.0\n",
      " generator_under_outage_lower[G1,S3] : -P[G1,S3] - 100 z[B1,S3] ≤ 0.0\n",
      " generator_under_outage_upper[G2,S4] : P[G2,S4] - 150 z[B2,S4] ≤ 0.0\n",
      " generator_under_outage_upper[G1,S4] : P[G1,S4] - 100 z[B1,S4] ≤ 0.0\n",
      " generator_under_outage_upper[G2,S2] : P[G2,S2] - 150 z[B2,S2] ≤ 0.0\n",
      " generator_under_outage_upper[G1,S2] : P[G1,S2] - 100 z[B1,S2] ≤ 0.0\n",
      " generator_under_outage_upper[G2,S1] : P[G2,S1] - 150 z[B2,S1] ≤ 0.0\n",
      " generator_under_outage_upper[G1,S1] : P[G1,S1] - 100 z[B1,S1] ≤ 0.0\n",
      " generator_under_outage_upper[G2,S3] : P[G2,S3] - 150 z[B2,S3] ≤ 0.0\n",
      " generator_under_outage_upper[G1,S3] : P[G1,S3] - 100 z[B1,S3] ≤ 0.0\n",
      " busses[S4,B3] : -r[B3] + z[B3,S4] ≤ 1.0\n",
      " busses[S2,B3] : -r[B3] + z[B3,S2] ≤ 1.0\n",
      " busses[S1,B3] : -r[B3] + z[B3,S1] ≤ 1.0\n",
      " busses[S3,B3] : -r[B3] + z[B3,S3] ≤ 1.0\n",
      " busses[S4,B1] : -r[B1] + z[B1,S4] ≤ 0.0\n",
      " busses[S2,B1] : -r[B1] + z[B1,S2] ≤ 0.0\n",
      " busses[S1,B1] : -r[B1] + z[B1,S1] ≤ 1.0\n",
      " busses[S3,B1] : -r[B1] + z[B1,S3] ≤ 1.0\n",
      " busses[S4,B2] : -r[B2] + z[B2,S4] ≤ 0.0\n",
      " busses[S2,B2] : -r[B2] + z[B2,S2] ≤ 1.0\n",
      " busses[S1,B2] : -r[B2] + z[B2,S1] ≤ 1.0\n",
      " busses[S3,B2] : -r[B2] + z[B2,S3] ≤ 0.0\n",
      " P[G2,S4] ≥ 0.0\n",
      " P[G1,S4] ≥ 0.0\n",
      " P[G2,S2] ≥ 0.0\n",
      " P[G1,S2] ≥ 0.0\n",
      " P[G2,S1] ≥ 0.0\n",
      " P[G1,S1] ≥ 0.0\n",
      " P[G2,S3] ≥ 0.0\n",
      " P[G1,S3] ≥ 0.0\n",
      " L_shed[B3,S4] ≥ 0.0\n",
      " L_shed[B1,S4] ≥ 0.0\n",
      " L_shed[B2,S4] ≥ 0.0\n",
      " L_shed[B3,S2] ≥ 0.0\n",
      " L_shed[B1,S2] ≥ 0.0\n",
      " L_shed[B2,S2] ≥ 0.0\n",
      " L_shed[B3,S1] ≥ 0.0\n",
      " L_shed[B1,S1] ≥ 0.0\n",
      " L_shed[B2,S1] ≥ 0.0\n",
      " L_shed[B3,S3] ≥ 0.0\n",
      " L_shed[B1,S3] ≥ 0.0\n",
      " L_shed[B2,S3] ≥ 0.0\n",
      " L_shed[B3,S4] ≤ 200.0\n",
      " L_shed[B1,S4] ≤ 0.0\n",
      " L_shed[B2,S4] ≤ 0.0\n",
      " L_shed[B3,S2] ≤ 200.0\n",
      " L_shed[B1,S2] ≤ 0.0\n",
      " L_shed[B2,S2] ≤ 0.0\n",
      " L_shed[B3,S1] ≤ 200.0\n",
      " L_shed[B1,S1] ≤ 0.0\n",
      " L_shed[B2,S1] ≤ 0.0\n",
      " L_shed[B3,S3] ≤ 200.0\n",
      " L_shed[B1,S3] ≤ 0.0\n",
      " L_shed[B2,S3] ≤ 0.0\n",
      " r[B3] binary\n",
      " r[B1] binary\n",
      " r[B2] binary\n",
      " z[B3,S4] binary\n",
      " z[B1,S4] binary\n",
      " z[B2,S4] binary\n",
      " z[B3,S2] binary\n",
      " z[B1,S2] binary\n",
      " z[B2,S2] binary\n",
      " z[B3,S1] binary\n",
      " z[B1,S1] binary\n",
      " z[B2,S1] binary\n",
      " z[B3,S3] binary\n",
      " z[B1,S3] binary\n",
      " z[B2,S3] binary\n"
     ]
    }
   ],
   "source": [
    "print(m)"
   ]
  },
  {
   "cell_type": "code",
   "execution_count": 161,
   "metadata": {},
   "outputs": [
    {
     "name": "stdout",
     "output_type": "stream",
     "text": [
      "Running HiGHS 1.4.0 [date: 1970-01-01, git hash: bcf6c0b22]\n",
      "Copyright (c) 2022 ERGO-Code under MIT licence terms\n",
      "Presolving model\n",
      "49 rows, 38 cols, 114 nonzeros\n",
      "32 rows, 21 cols, 86 nonzeros\n",
      "29 rows, 15 cols, 67 nonzeros\n",
      "17 rows, 14 cols, 47 nonzeros\n",
      "\n",
      "Solving MIP model with:\n",
      "   17 rows\n",
      "   14 cols (1 binary, 0 integer, 0 implied int., 13 continuous)\n",
      "   47 nonzeros\n",
      "\n",
      "        Nodes      |    B&B Tree     |            Objective Bounds              |  Dynamic Constraints |       Work      \n",
      "     Proc. InQueue |  Leaves   Expl. | BestBound       BestSol              Gap |   Cuts   InLp Confl. | LpIters     Time\n",
      "\n",
      "         0       0         0   0.00%   50              inf                  inf        0      0      0         0     0.0s\n",
      " R       0       0         0   0.00%   75              100               25.00%        0      0      0         9     0.0s\n",
      " C       0       0         0   0.00%   94.44375921     100                5.56%       48      3      0        16     0.0s\n",
      "\n",
      "Solving report\n",
      "  Status            Optimal\n",
      "  Primal bound      100\n",
      "  Dual bound        100\n",
      "  Gap               0% (tolerance: 0.01%)\n",
      "  Solution status   feasible\n",
      "                    100 (objective)\n",
      "                    0 (bound viol.)\n",
      "                    0 (int. viol.)\n",
      "                    0 (row viol.)\n",
      "  Timing            0.00 (total)\n",
      "                    0.00 (presolve)\n",
      "                    0.00 (postsolve)\n",
      "  Nodes             1\n",
      "  LP iterations     25 (total)\n",
      "                    0 (strong br.)\n",
      "                    7 (separation)\n",
      "                    5 (heuristics)\n"
     ]
    }
   ],
   "source": [
    "optimize!(m)"
   ]
  },
  {
   "attachments": {},
   "cell_type": "markdown",
   "metadata": {},
   "source": [
    "# Results\n",
    "## Reinforce results"
   ]
  },
  {
   "cell_type": "code",
   "execution_count": 83,
   "metadata": {},
   "outputs": [
    {
     "data": {
      "text/plain": [
       "convert_jump_container_to_df"
      ]
     },
     "metadata": {},
     "output_type": "display_data"
    }
   ],
   "source": [
    "\"\"\"\n",
    "Returns a `DataFrame` with the values of the variables from the JuMP container `var`.\n",
    "The column names of the `DataFrame` can be specified for the indexing columns in `dim_names`,\n",
    "and the name of the data value column by a Symbol `value_col` e.g. :Value\n",
    "\"\"\"\n",
    "function convert_jump_container_to_df(\n",
    "        var::JuMP.Containers.DenseAxisArray;\n",
    "        dim_names::Vector{Symbol}=Vector{Symbol}(),\n",
    "        value_col::Symbol=:Value\n",
    "    )\n",
    "\n",
    "    if isempty(var)\n",
    "        return DataFrame()\n",
    "    end\n",
    "\n",
    "    if length(dim_names) == 0\n",
    "        dim_names = [Symbol(\"dim$i\") for i in 1:length(var.axes)]\n",
    "    end\n",
    "\n",
    "    if length(dim_names) != length(var.axes)\n",
    "        throw(ArgumentError(\"Length of given name list does not fit the number of variable dimensions\"))\n",
    "    end\n",
    "\n",
    "    tup_dim = (dim_names...,)\n",
    "\n",
    "    # With a product over all axis sets of size M, form an Mx1 Array of all indices to the JuMP container `var`\n",
    "    ind = reshape([collect(k[i] for i in 1:length(dim_names)) for k in Base.Iterators.product(var.axes...)],:,1)\n",
    "\n",
    "    var_val  = value.(var)\n",
    "\n",
    "    df = DataFrame([merge(NamedTuple{tup_dim}(ind[i]), NamedTuple{(value_col,)}(var_val[(ind[i]...,)...])) for i in 1:length(ind)])\n",
    "\n",
    "    # sort by :dim1\n",
    "\n",
    "    df = df[sortperm(df[!, Symbol(\"dim1\")]), :]\n",
    "\n",
    "    return df\n",
    "end"
   ]
  },
  {
   "cell_type": "code",
   "execution_count": 84,
   "metadata": {},
   "outputs": [
    {
     "data": {
      "text/plain": [
       "reformat_2d_df (generic function with 1 method)"
      ]
     },
     "metadata": {},
     "output_type": "display_data"
    }
   ],
   "source": [
    "function reformat_2d_df(df::DataFrame)\n",
    "\t# sort dim 1 and 2\n",
    "\tdf = df[sortperm(df[!, :dim1]), :]\n",
    "\tdf = df[sortperm(df[!, :dim2]), :]\n",
    "\treturn unstack(df, :dim1, :dim2, :Value)\n",
    "end"
   ]
  },
  {
   "cell_type": "code",
   "execution_count": 164,
   "metadata": {},
   "outputs": [
    {
     "data": {
      "text/html": [
       "<div><div style = \"float: left;\"><span>3×2 DataFrame</span></div><div style = \"clear: both;\"></div></div><div class = \"data-frame\" style = \"overflow-x: scroll;\"><table class = \"data-frame\" style = \"margin-bottom: 6px;\"><thead><tr class = \"header\"><th class = \"rowNumber\" style = \"font-weight: bold; text-align: right;\">Row</th><th style = \"text-align: left;\">dim1</th><th style = \"text-align: left;\">Value</th></tr><tr class = \"subheader headerLastRow\"><th class = \"rowNumber\" style = \"font-weight: bold; text-align: right;\"></th><th title = \"Symbol\" style = \"text-align: left;\">Symbol</th><th title = \"Float64\" style = \"text-align: left;\">Float64</th></tr></thead><tbody><tr><td class = \"rowNumber\" style = \"font-weight: bold; text-align: right;\">1</td><td style = \"text-align: left;\">B1</td><td style = \"text-align: right;\">0.0</td></tr><tr><td class = \"rowNumber\" style = \"font-weight: bold; text-align: right;\">2</td><td style = \"text-align: left;\">B2</td><td style = \"text-align: right;\">1.0</td></tr><tr><td class = \"rowNumber\" style = \"font-weight: bold; text-align: right;\">3</td><td style = \"text-align: left;\">B3</td><td style = \"text-align: right;\">0.0</td></tr></tbody></table></div>"
      ],
      "text/latex": [
       "\\begin{tabular}{r|cc}\n",
       "\t& dim1 & Value\\\\\n",
       "\t\\hline\n",
       "\t& Symbol & Float64\\\\\n",
       "\t\\hline\n",
       "\t1 & B1 & 0.0 \\\\\n",
       "\t2 & B2 & 1.0 \\\\\n",
       "\t3 & B3 & 0.0 \\\\\n",
       "\\end{tabular}\n"
      ],
      "text/plain": [
       "\u001b[1m3×2 DataFrame\u001b[0m\n",
       "\u001b[1m Row \u001b[0m│\u001b[1m dim1   \u001b[0m\u001b[1m Value   \u001b[0m\n",
       "     │\u001b[90m Symbol \u001b[0m\u001b[90m Float64 \u001b[0m\n",
       "─────┼─────────────────\n",
       "   1 │ B1          0.0\n",
       "   2 │ B2          1.0\n",
       "   3 │ B3          0.0"
      ]
     },
     "metadata": {},
     "output_type": "display_data"
    }
   ],
   "source": [
    "results_r = convert_jump_container_to_df(r)"
   ]
  },
  {
   "cell_type": "code",
   "execution_count": 165,
   "metadata": {},
   "outputs": [
    {
     "data": {
      "text/html": [
       "<div><div style = \"float: left;\"><span>2×5 DataFrame</span></div><div style = \"clear: both;\"></div></div><div class = \"data-frame\" style = \"overflow-x: scroll;\"><table class = \"data-frame\" style = \"margin-bottom: 6px;\"><thead><tr class = \"header\"><th class = \"rowNumber\" style = \"font-weight: bold; text-align: right;\">Row</th><th style = \"text-align: left;\">dim1</th><th style = \"text-align: left;\">S1</th><th style = \"text-align: left;\">S2</th><th style = \"text-align: left;\">S3</th><th style = \"text-align: left;\">S4</th></tr><tr class = \"subheader headerLastRow\"><th class = \"rowNumber\" style = \"font-weight: bold; text-align: right;\"></th><th title = \"Symbol\" style = \"text-align: left;\">Symbol</th><th title = \"Union{Missing, Float64}\" style = \"text-align: left;\">Float64?</th><th title = \"Union{Missing, Float64}\" style = \"text-align: left;\">Float64?</th><th title = \"Union{Missing, Float64}\" style = \"text-align: left;\">Float64?</th><th title = \"Union{Missing, Float64}\" style = \"text-align: left;\">Float64?</th></tr></thead><tbody><tr><td class = \"rowNumber\" style = \"font-weight: bold; text-align: right;\">1</td><td style = \"text-align: left;\">G1</td><td style = \"text-align: right;\">50.0</td><td style = \"text-align: right;\">0.0</td><td style = \"text-align: right;\">100.0</td><td style = \"text-align: right;\">0.0</td></tr><tr><td class = \"rowNumber\" style = \"font-weight: bold; text-align: right;\">2</td><td style = \"text-align: left;\">G2</td><td style = \"text-align: right;\">150.0</td><td style = \"text-align: right;\">5.68434e-14</td><td style = \"text-align: right;\">100.0</td><td style = \"text-align: right;\">0.0</td></tr></tbody></table></div>"
      ],
      "text/latex": [
       "\\begin{tabular}{r|ccccc}\n",
       "\t& dim1 & S1 & S2 & S3 & S4\\\\\n",
       "\t\\hline\n",
       "\t& Symbol & Float64? & Float64? & Float64? & Float64?\\\\\n",
       "\t\\hline\n",
       "\t1 & G1 & 50.0 & 0.0 & 100.0 & 0.0 \\\\\n",
       "\t2 & G2 & 150.0 & 5.68434e-14 & 100.0 & 0.0 \\\\\n",
       "\\end{tabular}\n"
      ],
      "text/plain": [
       "\u001b[1m2×5 DataFrame\u001b[0m\n",
       "\u001b[1m Row \u001b[0m│\u001b[1m dim1   \u001b[0m\u001b[1m S1       \u001b[0m\u001b[1m S2          \u001b[0m\u001b[1m S3       \u001b[0m\u001b[1m S4       \u001b[0m\n",
       "     │\u001b[90m Symbol \u001b[0m\u001b[90m Float64? \u001b[0m\u001b[90m Float64?    \u001b[0m\u001b[90m Float64? \u001b[0m\u001b[90m Float64? \u001b[0m\n",
       "─────┼───────────────────────────────────────────────────\n",
       "   1 │ G1          50.0  0.0             100.0       0.0\n",
       "   2 │ G2         150.0  5.68434e-14     100.0       0.0"
      ]
     },
     "metadata": {},
     "output_type": "display_data"
    }
   ],
   "source": [
    "p_results = reformat_2d_df(convert_jump_container_to_df(P))"
   ]
  },
  {
   "cell_type": "code",
   "execution_count": 166,
   "metadata": {},
   "outputs": [
    {
     "data": {
      "text/html": [
       "<div><div style = \"float: left;\"><span>3×5 DataFrame</span></div><div style = \"clear: both;\"></div></div><div class = \"data-frame\" style = \"overflow-x: scroll;\"><table class = \"data-frame\" style = \"margin-bottom: 6px;\"><thead><tr class = \"header\"><th class = \"rowNumber\" style = \"font-weight: bold; text-align: right;\">Row</th><th style = \"text-align: left;\">dim1</th><th style = \"text-align: left;\">S1</th><th style = \"text-align: left;\">S2</th><th style = \"text-align: left;\">S3</th><th style = \"text-align: left;\">S4</th></tr><tr class = \"subheader headerLastRow\"><th class = \"rowNumber\" style = \"font-weight: bold; text-align: right;\"></th><th title = \"Symbol\" style = \"text-align: left;\">Symbol</th><th title = \"Union{Missing, Float64}\" style = \"text-align: left;\">Float64?</th><th title = \"Union{Missing, Float64}\" style = \"text-align: left;\">Float64?</th><th title = \"Union{Missing, Float64}\" style = \"text-align: left;\">Float64?</th><th title = \"Union{Missing, Float64}\" style = \"text-align: left;\">Float64?</th></tr></thead><tbody><tr><td class = \"rowNumber\" style = \"font-weight: bold; text-align: right;\">1</td><td style = \"text-align: left;\">B1</td><td style = \"text-align: right;\">0.0</td><td style = \"text-align: right;\">0.0</td><td style = \"text-align: right;\">0.0</td><td style = \"text-align: right;\">0.0</td></tr><tr><td class = \"rowNumber\" style = \"font-weight: bold; text-align: right;\">2</td><td style = \"text-align: left;\">B2</td><td style = \"text-align: right;\">0.0</td><td style = \"text-align: right;\">0.0</td><td style = \"text-align: right;\">0.0</td><td style = \"text-align: right;\">0.0</td></tr><tr><td class = \"rowNumber\" style = \"font-weight: bold; text-align: right;\">3</td><td style = \"text-align: left;\">B3</td><td style = \"text-align: right;\">0.0</td><td style = \"text-align: right;\">200.0</td><td style = \"text-align: right;\">0.0</td><td style = \"text-align: right;\">200.0</td></tr></tbody></table></div>"
      ],
      "text/latex": [
       "\\begin{tabular}{r|ccccc}\n",
       "\t& dim1 & S1 & S2 & S3 & S4\\\\\n",
       "\t\\hline\n",
       "\t& Symbol & Float64? & Float64? & Float64? & Float64?\\\\\n",
       "\t\\hline\n",
       "\t1 & B1 & 0.0 & 0.0 & 0.0 & 0.0 \\\\\n",
       "\t2 & B2 & 0.0 & 0.0 & 0.0 & 0.0 \\\\\n",
       "\t3 & B3 & 0.0 & 200.0 & 0.0 & 200.0 \\\\\n",
       "\\end{tabular}\n"
      ],
      "text/plain": [
       "\u001b[1m3×5 DataFrame\u001b[0m\n",
       "\u001b[1m Row \u001b[0m│\u001b[1m dim1   \u001b[0m\u001b[1m S1       \u001b[0m\u001b[1m S2       \u001b[0m\u001b[1m S3       \u001b[0m\u001b[1m S4       \u001b[0m\n",
       "     │\u001b[90m Symbol \u001b[0m\u001b[90m Float64? \u001b[0m\u001b[90m Float64? \u001b[0m\u001b[90m Float64? \u001b[0m\u001b[90m Float64? \u001b[0m\n",
       "─────┼────────────────────────────────────────────────\n",
       "   1 │ B1           0.0       0.0       0.0       0.0\n",
       "   2 │ B2           0.0       0.0       0.0       0.0\n",
       "   3 │ B3           0.0     200.0       0.0     200.0"
      ]
     },
     "metadata": {},
     "output_type": "display_data"
    }
   ],
   "source": [
    "L_shed_results = reformat_2d_df(convert_jump_container_to_df(L_shed))"
   ]
  },
  {
   "cell_type": "code",
   "execution_count": 167,
   "metadata": {},
   "outputs": [
    {
     "data": {
      "text/html": [
       "<div><div style = \"float: left;\"><span>3×5 DataFrame</span></div><div style = \"clear: both;\"></div></div><div class = \"data-frame\" style = \"overflow-x: scroll;\"><table class = \"data-frame\" style = \"margin-bottom: 6px;\"><thead><tr class = \"header\"><th class = \"rowNumber\" style = \"font-weight: bold; text-align: right;\">Row</th><th style = \"text-align: left;\">dim1</th><th style = \"text-align: left;\">S1</th><th style = \"text-align: left;\">S2</th><th style = \"text-align: left;\">S3</th><th style = \"text-align: left;\">S4</th></tr><tr class = \"subheader headerLastRow\"><th class = \"rowNumber\" style = \"font-weight: bold; text-align: right;\"></th><th title = \"Symbol\" style = \"text-align: left;\">Symbol</th><th title = \"Union{Missing, Float64}\" style = \"text-align: left;\">Float64?</th><th title = \"Union{Missing, Float64}\" style = \"text-align: left;\">Float64?</th><th title = \"Union{Missing, Float64}\" style = \"text-align: left;\">Float64?</th><th title = \"Union{Missing, Float64}\" style = \"text-align: left;\">Float64?</th></tr></thead><tbody><tr><td class = \"rowNumber\" style = \"font-weight: bold; text-align: right;\">1</td><td style = \"text-align: left;\">B1</td><td style = \"text-align: right;\">1.0</td><td style = \"text-align: right;\">0.0</td><td style = \"text-align: right;\">1.0</td><td style = \"text-align: right;\">0.0</td></tr><tr><td class = \"rowNumber\" style = \"font-weight: bold; text-align: right;\">2</td><td style = \"text-align: left;\">B2</td><td style = \"text-align: right;\">1.0</td><td style = \"text-align: right;\">1.0</td><td style = \"text-align: right;\">1.0</td><td style = \"text-align: right;\">1.0</td></tr><tr><td class = \"rowNumber\" style = \"font-weight: bold; text-align: right;\">3</td><td style = \"text-align: left;\">B3</td><td style = \"text-align: right;\">1.0</td><td style = \"text-align: right;\">1.0</td><td style = \"text-align: right;\">1.0</td><td style = \"text-align: right;\">1.0</td></tr></tbody></table></div>"
      ],
      "text/latex": [
       "\\begin{tabular}{r|ccccc}\n",
       "\t& dim1 & S1 & S2 & S3 & S4\\\\\n",
       "\t\\hline\n",
       "\t& Symbol & Float64? & Float64? & Float64? & Float64?\\\\\n",
       "\t\\hline\n",
       "\t1 & B1 & 1.0 & 0.0 & 1.0 & 0.0 \\\\\n",
       "\t2 & B2 & 1.0 & 1.0 & 1.0 & 1.0 \\\\\n",
       "\t3 & B3 & 1.0 & 1.0 & 1.0 & 1.0 \\\\\n",
       "\\end{tabular}\n"
      ],
      "text/plain": [
       "\u001b[1m3×5 DataFrame\u001b[0m\n",
       "\u001b[1m Row \u001b[0m│\u001b[1m dim1   \u001b[0m\u001b[1m S1       \u001b[0m\u001b[1m S2       \u001b[0m\u001b[1m S3       \u001b[0m\u001b[1m S4       \u001b[0m\n",
       "     │\u001b[90m Symbol \u001b[0m\u001b[90m Float64? \u001b[0m\u001b[90m Float64? \u001b[0m\u001b[90m Float64? \u001b[0m\u001b[90m Float64? \u001b[0m\n",
       "─────┼────────────────────────────────────────────────\n",
       "   1 │ B1           1.0       0.0       1.0       0.0\n",
       "   2 │ B2           1.0       1.0       1.0       1.0\n",
       "   3 │ B3           1.0       1.0       1.0       1.0"
      ]
     },
     "metadata": {},
     "output_type": "display_data"
    }
   ],
   "source": [
    "z_results = reformat_2d_df(convert_jump_container_to_df(z))"
   ]
  },
  {
   "cell_type": "code",
   "execution_count": 168,
   "metadata": {},
   "outputs": [
    {
     "data": {
      "text/html": [
       "<div><div style = \"float: left;\"><span>3×5 DataFrame</span></div><div style = \"clear: both;\"></div></div><div class = \"data-frame\" style = \"overflow-x: scroll;\"><table class = \"data-frame\" style = \"margin-bottom: 6px;\"><thead><tr class = \"header\"><th class = \"rowNumber\" style = \"font-weight: bold; text-align: right;\">Row</th><th style = \"text-align: left;\">dim1</th><th style = \"text-align: left;\">S1</th><th style = \"text-align: left;\">S2</th><th style = \"text-align: left;\">S3</th><th style = \"text-align: left;\">S4</th></tr><tr class = \"subheader headerLastRow\"><th class = \"rowNumber\" style = \"font-weight: bold; text-align: right;\"></th><th title = \"Symbol\" style = \"text-align: left;\">Symbol</th><th title = \"Union{Missing, Float64}\" style = \"text-align: left;\">Float64?</th><th title = \"Union{Missing, Float64}\" style = \"text-align: left;\">Float64?</th><th title = \"Union{Missing, Float64}\" style = \"text-align: left;\">Float64?</th><th title = \"Union{Missing, Float64}\" style = \"text-align: left;\">Float64?</th></tr></thead><tbody><tr><td class = \"rowNumber\" style = \"font-weight: bold; text-align: right;\">1</td><td style = \"text-align: left;\">L1</td><td style = \"text-align: right;\">33.3333</td><td style = \"text-align: right;\">1.77636e-15</td><td style = \"text-align: right;\">0.0</td><td style = \"text-align: right;\">0.0</td></tr><tr><td class = \"rowNumber\" style = \"font-weight: bold; text-align: right;\">2</td><td style = \"text-align: left;\">L2</td><td style = \"text-align: right;\">83.3333</td><td style = \"text-align: right;\">3.01981e-14</td><td style = \"text-align: right;\">100.0</td><td style = \"text-align: right;\">0.0</td></tr><tr><td class = \"rowNumber\" style = \"font-weight: bold; text-align: right;\">3</td><td style = \"text-align: left;\">L3</td><td style = \"text-align: right;\">-116.667</td><td style = \"text-align: right;\">-5.50671e-14</td><td style = \"text-align: right;\">-100.0</td><td style = \"text-align: right;\">0.0</td></tr></tbody></table></div>"
      ],
      "text/latex": [
       "\\begin{tabular}{r|ccccc}\n",
       "\t& dim1 & S1 & S2 & S3 & S4\\\\\n",
       "\t\\hline\n",
       "\t& Symbol & Float64? & Float64? & Float64? & Float64?\\\\\n",
       "\t\\hline\n",
       "\t1 & L1 & 33.3333 & 1.77636e-15 & 0.0 & 0.0 \\\\\n",
       "\t2 & L2 & 83.3333 & 3.01981e-14 & 100.0 & 0.0 \\\\\n",
       "\t3 & L3 & -116.667 & -5.50671e-14 & -100.0 & 0.0 \\\\\n",
       "\\end{tabular}\n"
      ],
      "text/plain": [
       "\u001b[1m3×5 DataFrame\u001b[0m\n",
       "\u001b[1m Row \u001b[0m│\u001b[1m dim1   \u001b[0m\u001b[1m S1        \u001b[0m\u001b[1m S2           \u001b[0m\u001b[1m S3       \u001b[0m\u001b[1m S4       \u001b[0m\n",
       "     │\u001b[90m Symbol \u001b[0m\u001b[90m Float64?  \u001b[0m\u001b[90m Float64?     \u001b[0m\u001b[90m Float64? \u001b[0m\u001b[90m Float64? \u001b[0m\n",
       "─────┼─────────────────────────────────────────────────────\n",
       "   1 │ L1        33.3333   1.77636e-15       0.0       0.0\n",
       "   2 │ L2        83.3333   3.01981e-14     100.0       0.0\n",
       "   3 │ L3      -116.667   -5.50671e-14    -100.0       0.0"
      ]
     },
     "metadata": {},
     "output_type": "display_data"
    }
   ],
   "source": [
    "F_results = reformat_2d_df(convert_jump_container_to_df(F))"
   ]
  },
  {
   "cell_type": "code",
   "execution_count": 169,
   "metadata": {},
   "outputs": [
    {
     "data": {
      "text/html": [
       "<div><div style = \"float: left;\"><span>3×5 DataFrame</span></div><div style = \"clear: both;\"></div></div><div class = \"data-frame\" style = \"overflow-x: scroll;\"><table class = \"data-frame\" style = \"margin-bottom: 6px;\"><thead><tr class = \"header\"><th class = \"rowNumber\" style = \"font-weight: bold; text-align: right;\">Row</th><th style = \"text-align: left;\">dim1</th><th style = \"text-align: left;\">S1</th><th style = \"text-align: left;\">S2</th><th style = \"text-align: left;\">S3</th><th style = \"text-align: left;\">S4</th></tr><tr class = \"subheader headerLastRow\"><th class = \"rowNumber\" style = \"font-weight: bold; text-align: right;\"></th><th title = \"Symbol\" style = \"text-align: left;\">Symbol</th><th title = \"Union{Missing, Float64}\" style = \"text-align: left;\">Float64?</th><th title = \"Union{Missing, Float64}\" style = \"text-align: left;\">Float64?</th><th title = \"Union{Missing, Float64}\" style = \"text-align: left;\">Float64?</th><th title = \"Union{Missing, Float64}\" style = \"text-align: left;\">Float64?</th></tr></thead><tbody><tr><td class = \"rowNumber\" style = \"font-weight: bold; text-align: right;\">1</td><td style = \"text-align: left;\">B1</td><td style = \"text-align: right;\">0.0</td><td style = \"text-align: right;\">0.0</td><td style = \"text-align: right;\">0.0</td><td style = \"text-align: right;\">0.0</td></tr><tr><td class = \"rowNumber\" style = \"font-weight: bold; text-align: right;\">2</td><td style = \"text-align: left;\">B2</td><td style = \"text-align: right;\">0.0666667</td><td style = \"text-align: right;\">3.55271e-18</td><td style = \"text-align: right;\">0.0</td><td style = \"text-align: right;\">0.0</td></tr><tr><td class = \"rowNumber\" style = \"font-weight: bold; text-align: right;\">3</td><td style = \"text-align: left;\">B3</td><td style = \"text-align: right;\">-0.166667</td><td style = \"text-align: right;\">-6.03961e-17</td><td style = \"text-align: right;\">-0.2</td><td style = \"text-align: right;\">0.0</td></tr></tbody></table></div>"
      ],
      "text/latex": [
       "\\begin{tabular}{r|ccccc}\n",
       "\t& dim1 & S1 & S2 & S3 & S4\\\\\n",
       "\t\\hline\n",
       "\t& Symbol & Float64? & Float64? & Float64? & Float64?\\\\\n",
       "\t\\hline\n",
       "\t1 & B1 & 0.0 & 0.0 & 0.0 & 0.0 \\\\\n",
       "\t2 & B2 & 0.0666667 & 3.55271e-18 & 0.0 & 0.0 \\\\\n",
       "\t3 & B3 & -0.166667 & -6.03961e-17 & -0.2 & 0.0 \\\\\n",
       "\\end{tabular}\n"
      ],
      "text/plain": [
       "\u001b[1m3×5 DataFrame\u001b[0m\n",
       "\u001b[1m Row \u001b[0m│\u001b[1m dim1   \u001b[0m\u001b[1m S1         \u001b[0m\u001b[1m S2           \u001b[0m\u001b[1m S3       \u001b[0m\u001b[1m S4       \u001b[0m\n",
       "     │\u001b[90m Symbol \u001b[0m\u001b[90m Float64?   \u001b[0m\u001b[90m Float64?     \u001b[0m\u001b[90m Float64? \u001b[0m\u001b[90m Float64? \u001b[0m\n",
       "─────┼──────────────────────────────────────────────────────\n",
       "   1 │ B1       0.0         0.0               0.0       0.0\n",
       "   2 │ B2       0.0666667   3.55271e-18       0.0       0.0\n",
       "   3 │ B3      -0.166667   -6.03961e-17      -0.2       0.0"
      ]
     },
     "metadata": {},
     "output_type": "display_data"
    }
   ],
   "source": [
    "δ_results = reformat_2d_df(convert_jump_container_to_df(δ))"
   ]
  },
  {
   "cell_type": "code",
   "execution_count": 99,
   "metadata": {},
   "outputs": [
    {
     "ename": "ErrorException",
     "evalue": "syntax: \"convert_jump_container_to_df(δ)\" is not a valid function argument name around /home/moritz/dev/uni/amo-team-project/notebooks/sketch.ipynb:1",
     "output_type": "error",
     "traceback": [
      "syntax: \"convert_jump_container_to_df(δ)\" is not a valid function argument name around /home/moritz/dev/uni/amo-team-project/notebooks/sketch.ipynb:1\n",
      "\n",
      "Stacktrace:\n",
      " [1] top-level scope\n",
      "   @ ~/dev/uni/amo-team-project/notebooks/sketch.ipynb:1"
     ]
    }
   ],
   "source": [
    "(reformat_2d_df(convert_jump_container_to_df(model)), F_results = reformat_2d_df(convert_jump_container_to_df(F))"
   ]
  }
 ],
 "metadata": {
  "kernelspec": {
   "display_name": "Julia 1.8.3",
   "language": "julia",
   "name": "julia-1.8"
  },
  "language_info": {
   "file_extension": ".jl",
   "mimetype": "application/julia",
   "name": "julia",
   "version": "1.8.3"
  },
  "orig_nbformat": 4
 },
 "nbformat": 4,
 "nbformat_minor": 2
}
