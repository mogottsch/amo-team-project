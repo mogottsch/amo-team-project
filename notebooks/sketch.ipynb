{
 "cells": [
  {
   "cell_type": "code",
   "execution_count": 260,
   "metadata": {},
   "outputs": [
    {
     "name": "stderr",
     "output_type": "stream",
     "text": [
      "\u001b[32m\u001b[1m  Activating\u001b[22m\u001b[39m project at `~/dev/uni/amo-team-project`\n"
     ]
    }
   ],
   "source": [
    "using Pkg;\n",
    "Pkg.activate(\"..\");\n",
    "Pkg.instantiate();"
   ]
  },
  {
   "cell_type": "code",
   "execution_count": 261,
   "metadata": {},
   "outputs": [
    {
     "name": "stdout",
     "output_type": "stream",
     "text": [
      "Set parameter Username\n",
      "Academic license - for non-commercial use only - expires 2024-01-19\n"
     ]
    },
    {
     "data": {
      "text/plain": [
       "Gurobi.Env(Ptr{Nothing} @0x000055625e97e210, false, 0)"
      ]
     },
     "metadata": {},
     "output_type": "display_data"
    }
   ],
   "source": [
    "# Pkg.add(\"Gurobi\");\n",
    "# Pkg.build(\"Gurobi\");\n",
    "import Gurobi\n",
    "GRB_ENV = Gurobi.Env()"
   ]
  },
  {
   "cell_type": "code",
   "execution_count": 262,
   "metadata": {},
   "outputs": [],
   "source": [
    "# using HiGHS\n",
    "# using JuMP\n",
    "# using Ipopt\n",
    "# using DataFrames\n",
    "# using JSON\n",
    "# using Plots\n",
    "# using StatsPlots\n",
    "# using StatsBase\n",
    "# using BenchmarkTools\n",
    "# using Distributions\n",
    "# using Distances"
   ]
  },
  {
   "cell_type": "code",
   "execution_count": 263,
   "metadata": {},
   "outputs": [],
   "source": [
    "include(\"../src/rwth_parser.jl\")\n",
    "network = read_network(\"../data/Scenario_2013.xlsx\")\n",
    "loads = read_loads(\"../data/Scenario_2013.xlsx\")\n",
    "print()"
   ]
  },
  {
   "cell_type": "code",
   "execution_count": 264,
   "metadata": {},
   "outputs": [],
   "source": [
    "include(\"../src/loads.jl\")\n",
    "local_loads = remove_non_data_rows(filter_month(loads, 1))\n",
    "print()"
   ]
  },
  {
   "cell_type": "code",
   "execution_count": 265,
   "metadata": {},
   "outputs": [],
   "source": [
    "include(\"../src/scenarios/generation.jl\")\n",
    "attack_scenarios = generate_attack_scenarios(network, 10, 1000)\n",
    "weather_scenarios = generate_weather_scenarios(1000)\n",
    "print()"
   ]
  },
  {
   "cell_type": "code",
   "execution_count": 273,
   "metadata": {},
   "outputs": [],
   "source": [
    "include(\"../src/scenarios/reduction.jl\")\n",
    "reduced_attack_scenarios = reduce_binary_scenarios(attack_scenarios, 5)\n",
    "reduced_weather_scenarios = reduce_continous_scenarios(weather_scenarios, 5)\n",
    "reduced_load_scenarios = reduce_continous_scenarios(local_loads, 5)\n",
    "print()"
   ]
  },
  {
   "cell_type": "code",
   "execution_count": 274,
   "metadata": {},
   "outputs": [],
   "source": [
    "include(\"../src/scenarios/assemble.jl\")\n",
    "scenarios = cartesian_scenarios(\n",
    "    reduced_load_scenarios,\n",
    "    reduced_attack_scenarios,\n",
    "    reduced_weather_scenarios,\n",
    ")\n",
    "print()"
   ]
  },
  {
   "cell_type": "code",
   "execution_count": 275,
   "metadata": {},
   "outputs": [],
   "source": [
    "scenarios = translate_weather_to_capacity(scenarios, network.generators)\n",
    "print()"
   ]
  },
  {
   "cell_type": "code",
   "execution_count": 276,
   "metadata": {},
   "outputs": [
    {
     "name": "stdout",
     "output_type": "stream",
     "text": [
      "Number of scenarios: 125"
     ]
    }
   ],
   "source": [
    "scenario_dict = convert_df_to_scenarios(scenarios)\n",
    "print(\"Number of scenarios: $(length(scenario_dict))\")"
   ]
  },
  {
   "cell_type": "code",
   "execution_count": 277,
   "metadata": {},
   "outputs": [],
   "source": [
    "include(\"../src/model.jl\")\n",
    "dispatch_model = DispatchModel(network, scenario_dict, 5.0)\n",
    "init_model!(dispatch_model)\n",
    "print()"
   ]
  },
  {
   "cell_type": "code",
   "execution_count": 278,
   "metadata": {},
   "outputs": [
    {
     "name": "stdout",
     "output_type": "stream",
     "text": [
      "Gurobi Optimizer version 10.0.0 build v10.0.0rc2 (linux64)\n",
      "\n",
      "CPU model: AMD Ryzen 7 5800H with Radeon Graphics, instruction set [SSE2|AVX|AVX2]\n",
      "Thread count: 8 physical cores, 16 logical processors, using up to 16 threads\n",
      "\n",
      "Optimize a model with 201501 rows, 94995 columns and 456620 nonzeros\n",
      "Model fingerprint: 0x3c83952f\n",
      "Variable types: 79875 continuous, 15120 integer (15120 binary)\n",
      "Coefficient statistics:\n",
      "  Matrix range     [1e+00, 2e+03]\n",
      "  Objective range  [4e-04, 3e-02]\n",
      "  Bounds range     [6e+01, 7e+02]\n",
      "  RHS range        [1e+00, 7e+02]\n",
      "Presolve removed 165635 rows and 48420 columns\n",
      "Presolve time: 0.39s\n",
      "Presolved: 35866 rows, 46575 columns, 138275 nonzeros\n",
      "Variable types: 46535 continuous, 40 integer (40 binary)\n",
      "Deterministic concurrent LP optimizer: primal and dual simplex\n",
      "Showing first log only...\n",
      "\n",
      "\n",
      "Root simplex log...\n",
      "\n",
      "Iteration    Objective       Primal Inf.    Dual Inf.      Time\n",
      "   41581    7.4537962e+03   3.082390e+02   1.932845e+08      5s\n",
      "   47265    5.4087129e+03   1.082188e+02   1.121627e+08     10s\n",
      "   52607    5.5738457e+03   8.933161e+00   5.076680e+07     15s\n",
      "   53259    7.0528044e+03   0.000000e+00   1.191973e+03     16s\n",
      "   62912    1.0669670e+03   0.000000e+00   3.428480e+03     20s\n",
      "Concurrent spin time: 0.82s\n",
      "\n",
      "Solved with dual simplex\n",
      "\n",
      "Root relaxation: objective 2.349526e+02, 41889 iterations, 19.63 seconds (30.14 work units)\n",
      "\n",
      "    Nodes    |    Current Node    |     Objective Bounds      |     Work\n",
      " Expl Unexpl |  Obj  Depth IntInf | Incumbent    BestBd   Gap | It/Node Time\n",
      "\n",
      "     0     0  234.95262    0   36          -  234.95262      -     -   20s\n",
      "H    0     0                    2630.6291963  234.95262  91.1%     -   23s\n",
      "H    0     0                    2630.6290811  235.01378  91.1%     -   28s\n",
      "     0     0 1659.40286    0   20 2630.62908 1659.40286  36.9%     -   36s\n",
      "     0     0 1676.86247    0   20 2630.62908 1676.86247  36.3%     -   38s\n",
      "     0     0 1690.32942    0   17 2630.62908 1690.32942  35.7%     -   39s\n",
      "     0     0 1690.45772    0   17 2630.62908 1690.45772  35.7%     -   40s\n",
      "     0     0 1701.90223    0   17 2630.62908 1701.90223  35.3%     -   42s\n",
      "     0     0 1706.09172    0   17 2630.62908 1706.09172  35.1%     -   42s\n",
      "     0     0 1706.09333    0   17 2630.62908 1706.09333  35.1%     -   43s\n",
      "     0     0 1707.78066    0   19 2630.62908 1707.78066  35.1%     -   44s\n",
      "     0     0 1708.65604    0   19 2630.62908 1708.65604  35.0%     -   44s\n",
      "     0     0 1709.57567    0   19 2630.62908 1709.57567  35.0%     -   44s\n",
      "     0     0 1710.17481    0   19 2630.62908 1710.17481  35.0%     -   44s\n",
      "     0     0 1710.17489    0   19 2630.62908 1710.17489  35.0%     -   44s\n",
      "     0     0 1710.29350    0   19 2630.62908 1710.29350  35.0%     -   45s\n",
      "     0     0 1710.34399    0   19 2630.62908 1710.34399  35.0%     -   45s\n",
      "     0     0 1710.34399    0   19 2630.62908 1710.34399  35.0%     -   45s\n",
      "     0     0 1710.34399    0   19 2630.62908 1710.34399  35.0%     -   46s\n",
      "H    0     0                    2365.7957312 1710.34399  27.7%     -   48s\n",
      "     0     2 1710.34399    0   19 2365.79573 1710.34399  27.7%     -   48s\n",
      "     3     8 1883.83859    2   17 2365.79573 1743.95958  26.3%  1893   51s\n",
      "    15    24 1939.93767    4   16 2365.79573 1849.67280  21.8%  2231   58s\n",
      "    23    32 2020.19892    5   15 2365.79573 1850.35636  21.8%  2263   61s\n",
      "    39    48 1998.79532    6   15 2365.79573 1922.10792  18.8%  2252   65s\n",
      "    64    74 2043.40707    9   10 2365.79573 1924.74169  18.6%  2162   70s\n",
      "    85    88 2270.65081   11   10 2365.79573 1924.74169  18.6%  2060   75s\n",
      "*  101   102              11    2266.9019730 1924.74169  15.1%  2022   77s\n",
      "*  130    95              21    2220.6095075 1924.74169  13.3%  1781   79s\n",
      "   133    96 2210.92466   16    7 2220.60951 1926.50736  13.2%  1741   81s\n",
      "   154   105 1936.63210    6   15 2220.60951 1929.78305  13.1%  1682   86s\n",
      "H  158   105                    2187.8936602 1929.78305  11.8%  1681   86s\n",
      "   187   108 2019.08795    9   14 2187.89366 1929.78305  11.8%  1611   92s\n",
      "   201   106 2097.69926   14    8 2187.89366 1929.78305  11.8%  1632   95s\n",
      "*  205   106              18    2112.7260874 1929.78305  8.66%  1603   95s\n",
      "   242    92 2080.26536    5   15 2112.72609 1977.41604  6.40%  1616  102s\n",
      "   257    90     cutoff    6      2112.72609 1986.12693  5.99%  1652  106s\n",
      "   293    77 2101.41416   10   11 2112.72609 1986.12693  5.99%  1634  112s\n",
      "   313    68     cutoff    6      2112.72609 1986.12693  5.99%  1630  116s\n",
      "   366     8     cutoff    5      2112.72609 2058.35778  2.57%  1532  120s\n",
      "\n",
      "Cutting planes:\n",
      "  Gomory: 5\n",
      "  Implied bound: 1303\n",
      "  MIR: 571\n",
      "  Flow cover: 143\n",
      "  Relax-and-lift: 26\n",
      "\n",
      "Explored 388 nodes (635433 simplex iterations) in 120.79 seconds (189.58 work units)\n",
      "Thread count was 16 (of 16 available processors)\n",
      "\n",
      "Solution count 6: 2112.73 2187.89 2220.61 ... 2630.63\n",
      "\n",
      "Optimal solution found (tolerance 1.00e-04)\n",
      "Best objective 2.112726087449e+03, best bound 2.112726087449e+03, gap 0.0000%\n",
      "\n",
      "User-callback calls 29219, time in user-callback 0.06 sec\n",
      "121.133351 seconds (1.62 M allocations: 131.078 MiB, 0.08% gc time)\n"
     ]
    }
   ],
   "source": [
    "t = @time solve!(dispatch_model)\n",
    "print()"
   ]
  },
  {
   "cell_type": "code",
   "execution_count": 272,
   "metadata": {},
   "outputs": [
    {
     "name": "stdout",
     "output_type": "stream",
     "text": [
      "Objective value: 1744.5623961710457"
     ]
    }
   ],
   "source": [
    "import JuMP\n",
    "print(\"Objective value: $(JuMP.objective_value(dispatch_model.m))\")"
   ]
  }
 ],
 "metadata": {
  "kernelspec": {
   "display_name": "Julia 1.8.5",
   "language": "julia",
   "name": "julia-1.8"
  },
  "language_info": {
   "file_extension": ".jl",
   "mimetype": "application/julia",
   "name": "julia",
   "version": "1.8.5"
  },
  "orig_nbformat": 4
 },
 "nbformat": 4,
 "nbformat_minor": 2
}
