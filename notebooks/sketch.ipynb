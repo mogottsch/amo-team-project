{
 "cells": [
  {
   "cell_type": "code",
   "execution_count": 1,
   "metadata": {},
   "outputs": [
    {
     "name": "stderr",
     "output_type": "stream",
     "text": [
      "\u001b[32m\u001b[1m  Activating\u001b[22m\u001b[39m project at `~/dev/uni/amo-team-project`\n"
     ]
    }
   ],
   "source": [
    "using Pkg;\n",
    "Pkg.activate(\"..\");\n",
    "Pkg.instantiate();"
   ]
  },
  {
   "cell_type": "code",
   "execution_count": 30,
   "metadata": {},
   "outputs": [
    {
     "name": "stderr",
     "output_type": "stream",
     "text": [
      "\u001b[32m\u001b[1m   Resolving\u001b[22m\u001b[39m package versions...\n"
     ]
    },
    {
     "name": "stderr",
     "output_type": "stream",
     "text": [
      "\u001b[32m\u001b[1m  No Changes\u001b[22m\u001b[39m to `~/dev/uni/amo-team-project/Project.toml`\n",
      "\u001b[32m\u001b[1m  No Changes\u001b[22m\u001b[39m to `~/dev/uni/amo-team-project/Manifest.toml`\n"
     ]
    },
    {
     "name": "stderr",
     "output_type": "stream",
     "text": [
      "\u001b[32m\u001b[1m    Building\u001b[22m\u001b[39m Gurobi → `~/.julia/scratchspaces/44cfe95a-1eb2-52ea-b672-e2afdf69b78f/82a44a86f4dc4fa4510c9d49b0a74d3d73914d5c/build.log`\n"
     ]
    },
    {
     "name": "stderr",
     "output_type": "stream",
     "text": [
      "\u001b[32m\u001b[1mPrecompiling\u001b[22m\u001b[39m project...\n"
     ]
    },
    {
     "name": "stderr",
     "output_type": "stream",
     "text": [
      "\u001b[32m  ✓ \u001b[39mGurobi\n",
      "  1 dependency successfully precompiled in 5 seconds. 201 already precompiled.\n"
     ]
    }
   ],
   "source": [
    "Pkg.add(\"Gurobi\");\n",
    "Pkg.build(\"Gurobi\");"
   ]
  },
  {
   "cell_type": "code",
   "execution_count": 2,
   "metadata": {},
   "outputs": [],
   "source": [
    "# using HiGHS\n",
    "# using JuMP\n",
    "# using Ipopt\n",
    "# using DataFrames\n",
    "# using JSON\n",
    "# using Plots\n",
    "# using StatsPlots\n",
    "# using StatsBase\n",
    "# using BenchmarkTools\n",
    "# using Distributions\n",
    "# using Distances"
   ]
  },
  {
   "cell_type": "code",
   "execution_count": 3,
   "metadata": {},
   "outputs": [],
   "source": [
    "include(\"../src/rwth_parser.jl\")\n",
    "network, loads = read_data(\"../data/Scenario_2013.xlsx\")\n",
    "print()"
   ]
  },
  {
   "cell_type": "code",
   "execution_count": 4,
   "metadata": {},
   "outputs": [],
   "source": [
    "include(\"../src/loads.jl\")\n",
    "local_loads = remove_non_data_rows(filter_month(loads, 1))\n",
    "print()"
   ]
  },
  {
   "cell_type": "code",
   "execution_count": 5,
   "metadata": {},
   "outputs": [],
   "source": [
    "include(\"../src/scenarios/generation.jl\")\n",
    "attack_scenarios = generate_attack_scenarios(network, 10, 10000)\n",
    "weather_scenarios = generate_weather_scenarios(10000)\n",
    "print()"
   ]
  },
  {
   "cell_type": "code",
   "execution_count": 6,
   "metadata": {},
   "outputs": [],
   "source": [
    "n_subscenarios = 2\n",
    "include(\"../src/scenarios/reduction.jl\")\n",
    "reduced_attack_scenarios = reduce_binary_scenarios(attack_scenarios, n_subscenarios)\n",
    "reduced_weather_scenarios = reduce_continous_scenarios(weather_scenarios, n_subscenarios)\n",
    "reduced_load_scenarios = reduce_continous_scenarios(local_loads, n_subscenarios)\n",
    "print()"
   ]
  },
  {
   "cell_type": "code",
   "execution_count": 7,
   "metadata": {},
   "outputs": [],
   "source": [
    "include(\"../src/scenarios/assemble.jl\")\n",
    "scenarios = cartesian_scenarios(\n",
    "\treduced_load_scenarios,\n",
    "\treduced_attack_scenarios,\n",
    "\treduced_weather_scenarios,\n",
    ")\n",
    "print()"
   ]
  },
  {
   "cell_type": "code",
   "execution_count": 8,
   "metadata": {},
   "outputs": [],
   "source": [
    "scenarios = translate_weather_to_capacity(scenarios, network.generators)\n",
    "print()"
   ]
  },
  {
   "cell_type": "code",
   "execution_count": 9,
   "metadata": {},
   "outputs": [],
   "source": [
    "scenario_dict = convert_df_to_scenarios(scenarios)\n",
    "print()"
   ]
  },
  {
   "cell_type": "code",
   "execution_count": 10,
   "metadata": {},
   "outputs": [
    {
     "data": {
      "text/plain": [
       "Set{Symbol} with 1 element:\n",
       "  :LFB3TB1"
      ]
     },
     "metadata": {},
     "output_type": "display_data"
    }
   ],
   "source": [
    "network.busses[:B1].incoming"
   ]
  },
  {
   "cell_type": "code",
   "execution_count": 37,
   "metadata": {},
   "outputs": [
    {
     "name": "stdout",
     "output_type": "stream",
     "text": [
      "Set parameter Username\n",
      "Academic license - for non-commercial use only - expires 2024-01-19\n"
     ]
    }
   ],
   "source": [
    "include(\"../src/model.jl\")\n",
    "dispatch_model = DispatchModel(network, scenario_dict, 5.0)\n",
    "init_model!(dispatch_model)\n",
    "print()"
   ]
  },
  {
   "cell_type": "code",
   "execution_count": 38,
   "metadata": {},
   "outputs": [
    {
     "name": "stdout",
     "output_type": "stream",
     "text": [
      "Gurobi Optimizer version 10.0.0 build v10.0.0rc2 (linux64)\n",
      "\n",
      "CPU model: AMD Ryzen 7 5800H with Radeon Graphics, instruction set [SSE2|AVX|AVX2]\n",
      "Thread count: 8 physical cores, 16 logical processors, using up to 16 threads\n",
      "\n",
      "Optimize a model with 1421 rows, 759 columns and 3489 nonzeros\n",
      "Model fingerprint: 0x26f0ac36\n",
      "Variable types: 519 continuous, 240 integer (240 binary)\n",
      "Coefficient statistics:\n",
      "  Matrix range     [1e+00, 2e+03]\n",
      "  Objective range  [1e+00, 1e+00]\n",
      "  Bounds range     [9e+01, 2e+03]\n",
      "  RHS range        [1e+00, 6e+02]\n",
      "Found heuristic solution: objective 20157.773898\n",
      "Presolve removed 881 rows and 344 columns\n",
      "Presolve time: 0.01s\n",
      "Presolved: 540 rows, 415 columns, 1627 nonzeros\n",
      "Variable types: 382 continuous, 33 integer (33 binary)\n",
      "\n",
      "Root relaxation: objective 0.000000e+00, 315 iterations, 0.01 seconds (0.01 work units)\n",
      "\n",
      "    Nodes    |    Current Node    |     Objective Bounds      |     Work\n",
      " Expl Unexpl |  Obj  Depth IntInf | Incumbent    BestBd   Gap | It/Node Time\n",
      "\n",
      "     0     0    0.00000    0    6 20157.7739    0.00000   100%     -    0s\n",
      "     0     0  176.80868    0   16 20157.7739  176.80868  99.1%     -    0s\n",
      "     0     0  730.41269    0   11 20157.7739  730.41269  96.4%     -    0s\n",
      "     0     0  735.16002    0    6 20157.7739  735.16002  96.4%     -    0s\n",
      "H    0     0                    17577.596694  735.16002  95.8%     -    0s\n",
      "H    0     0                    1416.6796909  735.16002  48.1%     -    0s\n",
      "     0     0  810.59886    0    7 1416.67969  810.59886  42.8%     -    0s\n",
      "     0     0  829.52734    0    7 1416.67969  829.52734  41.4%     -    0s\n",
      "     0     2  829.52734    0    7 1416.67969  829.52734  41.4%     -    0s\n",
      "\n",
      "Cutting planes:\n",
      "  Implied bound: 24\n",
      "  MIR: 5\n",
      "  Flow cover: 2\n",
      "  RLT: 1\n",
      "  Relax-and-lift: 1\n",
      "\n",
      "Explored 72 nodes (2386 simplex iterations) in 0.14 seconds (0.13 work units)\n",
      "Thread count was 16 (of 16 available processors)\n",
      "\n",
      "Solution count 3: 1416.68 17577.6 20157.8 \n",
      "\n",
      "Optimal solution found (tolerance 1.00e-04)\n",
      "Best objective 1.416679690860e+03, best bound 1.416679690860e+03, gap 0.0000%\n",
      "\n",
      "User-callback calls 760, time in user-callback 0.00 sec\n"
     ]
    },
    {
     "data": {
      "text/plain": [
       "OPTIMAL::TerminationStatusCode = 1"
      ]
     },
     "metadata": {},
     "output_type": "display_data"
    }
   ],
   "source": [
    "solve!(dispatch_model)"
   ]
  },
  {
   "cell_type": "code",
   "execution_count": 13,
   "metadata": {},
   "outputs": [
    {
     "ename": "UndefVarError",
     "evalue": "UndefVarError: vars not defined",
     "output_type": "error",
     "traceback": [
      "UndefVarError: vars not defined\n",
      "\n",
      "Stacktrace:\n",
      " [1] top-level scope\n",
      "   @ ~/dev/uni/amo-team-project/notebooks/sketch.ipynb:1"
     ]
    }
   ],
   "source": [
    "results_r = convert_jump_container_to_df(vars[:r])"
   ]
  },
  {
   "cell_type": "code",
   "execution_count": 14,
   "metadata": {},
   "outputs": [
    {
     "ename": "UndefVarError",
     "evalue": "UndefVarError: vars not defined",
     "output_type": "error",
     "traceback": [
      "UndefVarError: vars not defined\n",
      "\n",
      "Stacktrace:\n",
      " [1] top-level scope\n",
      "   @ ~/dev/uni/amo-team-project/notebooks/sketch.ipynb:1"
     ]
    }
   ],
   "source": [
    "p_results = reformat_2d_df(convert_jump_container_to_df(vars[:P]))"
   ]
  },
  {
   "cell_type": "code",
   "execution_count": 15,
   "metadata": {},
   "outputs": [
    {
     "ename": "UndefVarError",
     "evalue": "UndefVarError: busses not defined",
     "output_type": "error",
     "traceback": [
      "UndefVarError: busses not defined\n",
      "\n",
      "Stacktrace:\n",
      " [1] macro expansion\n",
      "   @ ~/.julia/packages/JuMP/vuP7I/src/macros.jl:138 [inlined]\n",
      " [2] top-level scope\n",
      "   @ ~/dev/uni/amo-team-project/notebooks/sketch.ipynb:5"
     ]
    }
   ],
   "source": [
    "m = JuMP.Model(HiGHS.Optimizer)\n",
    "\n",
    "# variables\n",
    "## first-stage\n",
    "@variable(m, r[b in keys(busses)], Bin) # reinforce bus\n",
    "\n",
    "## second-stage\n",
    "@variable(m, 0 <= P[g in keys(generators), s in keys(scenarios)]) # power generation\n",
    "@variable(m, 0 <= L_shed[b in keys(busses), s in keys(scenarios)] <= busses[b][:load]) # load shedding\n",
    "\n",
    "@variable(m, z[b in keys(busses), s in keys(scenarios)], Bin) # bus outage\n",
    "\n",
    "@variable(m, F[l in keys(lines), s in keys(scenarios)]) # power flow\n",
    "@variable(m, δ[b in keys(busses), s in keys(scenarios)]) # voltage angle\n",
    "\n",
    "print()"
   ]
  },
  {
   "cell_type": "code",
   "execution_count": 16,
   "metadata": {},
   "outputs": [
    {
     "ename": "MethodError",
     "evalue": "MethodError: no method matching keys(::DataFrame)\nClosest candidates are:\n  keys(!Matched::Union{Tables.AbstractColumns, Tables.AbstractRow}) at ~/.julia/packages/Tables/T7rHm/src/Tables.jl:189\n  keys(!Matched::Missings.EachReplaceMissing) at ~/.julia/packages/Missings/TpCXO/src/Missings.jl:94\n  keys(!Matched::Number) at number.jl:93\n  ...",
     "output_type": "error",
     "traceback": [
      "MethodError: no method matching keys(::DataFrame)\n",
      "Closest candidates are:\n",
      "  keys(!Matched::Union{Tables.AbstractColumns, Tables.AbstractRow}) at ~/.julia/packages/Tables/T7rHm/src/Tables.jl:189\n",
      "  keys(!Matched::Missings.EachReplaceMissing) at ~/.julia/packages/Missings/TpCXO/src/Missings.jl:94\n",
      "  keys(!Matched::Number) at number.jl:93\n",
      "  ...\n",
      "\n",
      "Stacktrace:\n",
      " [1] macro expansion\n",
      "   @ ~/.julia/packages/MutableArithmetics/9dpep/src/rewrite.jl:322 [inlined]\n",
      " [2] macro expansion\n",
      "   @ ~/.julia/packages/JuMP/vuP7I/src/macros.jl:1292 [inlined]\n",
      " [3] top-level scope\n",
      "   @ ~/dev/uni/amo-team-project/notebooks/sketch.ipynb:3"
     ]
    }
   ],
   "source": [
    "# objective\n",
    "# minimize expected load shedding over all scenarios\n",
    "@objective(m, Min, sum(sum(L_shed[b, s] for b in keys(busses)) * 1/length(scenarios) for s in keys(scenarios)))\n",
    "print()"
   ]
  },
  {
   "cell_type": "code",
   "execution_count": 17,
   "metadata": {},
   "outputs": [
    {
     "ename": "UndefVarError",
     "evalue": "UndefVarError: busses not defined",
     "output_type": "error",
     "traceback": [
      "UndefVarError: busses not defined\n",
      "\n",
      "Stacktrace:\n",
      " [1] macro expansion\n",
      "   @ ~/.julia/packages/MutableArithmetics/9dpep/src/rewrite.jl:322 [inlined]\n",
      " [2] macro expansion\n",
      "   @ ~/.julia/packages/JuMP/vuP7I/src/macros.jl:831 [inlined]\n",
      " [3] top-level scope\n",
      "   @ ~/dev/uni/amo-team-project/notebooks/sketch.ipynb:5"
     ]
    }
   ],
   "source": [
    "# constraints\n",
    "\n",
    "## first-stage\n",
    "### reinforcement budget\n",
    "@constraint(m, \n",
    "\treinforcement_budget,\n",
    "\t  sum(r[b] * busses[b][:reinforcement_cost] for b in keys(busses)) \n",
    "\t<= budget\n",
    ")\n",
    "\n",
    "## second-stage\n",
    "### power balance\n",
    "@constraint(m, \n",
    "\tpower_balance[b in keys(busses), s in keys(scenarios)],\n",
    "\tsum(P[g, s] for g in busses[b][:generators]) \n",
    "\t+ sum(F[l, s] for l in busses[b][:incoming]) \n",
    "\t- sum(F[l, s] for l in busses[b][:outgoing]) \n",
    "\t+ L_shed[b, s] \n",
    "\t- busses[b][:load]\n",
    "\t== 0\n",
    ")\n",
    "### line flow\n",
    "@constraint(m, \n",
    "\tline_flow[l in keys(lines), s in keys(scenarios)],\n",
    "\tF[l, s] == lines[l][:susceptance] * (δ[lines[l][:from], s] - δ[lines[l][:to], s])\n",
    ")\n",
    "### line flow under outage upper\n",
    "@constraint(m,\n",
    "\tline_flow_under_outage_upper[b in keys(busses), l in [busses[b][:incoming]; busses[b][:outgoing]], s in keys(scenarios)],\n",
    "\tF[l, s] <= lines[l][:capacity] * z[b, s]\n",
    ")\n",
    "### line flow under outage lower\n",
    "@constraint(m,\n",
    "\tline_flow_under_outage_lower[b in keys(busses), l in [busses[b][:incoming]; busses[b][:outgoing]], s in keys(scenarios)],\n",
    "\t-lines[l][:capacity] * z[b, s] <= F[l, s] \n",
    ")\n",
    "\n",
    "### generator under outage lower\n",
    "@constraint(m,\n",
    "\tgenerator_under_outage_lower[g in keys(generators), s in keys(scenarios)],\n",
    "\t-generators[g][:capacity] * z[generators[g][:bus], s] <= P[g, s] \n",
    ")\n",
    "### generator under outage upper\n",
    "@constraint(m,\n",
    "\tgenerator_under_outage_upper[g in keys(generators), s in keys(scenarios)],\n",
    "\tP[g, s] <= generators[g][:capacity] * z[generators[g][:bus], s]\n",
    ")\n",
    "\n",
    "### reference angle\n",
    "@constraint(m,\n",
    "\treference_angle[s in keys(scenarios)],\n",
    "\tδ[:B1, s] == 0\n",
    ")\n",
    "### attacked busses\n",
    "@constraint(m,\n",
    "\tbusses[s in keys(scenarios), b in keys(busses)],\n",
    "\tz[b, s] <= 1 - (b in scenarios[s][:attacked_busses] ? 1 : 0) + r[b]\n",
    ")"
   ]
  },
  {
   "cell_type": "code",
   "execution_count": 18,
   "metadata": {},
   "outputs": [
    {
     "name": "stdout",
     "output_type": "stream",
     "text": [
      "Feasibility\n",
      "Subject to\n"
     ]
    }
   ],
   "source": [
    "print(m)"
   ]
  },
  {
   "cell_type": "code",
   "execution_count": 19,
   "metadata": {},
   "outputs": [
    {
     "name": "stdout",
     "output_type": "stream",
     "text": [
      "Model   status      : Empty\n",
      "HiGHS run time      :          0.00\n"
     ]
    }
   ],
   "source": [
    "optimize!(m)"
   ]
  },
  {
   "cell_type": "code",
   "execution_count": null,
   "metadata": {},
   "outputs": [],
   "source": []
  },
  {
   "attachments": {},
   "cell_type": "markdown",
   "metadata": {},
   "source": [
    "# Results\n",
    "## Reinforce results"
   ]
  },
  {
   "cell_type": "code",
   "execution_count": 20,
   "metadata": {},
   "outputs": [
    {
     "data": {
      "text/plain": [
       "convert_jump_container_to_df"
      ]
     },
     "metadata": {},
     "output_type": "display_data"
    }
   ],
   "source": [
    "\"\"\"\n",
    "Returns a `DataFrame` with the values of the variables from the JuMP container `var`.\n",
    "The column names of the `DataFrame` can be specified for the indexing columns in `dim_names`,\n",
    "and the name of the data value column by a Symbol `value_col` e.g. :Value\n",
    "\"\"\"\n",
    "function convert_jump_container_to_df(\n",
    "        var::JuMP.Containers.DenseAxisArray;\n",
    "        dim_names::Vector{Symbol}=Vector{Symbol}(),\n",
    "        value_col::Symbol=:Value\n",
    "    )\n",
    "\n",
    "    if isempty(var)\n",
    "        return DataFrame()\n",
    "    end\n",
    "\n",
    "    if length(dim_names) == 0\n",
    "        dim_names = [Symbol(\"dim$i\") for i in 1:length(var.axes)]\n",
    "    end\n",
    "\n",
    "    if length(dim_names) != length(var.axes)\n",
    "        throw(ArgumentError(\"Length of given name list does not fit the number of variable dimensions\"))\n",
    "    end\n",
    "\n",
    "    tup_dim = (dim_names...,)\n",
    "\n",
    "    # With a product over all axis sets of size M, form an Mx1 Array of all indices to the JuMP container `var`\n",
    "    ind = reshape([collect(k[i] for i in 1:length(dim_names)) for k in Base.Iterators.product(var.axes...)],:,1)\n",
    "\n",
    "    var_val  = value.(var)\n",
    "\n",
    "    df = DataFrame([merge(NamedTuple{tup_dim}(ind[i]), NamedTuple{(value_col,)}(var_val[(ind[i]...,)...])) for i in 1:length(ind)])\n",
    "\n",
    "    # sort by :dim1\n",
    "\n",
    "    df = df[sortperm(df[!, Symbol(\"dim1\")]), :]\n",
    "\n",
    "    return df\n",
    "end"
   ]
  },
  {
   "cell_type": "code",
   "execution_count": 21,
   "metadata": {},
   "outputs": [
    {
     "data": {
      "text/plain": [
       "reformat_2d_df (generic function with 1 method)"
      ]
     },
     "metadata": {},
     "output_type": "display_data"
    }
   ],
   "source": [
    "function reformat_2d_df(df::DataFrame)\n",
    "\t# sort dim 1 and 2\n",
    "\tdf = df[sortperm(df[!, :dim1]), :]\n",
    "\tdf = df[sortperm(df[!, :dim2]), :]\n",
    "\treturn unstack(df, :dim1, :dim2, :Value)\n",
    "end"
   ]
  },
  {
   "cell_type": "code",
   "execution_count": 22,
   "metadata": {},
   "outputs": [
    {
     "ename": "UndefVarError",
     "evalue": "UndefVarError: r not defined",
     "output_type": "error",
     "traceback": [
      "UndefVarError: r not defined\n",
      "\n",
      "Stacktrace:\n",
      " [1] top-level scope\n",
      "   @ ~/dev/uni/amo-team-project/notebooks/sketch.ipynb:1"
     ]
    }
   ],
   "source": [
    "results_r = convert_jump_container_to_df(r)"
   ]
  },
  {
   "cell_type": "code",
   "execution_count": 23,
   "metadata": {},
   "outputs": [
    {
     "ename": "UndefVarError",
     "evalue": "UndefVarError: P not defined",
     "output_type": "error",
     "traceback": [
      "UndefVarError: P not defined\n",
      "\n",
      "Stacktrace:\n",
      " [1] top-level scope\n",
      "   @ ~/dev/uni/amo-team-project/notebooks/sketch.ipynb:1"
     ]
    }
   ],
   "source": [
    "p_results = reformat_2d_df(convert_jump_container_to_df(P))"
   ]
  },
  {
   "cell_type": "code",
   "execution_count": 24,
   "metadata": {},
   "outputs": [
    {
     "ename": "UndefVarError",
     "evalue": "UndefVarError: L_shed not defined",
     "output_type": "error",
     "traceback": [
      "UndefVarError: L_shed not defined\n",
      "\n",
      "Stacktrace:\n",
      " [1] top-level scope\n",
      "   @ ~/dev/uni/amo-team-project/notebooks/sketch.ipynb:1"
     ]
    }
   ],
   "source": [
    "L_shed_results = reformat_2d_df(convert_jump_container_to_df(L_shed))"
   ]
  },
  {
   "cell_type": "code",
   "execution_count": 25,
   "metadata": {},
   "outputs": [
    {
     "ename": "UndefVarError",
     "evalue": "UndefVarError: z not defined",
     "output_type": "error",
     "traceback": [
      "UndefVarError: z not defined\n",
      "\n",
      "Stacktrace:\n",
      " [1] top-level scope\n",
      "   @ ~/dev/uni/amo-team-project/notebooks/sketch.ipynb:1"
     ]
    }
   ],
   "source": [
    "z_results = reformat_2d_df(convert_jump_container_to_df(z))"
   ]
  },
  {
   "cell_type": "code",
   "execution_count": 26,
   "metadata": {},
   "outputs": [
    {
     "ename": "UndefVarError",
     "evalue": "UndefVarError: F not defined",
     "output_type": "error",
     "traceback": [
      "UndefVarError: F not defined\n",
      "\n",
      "Stacktrace:\n",
      " [1] top-level scope\n",
      "   @ ~/dev/uni/amo-team-project/notebooks/sketch.ipynb:1"
     ]
    }
   ],
   "source": [
    "F_results = reformat_2d_df(convert_jump_container_to_df(F))"
   ]
  },
  {
   "cell_type": "code",
   "execution_count": 27,
   "metadata": {},
   "outputs": [
    {
     "ename": "UndefVarError",
     "evalue": "UndefVarError: δ not defined",
     "output_type": "error",
     "traceback": [
      "UndefVarError: δ not defined\n",
      "\n",
      "Stacktrace:\n",
      " [1] top-level scope\n",
      "   @ ~/dev/uni/amo-team-project/notebooks/sketch.ipynb:1"
     ]
    }
   ],
   "source": [
    "δ_results = reformat_2d_df(convert_jump_container_to_df(δ))"
   ]
  },
  {
   "cell_type": "code",
   "execution_count": 28,
   "metadata": {},
   "outputs": [
    {
     "ename": "ErrorException",
     "evalue": "syntax: incomplete: premature end of input",
     "output_type": "error",
     "traceback": [
      "syntax: incomplete: premature end of input\n",
      "\n",
      "Stacktrace:\n",
      " [1] top-level scope\n",
      "   @ ~/dev/uni/amo-team-project/notebooks/sketch.ipynb:1"
     ]
    }
   ],
   "source": [
    "(reformat_2d_df(convert_jump_container_to_df(model)), F_results = reformat_2d_df(convert_jump_container_to_df(F))"
   ]
  }
 ],
 "metadata": {
  "kernelspec": {
   "display_name": "Julia 1.8.5",
   "language": "julia",
   "name": "julia-1.8"
  },
  "language_info": {
   "file_extension": ".jl",
   "mimetype": "application/julia",
   "name": "julia",
   "version": "1.8.5"
  },
  "orig_nbformat": 4
 },
 "nbformat": 4,
 "nbformat_minor": 2
}
