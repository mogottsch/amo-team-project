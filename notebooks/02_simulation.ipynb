{
 "cells": [
  {
   "attachments": {},
   "cell_type": "markdown",
   "metadata": {},
   "source": [
    "# Simulation\n",
    "In this notebook we will run the model as introduced in\n",
    "`./01_single_model.ipynb` multiple times and compare the results.  \n",
    "\n",
    "With this simulation we try to answer the question how the electricity grid\n",
    "architecture impacts the amount of load shedding when the grid is randomly\n",
    "damaged by a third party.\n",
    "\n",
    "## Data\n",
    "To do that we have four different grid architectures, that employ different\n",
    "levels of renewable energy and therefore different levels of decentralization.\n",
    "The architectures were created by [Barrios et al.](https://www.iaew.rwth-aachen.de/go/id/ivfsh/?lidx=1).\n",
    "\n",
    "A detailed analysis of the different architectures is provided in `./03_1_architectures.ipynb`.\n",
    "\n",
    "\n",
    "## Process\n",
    "In the following we describe the details of our simulation.\n",
    "\n",
    "We run one model each architecture and each month. \n",
    "In the first stage the reinforcement decisions are made. In reality reinforcing\n",
    "busses is a long and costly process. We therefore assume that reinforcement\n",
    "happens once a month. To do the reinforcement decision one has to account for\n",
    "the whole month. Therefore, our model incorporates multiple demand and weather\n",
    "scenarios that could happen in a month.  \n",
    "In addition the rocket attacks are also uncertain and we incorporate multiple\n",
    "attack scenarios.  \n",
    "\n",
    "To be able to compare the different architectures, the demand scenarios and\n",
    "weather scenarios have to be the same for all architectures.\n",
    "We create scenarios of demand for each month and use that set for all\n",
    "architectures.  \n",
    "To simplify the weather generation we assume that wind speed and\n",
    "solar irradiation are independent of the month. Therefore, we generate one set\n",
    "of weather scenarios and use it for each month and each architecture.  \n",
    "The attack scenarios are dependent on the architecture and therefore equal\n",
    "attack scenarios would not be realistic. We generate the attack scenarios\n",
    "new for each architecture, yet we employ the same strategy during\n",
    "generation. This is plausible as in the real world an attacker would have\n",
    "knowledge about the network and would therefore alter the attacks depending on\n",
    "the network.  \n",
    " \n",
    "The implementation of the simulation can be found in `./src/process.jl`."
   ]
  },
  {
   "cell_type": "code",
   "execution_count": 2,
   "metadata": {},
   "outputs": [
    {
     "name": "stderr",
     "output_type": "stream",
     "text": [
      "\u001b[32m\u001b[1m  Activating\u001b[22m\u001b[39m project at `~/dev/uni/amo-team-project`\n"
     ]
    }
   ],
   "source": [
    "using Pkg;\n",
    "Pkg.activate(\"..\");\n",
    "Pkg.instantiate();"
   ]
  },
  {
   "cell_type": "code",
   "execution_count": 3,
   "metadata": {},
   "outputs": [
    {
     "name": "stdout",
     "output_type": "stream",
     "text": [
      "Set parameter Username\n",
      "Academic license - for non-commercial use only - expires 2024-01-19\n"
     ]
    },
    {
     "data": {
      "text/plain": [
       "push_results! (generic function with 1 method)"
      ]
     },
     "metadata": {},
     "output_type": "display_data"
    }
   ],
   "source": [
    "include(\"../src/process.jl\")"
   ]
  },
  {
   "attachments": {},
   "cell_type": "markdown",
   "metadata": {},
   "source": [
    "## Configuration\n",
    "The simulation offers the following configuration parameters:\n",
    "- `data_source_paths`: The paths to the different architectures\n",
    "- `n_attacks`: The number of rocket attacks per scenario\n",
    "- `n_intermediate_attack_scenarios`: The number of attack scenarios to generate before reduction\n",
    "- `n_intermediate_weather_scenarios`: The number of weather scenarios to generate before reduction\n",
    "- `n_reduced_attack_scenarios`: The number of reduced attack scenarios\n",
    "- `n_reduced_weather_scenarios`: The number of reduced weather scenarios\n",
    "- `n_reduced_demand_scenarios`: The number of reduced demand scenarios\n",
    "- `reinforcement_budget`: How many busses can be reinforced per month"
   ]
  },
  {
   "cell_type": "code",
   "execution_count": 4,
   "metadata": {},
   "outputs": [
    {
     "data": {
      "text/plain": [
       "Config([\"../data/Scenario_2013.xlsx\", \"../data/Scenario_2023A.xlsx\", \"../data/Scenario_2023B.xlsx\", \"../data/Scenario_2023C.xlsx\"], 10, 100, 100, 1, 1, 1, 5.0)"
      ]
     },
     "metadata": {},
     "output_type": "display_data"
    }
   ],
   "source": [
    "config = create_config(Dict(\n",
    "\t\"data_source_paths\" => [\n",
    "\t\t\"../data/Scenario_2013.xlsx\", \n",
    "\t\t\"../data/Scenario_2023A.xlsx\", \n",
    "\t\t\"../data/Scenario_2023B.xlsx\", \n",
    "\t\t\"../data/Scenario_2023C.xlsx\", \n",
    "\t],\n",
    "\t\"n_attacks\" => 10,\n",
    "\t\"n_intermediate_attack_scenarios\" => 100,\n",
    "\t\"n_intermediate_weather_scenarios\" => 100,\n",
    "\t\"n_reduced_attack_scenarios\" => 1,\n",
    "\t\"n_reduced_weather_scenarios\" => 1,\n",
    "\t\"n_reduced_load_scenarios\" => 1,\n",
    "\t\"reinforcment_budget\" => 5.0,\n",
    "))"
   ]
  },
  {
   "cell_type": "markdown",
   "metadata": {},
   "source": [
    "With the configuration created, we can now run the simulation."
   ]
  },
  {
   "cell_type": "code",
   "execution_count": 5,
   "metadata": {},
   "outputs": [
    {
     "name": "stdout",
     "output_type": "stream",
     "text": [
      "Initializing environment\n"
     ]
    },
    {
     "name": "stderr",
     "output_type": "stream",
     "text": [
      "\r\u001b[32m../data/Scenario_2013.xlsx  17%|████▏                    |  ETA: 0:01:03\u001b[39m\u001b[K"
     ]
    },
    {
     "name": "stderr",
     "output_type": "stream",
     "text": [
      "\r\u001b[32m../data/Scenario_2013.xlsx  42%|██████████▍              |  ETA: 0:00:19\u001b[39m\u001b[K"
     ]
    },
    {
     "name": "stderr",
     "output_type": "stream",
     "text": [
      "\r\u001b[32m../data/Scenario_2013.xlsx  50%|████████████▌            |  ETA: 0:00:14\u001b[39m\u001b[K"
     ]
    },
    {
     "name": "stderr",
     "output_type": "stream",
     "text": [
      "\r\u001b[32m../data/Scenario_2013.xlsx  58%|██████████████▋          |  ETA: 0:00:10\u001b[39m\u001b[K"
     ]
    },
    {
     "name": "stderr",
     "output_type": "stream",
     "text": [
      "\r\u001b[32m../data/Scenario_2013.xlsx  67%|████████████████▋        |  ETA: 0:00:07\u001b[39m\u001b[K"
     ]
    },
    {
     "name": "stderr",
     "output_type": "stream",
     "text": [
      "\r\u001b[32m../data/Scenario_2013.xlsx  75%|██████████████████▊      |  ETA: 0:00:05\u001b[39m\u001b[K"
     ]
    },
    {
     "name": "stderr",
     "output_type": "stream",
     "text": [
      "\r\u001b[32m../data/Scenario_2013.xlsx  83%|████████████████████▉    |  ETA: 0:00:03\u001b[39m\u001b[K"
     ]
    },
    {
     "name": "stderr",
     "output_type": "stream",
     "text": [
      "\r\u001b[32m../data/Scenario_2013.xlsx  92%|██████████████████████▉  |  ETA: 0:00:01\u001b[39m\u001b[K"
     ]
    },
    {
     "name": "stderr",
     "output_type": "stream",
     "text": [
      "\r\u001b[32m../data/Scenario_2013.xlsx 100%|█████████████████████████| Time: 0:00:14\u001b[39m\u001b[K\n"
     ]
    },
    {
     "name": "stderr",
     "output_type": "stream",
     "text": [
      "\r\u001b[32m../data/Scenario_2023A.xlsx  17%|████                    |  ETA: 0:00:02\u001b[39m\u001b[K"
     ]
    },
    {
     "name": "stderr",
     "output_type": "stream",
     "text": [
      "\r\u001b[32m../data/Scenario_2023A.xlsx  25%|██████                  |  ETA: 0:00:02\u001b[39m\u001b[K"
     ]
    },
    {
     "name": "stderr",
     "output_type": "stream",
     "text": [
      "\r\u001b[32m../data/Scenario_2023A.xlsx  33%|████████                |  ETA: 0:00:02\u001b[39m\u001b[K"
     ]
    },
    {
     "name": "stderr",
     "output_type": "stream",
     "text": [
      "\r\u001b[32m../data/Scenario_2023A.xlsx  42%|██████████              |  ETA: 0:00:01\u001b[39m\u001b[K"
     ]
    },
    {
     "name": "stderr",
     "output_type": "stream",
     "text": [
      "\r\u001b[32m../data/Scenario_2023A.xlsx  50%|████████████            |  ETA: 0:00:01\u001b[39m\u001b[K"
     ]
    },
    {
     "name": "stderr",
     "output_type": "stream",
     "text": [
      "\r\u001b[32m../data/Scenario_2023A.xlsx  58%|██████████████          |  ETA: 0:00:01\u001b[39m\u001b[K"
     ]
    },
    {
     "name": "stderr",
     "output_type": "stream",
     "text": [
      "\r\u001b[32m../data/Scenario_2023A.xlsx  67%|████████████████        |  ETA: 0:00:01\u001b[39m\u001b[K"
     ]
    },
    {
     "name": "stderr",
     "output_type": "stream",
     "text": [
      "\r\u001b[32m../data/Scenario_2023A.xlsx  75%|██████████████████      |  ETA: 0:00:01\u001b[39m\u001b[K"
     ]
    },
    {
     "name": "stderr",
     "output_type": "stream",
     "text": [
      "\r\u001b[32m../data/Scenario_2023A.xlsx  83%|████████████████████    |  ETA: 0:00:00\u001b[39m\u001b[K"
     ]
    },
    {
     "name": "stderr",
     "output_type": "stream",
     "text": [
      "\r\u001b[32m../data/Scenario_2023A.xlsx  92%|██████████████████████  |  ETA: 0:00:00\u001b[39m\u001b[K"
     ]
    },
    {
     "name": "stderr",
     "output_type": "stream",
     "text": [
      "\r\u001b[32m../data/Scenario_2023A.xlsx 100%|████████████████████████| Time: 0:00:02\u001b[39m\u001b[K\n"
     ]
    },
    {
     "name": "stderr",
     "output_type": "stream",
     "text": [
      "\r\u001b[32mProgress:  50%|████████████████████▌                    |  ETA: 0:00:19\u001b[39m\u001b[K"
     ]
    },
    {
     "name": "stderr",
     "output_type": "stream",
     "text": [
      "\r\u001b[32m../data/Scenario_2023B.xlsx  17%|████                    |  ETA: 0:00:02\u001b[39m\u001b[K"
     ]
    },
    {
     "name": "stderr",
     "output_type": "stream",
     "text": [
      "\r\u001b[32m../data/Scenario_2023B.xlsx  25%|██████                  |  ETA: 0:00:02\u001b[39m\u001b[K"
     ]
    },
    {
     "name": "stderr",
     "output_type": "stream",
     "text": [
      "\r\u001b[32m../data/Scenario_2023B.xlsx  33%|████████                |  ETA: 0:00:01\u001b[39m\u001b[K"
     ]
    },
    {
     "name": "stderr",
     "output_type": "stream",
     "text": [
      "\r\u001b[32m../data/Scenario_2023B.xlsx  42%|██████████              |  ETA: 0:00:01\u001b[39m\u001b[K"
     ]
    },
    {
     "name": "stderr",
     "output_type": "stream",
     "text": [
      "\r\u001b[32m../data/Scenario_2023B.xlsx  50%|████████████            |  ETA: 0:00:01\u001b[39m\u001b[K"
     ]
    },
    {
     "name": "stderr",
     "output_type": "stream",
     "text": [
      "\r\u001b[32m../data/Scenario_2023B.xlsx  58%|██████████████          |  ETA: 0:00:01\u001b[39m\u001b[K"
     ]
    },
    {
     "name": "stderr",
     "output_type": "stream",
     "text": [
      "\r\u001b[32m../data/Scenario_2023B.xlsx  67%|████████████████        |  ETA: 0:00:01\u001b[39m\u001b[K"
     ]
    },
    {
     "name": "stderr",
     "output_type": "stream",
     "text": [
      "\r\u001b[32m../data/Scenario_2023B.xlsx  75%|██████████████████      |  ETA: 0:00:01\u001b[39m\u001b[K"
     ]
    },
    {
     "name": "stderr",
     "output_type": "stream",
     "text": [
      "\r\u001b[32m../data/Scenario_2023B.xlsx  83%|████████████████████    |  ETA: 0:00:00\u001b[39m\u001b[K"
     ]
    },
    {
     "name": "stderr",
     "output_type": "stream",
     "text": [
      "\r\u001b[32m../data/Scenario_2023B.xlsx  92%|██████████████████████  |  ETA: 0:00:00\u001b[39m\u001b[K"
     ]
    },
    {
     "name": "stderr",
     "output_type": "stream",
     "text": [
      "\r\u001b[32m../data/Scenario_2023B.xlsx 100%|████████████████████████| Time: 0:00:02\u001b[39m\u001b[K\n"
     ]
    },
    {
     "name": "stderr",
     "output_type": "stream",
     "text": [
      "\r\u001b[32mProgress:  75%|██████████████████████████████▊          |  ETA: 0:00:07\u001b[39m\u001b[K"
     ]
    },
    {
     "name": "stderr",
     "output_type": "stream",
     "text": [
      "\r\u001b[32m../data/Scenario_2023C.xlsx  17%|████                    |  ETA: 0:00:03\u001b[39m\u001b[K"
     ]
    },
    {
     "name": "stderr",
     "output_type": "stream",
     "text": [
      "\r\u001b[32m../data/Scenario_2023C.xlsx  25%|██████                  |  ETA: 0:00:03\u001b[39m\u001b[K"
     ]
    },
    {
     "name": "stderr",
     "output_type": "stream",
     "text": [
      "\r\u001b[32m../data/Scenario_2023C.xlsx  33%|████████                |  ETA: 0:00:02\u001b[39m\u001b[K"
     ]
    },
    {
     "name": "stderr",
     "output_type": "stream",
     "text": [
      "\r\u001b[32m../data/Scenario_2023C.xlsx  42%|██████████              |  ETA: 0:00:02\u001b[39m\u001b[K"
     ]
    },
    {
     "name": "stderr",
     "output_type": "stream",
     "text": [
      "\r\u001b[32m../data/Scenario_2023C.xlsx  50%|████████████            |  ETA: 0:00:02\u001b[39m\u001b[K"
     ]
    },
    {
     "name": "stderr",
     "output_type": "stream",
     "text": [
      "\r\u001b[32m../data/Scenario_2023C.xlsx  58%|██████████████          |  ETA: 0:00:01\u001b[39m\u001b[K"
     ]
    },
    {
     "name": "stderr",
     "output_type": "stream",
     "text": [
      "\r\u001b[32m../data/Scenario_2023C.xlsx  67%|████████████████        |  ETA: 0:00:01\u001b[39m\u001b[K"
     ]
    },
    {
     "name": "stderr",
     "output_type": "stream",
     "text": [
      "\r\u001b[32m../data/Scenario_2023C.xlsx  75%|██████████████████      |  ETA: 0:00:01\u001b[39m\u001b[K"
     ]
    },
    {
     "name": "stderr",
     "output_type": "stream",
     "text": [
      "\r\u001b[32m../data/Scenario_2023C.xlsx  83%|████████████████████    |  ETA: 0:00:01\u001b[39m\u001b[K"
     ]
    },
    {
     "name": "stderr",
     "output_type": "stream",
     "text": [
      "\r\u001b[32m../data/Scenario_2023C.xlsx  92%|██████████████████████  |  ETA: 0:00:00\u001b[39m\u001b[K"
     ]
    },
    {
     "name": "stderr",
     "output_type": "stream",
     "text": [
      "\r\u001b[32m../data/Scenario_2023C.xlsx 100%|████████████████████████| Time: 0:00:03\u001b[39m\u001b[K\n"
     ]
    },
    {
     "name": "stderr",
     "output_type": "stream",
     "text": [
      "\r\u001b[32mProgress: 100%|█████████████████████████████████████████| Time: 0:00:26\u001b[39m\u001b[K\n"
     ]
    }
   ],
   "source": [
    "results = run_simulation(config)\n",
    "print()"
   ]
  },
  {
   "attachments": {},
   "cell_type": "markdown",
   "metadata": {},
   "source": [
    "The results include the load shedding (`objective_value`), mean load (`mean_load`) and the reinforced busses (`reinforced_busses`) for each month and architecture."
   ]
  },
  {
   "cell_type": "code",
   "execution_count": 6,
   "metadata": {},
   "outputs": [
    {
     "data": {
      "text/html": [
       "<div><div style = \"float: left;\"><span>48×7 DataFrame</span></div><div style = \"float: right;\"><span style = \"font-style: italic;\">23 rows omitted</span></div><div style = \"clear: both;\"></div></div><div class = \"data-frame\" style = \"overflow-x: scroll;\"><table class = \"data-frame\" style = \"margin-bottom: 6px;\"><thead><tr class = \"header\"><th class = \"rowNumber\" style = \"font-weight: bold; text-align: right;\">Row</th><th style = \"text-align: left;\">source_path</th><th style = \"text-align: left;\">month</th><th style = \"text-align: left;\">termination_status</th><th style = \"text-align: left;\">objective_value</th><th style = \"text-align: left;\">solve_time</th><th style = \"text-align: left;\">mean_load</th><th style = \"text-align: left;\">reinforced_busses</th></tr><tr class = \"subheader headerLastRow\"><th class = \"rowNumber\" style = \"font-weight: bold; text-align: right;\"></th><th title = \"String\" style = \"text-align: left;\">String</th><th title = \"Int64\" style = \"text-align: left;\">Int64</th><th title = \"String\" style = \"text-align: left;\">String</th><th title = \"Float64\" style = \"text-align: left;\">Float64</th><th title = \"Float64\" style = \"text-align: left;\">Float64</th><th title = \"Float64\" style = \"text-align: left;\">Float64</th><th title = \"String\" style = \"text-align: left;\">String</th></tr></thead><tbody><tr><td class = \"rowNumber\" style = \"font-weight: bold; text-align: right;\">1</td><td style = \"text-align: left;\">../data/Scenario_2013.xlsx</td><td style = \"text-align: right;\">1</td><td style = \"text-align: left;\">OPTIMAL</td><td style = \"text-align: right;\">1165.17</td><td style = \"text-align: right;\">0.22031</td><td style = \"text-align: right;\">20157.8</td><td style = \"text-align: left;\">B77,B116,B65,B110,B41</td></tr><tr><td class = \"rowNumber\" style = \"font-weight: bold; text-align: right;\">2</td><td style = \"text-align: left;\">../data/Scenario_2013.xlsx</td><td style = \"text-align: right;\">2</td><td style = \"text-align: left;\">OPTIMAL</td><td style = \"text-align: right;\">2229.14</td><td style = \"text-align: right;\">0.14989</td><td style = \"text-align: right;\">21432.8</td><td style = \"text-align: left;\">B115,B48,B8,B4,B65</td></tr><tr><td class = \"rowNumber\" style = \"font-weight: bold; text-align: right;\">3</td><td style = \"text-align: left;\">../data/Scenario_2013.xlsx</td><td style = \"text-align: right;\">3</td><td style = \"text-align: left;\">OPTIMAL</td><td style = \"text-align: right;\">1825.89</td><td style = \"text-align: right;\">0.167348</td><td style = \"text-align: right;\">20149.9</td><td style = \"text-align: left;\">B90,B12,B38,B4,B65</td></tr><tr><td class = \"rowNumber\" style = \"font-weight: bold; text-align: right;\">4</td><td style = \"text-align: left;\">../data/Scenario_2013.xlsx</td><td style = \"text-align: right;\">4</td><td style = \"text-align: left;\">OPTIMAL</td><td style = \"text-align: right;\">1626.26</td><td style = \"text-align: right;\">0.144331</td><td style = \"text-align: right;\">18184.8</td><td style = \"text-align: left;\">B90,B38,B26,B8,B42</td></tr><tr><td class = \"rowNumber\" style = \"font-weight: bold; text-align: right;\">5</td><td style = \"text-align: left;\">../data/Scenario_2013.xlsx</td><td style = \"text-align: right;\">5</td><td style = \"text-align: left;\">OPTIMAL</td><td style = \"text-align: right;\">1725.93</td><td style = \"text-align: right;\">0.215789</td><td style = \"text-align: right;\">17237.1</td><td style = \"text-align: left;\">B105,B8,B33,B70,B91</td></tr><tr><td class = \"rowNumber\" style = \"font-weight: bold; text-align: right;\">6</td><td style = \"text-align: left;\">../data/Scenario_2013.xlsx</td><td style = \"text-align: right;\">6</td><td style = \"text-align: left;\">OPTIMAL</td><td style = \"text-align: right;\">894.724</td><td style = \"text-align: right;\">0.139166</td><td style = \"text-align: right;\">17626.1</td><td style = \"text-align: left;\">B90,B12,B3,B35,B41</td></tr><tr><td class = \"rowNumber\" style = \"font-weight: bold; text-align: right;\">7</td><td style = \"text-align: left;\">../data/Scenario_2013.xlsx</td><td style = \"text-align: right;\">7</td><td style = \"text-align: left;\">OPTIMAL</td><td style = \"text-align: right;\">1184.0</td><td style = \"text-align: right;\">0.254475</td><td style = \"text-align: right;\">16655.9</td><td style = \"text-align: left;\">B90,B48,B4,B65,B81</td></tr><tr><td class = \"rowNumber\" style = \"font-weight: bold; text-align: right;\">8</td><td style = \"text-align: left;\">../data/Scenario_2013.xlsx</td><td style = \"text-align: right;\">8</td><td style = \"text-align: left;\">OPTIMAL</td><td style = \"text-align: right;\">1617.97</td><td style = \"text-align: right;\">0.227482</td><td style = \"text-align: right;\">17499.5</td><td style = \"text-align: left;\">B12,B115,B38,B26,B81</td></tr><tr><td class = \"rowNumber\" style = \"font-weight: bold; text-align: right;\">9</td><td style = \"text-align: left;\">../data/Scenario_2013.xlsx</td><td style = \"text-align: right;\">9</td><td style = \"text-align: left;\">OPTIMAL</td><td style = \"text-align: right;\">1596.34</td><td style = \"text-align: right;\">0.176506</td><td style = \"text-align: right;\">17944.6</td><td style = \"text-align: left;\">B9,B38,B76,B65,B51</td></tr><tr><td class = \"rowNumber\" style = \"font-weight: bold; text-align: right;\">10</td><td style = \"text-align: left;\">../data/Scenario_2013.xlsx</td><td style = \"text-align: right;\">10</td><td style = \"text-align: left;\">OPTIMAL</td><td style = \"text-align: right;\">1246.54</td><td style = \"text-align: right;\">0.222592</td><td style = \"text-align: right;\">18740.5</td><td style = \"text-align: left;\">B90,B26,B116,B81,B110</td></tr><tr><td class = \"rowNumber\" style = \"font-weight: bold; text-align: right;\">11</td><td style = \"text-align: left;\">../data/Scenario_2013.xlsx</td><td style = \"text-align: right;\">11</td><td style = \"text-align: left;\">OPTIMAL</td><td style = \"text-align: right;\">1157.63</td><td style = \"text-align: right;\">0.180553</td><td style = \"text-align: right;\">19693.6</td><td style = \"text-align: left;\">B68,B116,B8,B65,B81</td></tr><tr><td class = \"rowNumber\" style = \"font-weight: bold; text-align: right;\">12</td><td style = \"text-align: left;\">../data/Scenario_2013.xlsx</td><td style = \"text-align: right;\">12</td><td style = \"text-align: left;\">OPTIMAL</td><td style = \"text-align: right;\">1172.67</td><td style = \"text-align: right;\">0.1647</td><td style = \"text-align: right;\">18363.1</td><td style = \"text-align: left;\">B63,B68,B39,B8,B70</td></tr><tr><td class = \"rowNumber\" style = \"font-weight: bold; text-align: right;\">13</td><td style = \"text-align: left;\">../data/Scenario_2023A.xlsx</td><td style = \"text-align: right;\">1</td><td style = \"text-align: left;\">OPTIMAL</td><td style = \"text-align: right;\">889.586</td><td style = \"text-align: right;\">0.154124</td><td style = \"text-align: right;\">20157.8</td><td style = \"text-align: left;\">B63,B48,B8,B65,B81</td></tr><tr><td style = \"text-align: right;\">&vellip;</td><td style = \"text-align: right;\">&vellip;</td><td style = \"text-align: right;\">&vellip;</td><td style = \"text-align: right;\">&vellip;</td><td style = \"text-align: right;\">&vellip;</td><td style = \"text-align: right;\">&vellip;</td><td style = \"text-align: right;\">&vellip;</td><td style = \"text-align: right;\">&vellip;</td></tr><tr><td class = \"rowNumber\" style = \"font-weight: bold; text-align: right;\">37</td><td style = \"text-align: left;\">../data/Scenario_2023C.xlsx</td><td style = \"text-align: right;\">1</td><td style = \"text-align: left;\">OPTIMAL</td><td style = \"text-align: right;\">708.781</td><td style = \"text-align: right;\">0.186088</td><td style = \"text-align: right;\">20157.8</td><td style = \"text-align: left;\">B3,B38,B68,B72,B84</td></tr><tr><td class = \"rowNumber\" style = \"font-weight: bold; text-align: right;\">38</td><td style = \"text-align: left;\">../data/Scenario_2023C.xlsx</td><td style = \"text-align: right;\">2</td><td style = \"text-align: left;\">OPTIMAL</td><td style = \"text-align: right;\">728.483</td><td style = \"text-align: right;\">0.206885</td><td style = \"text-align: right;\">21432.8</td><td style = \"text-align: left;\">B90,B26,B116,B8,B65</td></tr><tr><td class = \"rowNumber\" style = \"font-weight: bold; text-align: right;\">39</td><td style = \"text-align: left;\">../data/Scenario_2023C.xlsx</td><td style = \"text-align: right;\">3</td><td style = \"text-align: left;\">OPTIMAL</td><td style = \"text-align: right;\">879.656</td><td style = \"text-align: right;\">0.215888</td><td style = \"text-align: right;\">20149.9</td><td style = \"text-align: left;\">B90,B26,B116,B65,B24</td></tr><tr><td class = \"rowNumber\" style = \"font-weight: bold; text-align: right;\">40</td><td style = \"text-align: left;\">../data/Scenario_2023C.xlsx</td><td style = \"text-align: right;\">4</td><td style = \"text-align: left;\">OPTIMAL</td><td style = \"text-align: right;\">1132.72</td><td style = \"text-align: right;\">0.219618</td><td style = \"text-align: right;\">18184.8</td><td style = \"text-align: left;\">B90,B9,B68,B26,B81</td></tr><tr><td class = \"rowNumber\" style = \"font-weight: bold; text-align: right;\">41</td><td style = \"text-align: left;\">../data/Scenario_2023C.xlsx</td><td style = \"text-align: right;\">5</td><td style = \"text-align: left;\">OPTIMAL</td><td style = \"text-align: right;\">601.158</td><td style = \"text-align: right;\">0.255098</td><td style = \"text-align: right;\">17237.1</td><td style = \"text-align: left;\">B90,B68,B39,B8,B65</td></tr><tr><td class = \"rowNumber\" style = \"font-weight: bold; text-align: right;\">42</td><td style = \"text-align: left;\">../data/Scenario_2023C.xlsx</td><td style = \"text-align: right;\">6</td><td style = \"text-align: left;\">OPTIMAL</td><td style = \"text-align: right;\">1074.91</td><td style = \"text-align: right;\">0.245356</td><td style = \"text-align: right;\">17626.1</td><td style = \"text-align: left;\">B68,B8,B65,B35,B84</td></tr><tr><td class = \"rowNumber\" style = \"font-weight: bold; text-align: right;\">43</td><td style = \"text-align: left;\">../data/Scenario_2023C.xlsx</td><td style = \"text-align: right;\">7</td><td style = \"text-align: left;\">OPTIMAL</td><td style = \"text-align: right;\">676.699</td><td style = \"text-align: right;\">0.180358</td><td style = \"text-align: right;\">16655.9</td><td style = \"text-align: left;\">B17,B116,B65,B24,B51</td></tr><tr><td class = \"rowNumber\" style = \"font-weight: bold; text-align: right;\">44</td><td style = \"text-align: left;\">../data/Scenario_2023C.xlsx</td><td style = \"text-align: right;\">8</td><td style = \"text-align: left;\">OPTIMAL</td><td style = \"text-align: right;\">852.898</td><td style = \"text-align: right;\">0.27799</td><td style = \"text-align: right;\">17499.5</td><td style = \"text-align: left;\">B90,B9,B68,B30,B116</td></tr><tr><td class = \"rowNumber\" style = \"font-weight: bold; text-align: right;\">45</td><td style = \"text-align: left;\">../data/Scenario_2023C.xlsx</td><td style = \"text-align: right;\">9</td><td style = \"text-align: left;\">OPTIMAL</td><td style = \"text-align: right;\">1081.45</td><td style = \"text-align: right;\">0.327275</td><td style = \"text-align: right;\">17944.6</td><td style = \"text-align: left;\">B90,B115,B3,B8,B110</td></tr><tr><td class = \"rowNumber\" style = \"font-weight: bold; text-align: right;\">46</td><td style = \"text-align: left;\">../data/Scenario_2023C.xlsx</td><td style = \"text-align: right;\">10</td><td style = \"text-align: left;\">OPTIMAL</td><td style = \"text-align: right;\">756.334</td><td style = \"text-align: right;\">0.14716</td><td style = \"text-align: right;\">18740.5</td><td style = \"text-align: left;\">B90,B38,B116,B8,B84</td></tr><tr><td class = \"rowNumber\" style = \"font-weight: bold; text-align: right;\">47</td><td style = \"text-align: left;\">../data/Scenario_2023C.xlsx</td><td style = \"text-align: right;\">11</td><td style = \"text-align: left;\">OPTIMAL</td><td style = \"text-align: right;\">708.703</td><td style = \"text-align: right;\">0.178685</td><td style = \"text-align: right;\">19693.6</td><td style = \"text-align: left;\">B115,B38,B26,B116,B65</td></tr><tr><td class = \"rowNumber\" style = \"font-weight: bold; text-align: right;\">48</td><td style = \"text-align: left;\">../data/Scenario_2023C.xlsx</td><td style = \"text-align: right;\">12</td><td style = \"text-align: left;\">OPTIMAL</td><td style = \"text-align: right;\">900.722</td><td style = \"text-align: right;\">0.209992</td><td style = \"text-align: right;\">18363.1</td><td style = \"text-align: left;\">B90,B105,B48,B65,B35</td></tr></tbody></table></div>"
      ],
      "text/latex": [
       "\\begin{tabular}{r|cccccc}\n",
       "\t& source\\_path & month & termination\\_status & objective\\_value & solve\\_time & \\\\\n",
       "\t\\hline\n",
       "\t& String & Int64 & String & Float64 & Float64 & \\\\\n",
       "\t\\hline\n",
       "\t1 & ../data/Scenario\\_2013.xlsx & 1 & OPTIMAL & 1165.17 & 0.22031 & $\\dots$ \\\\\n",
       "\t2 & ../data/Scenario\\_2013.xlsx & 2 & OPTIMAL & 2229.14 & 0.14989 & $\\dots$ \\\\\n",
       "\t3 & ../data/Scenario\\_2013.xlsx & 3 & OPTIMAL & 1825.89 & 0.167348 & $\\dots$ \\\\\n",
       "\t4 & ../data/Scenario\\_2013.xlsx & 4 & OPTIMAL & 1626.26 & 0.144331 & $\\dots$ \\\\\n",
       "\t5 & ../data/Scenario\\_2013.xlsx & 5 & OPTIMAL & 1725.93 & 0.215789 & $\\dots$ \\\\\n",
       "\t6 & ../data/Scenario\\_2013.xlsx & 6 & OPTIMAL & 894.724 & 0.139166 & $\\dots$ \\\\\n",
       "\t7 & ../data/Scenario\\_2013.xlsx & 7 & OPTIMAL & 1184.0 & 0.254475 & $\\dots$ \\\\\n",
       "\t8 & ../data/Scenario\\_2013.xlsx & 8 & OPTIMAL & 1617.97 & 0.227482 & $\\dots$ \\\\\n",
       "\t9 & ../data/Scenario\\_2013.xlsx & 9 & OPTIMAL & 1596.34 & 0.176506 & $\\dots$ \\\\\n",
       "\t10 & ../data/Scenario\\_2013.xlsx & 10 & OPTIMAL & 1246.54 & 0.222592 & $\\dots$ \\\\\n",
       "\t11 & ../data/Scenario\\_2013.xlsx & 11 & OPTIMAL & 1157.63 & 0.180553 & $\\dots$ \\\\\n",
       "\t12 & ../data/Scenario\\_2013.xlsx & 12 & OPTIMAL & 1172.67 & 0.1647 & $\\dots$ \\\\\n",
       "\t13 & ../data/Scenario\\_2023A.xlsx & 1 & OPTIMAL & 889.586 & 0.154124 & $\\dots$ \\\\\n",
       "\t14 & ../data/Scenario\\_2023A.xlsx & 2 & OPTIMAL & 975.403 & 0.17538 & $\\dots$ \\\\\n",
       "\t15 & ../data/Scenario\\_2023A.xlsx & 3 & OPTIMAL & 1046.45 & 0.1813 & $\\dots$ \\\\\n",
       "\t16 & ../data/Scenario\\_2023A.xlsx & 4 & OPTIMAL & 561.634 & 0.168035 & $\\dots$ \\\\\n",
       "\t17 & ../data/Scenario\\_2023A.xlsx & 5 & OPTIMAL & 738.261 & 0.151934 & $\\dots$ \\\\\n",
       "\t18 & ../data/Scenario\\_2023A.xlsx & 6 & OPTIMAL & 1017.12 & 0.263705 & $\\dots$ \\\\\n",
       "\t19 & ../data/Scenario\\_2023A.xlsx & 7 & OPTIMAL & 687.407 & 0.16028 & $\\dots$ \\\\\n",
       "\t20 & ../data/Scenario\\_2023A.xlsx & 8 & OPTIMAL & 576.481 & 0.120751 & $\\dots$ \\\\\n",
       "\t21 & ../data/Scenario\\_2023A.xlsx & 9 & OPTIMAL & 1520.41 & 0.211999 & $\\dots$ \\\\\n",
       "\t22 & ../data/Scenario\\_2023A.xlsx & 10 & OPTIMAL & 653.604 & 0.190757 & $\\dots$ \\\\\n",
       "\t23 & ../data/Scenario\\_2023A.xlsx & 11 & OPTIMAL & 801.27 & 0.172547 & $\\dots$ \\\\\n",
       "\t24 & ../data/Scenario\\_2023A.xlsx & 12 & OPTIMAL & 1143.4 & 0.269166 & $\\dots$ \\\\\n",
       "\t$\\dots$ & $\\dots$ & $\\dots$ & $\\dots$ & $\\dots$ & $\\dots$ &  \\\\\n",
       "\\end{tabular}\n"
      ],
      "text/plain": [
       "\u001b[1m48×7 DataFrame\u001b[0m\n",
       "\u001b[1m Row \u001b[0m│\u001b[1m source_path                 \u001b[0m\u001b[1m month \u001b[0m\u001b[1m termination_status \u001b[0m\u001b[1m objective_value\u001b[0m ⋯\n",
       "     │\u001b[90m String                      \u001b[0m\u001b[90m Int64 \u001b[0m\u001b[90m String             \u001b[0m\u001b[90m Float64        \u001b[0m ⋯\n",
       "─────┼──────────────────────────────────────────────────────────────────────────\n",
       "   1 │ ../data/Scenario_2013.xlsx       1  OPTIMAL                    1165.17  ⋯\n",
       "   2 │ ../data/Scenario_2013.xlsx       2  OPTIMAL                    2229.14\n",
       "   3 │ ../data/Scenario_2013.xlsx       3  OPTIMAL                    1825.89\n",
       "   4 │ ../data/Scenario_2013.xlsx       4  OPTIMAL                    1626.26\n",
       "   5 │ ../data/Scenario_2013.xlsx       5  OPTIMAL                    1725.93  ⋯\n",
       "   6 │ ../data/Scenario_2013.xlsx       6  OPTIMAL                     894.724\n",
       "   7 │ ../data/Scenario_2013.xlsx       7  OPTIMAL                    1184.0\n",
       "   8 │ ../data/Scenario_2013.xlsx       8  OPTIMAL                    1617.97\n",
       "  ⋮  │              ⋮                 ⋮            ⋮                  ⋮        ⋱\n",
       "  42 │ ../data/Scenario_2023C.xlsx      6  OPTIMAL                    1074.91  ⋯\n",
       "  43 │ ../data/Scenario_2023C.xlsx      7  OPTIMAL                     676.699\n",
       "  44 │ ../data/Scenario_2023C.xlsx      8  OPTIMAL                     852.898\n",
       "  45 │ ../data/Scenario_2023C.xlsx      9  OPTIMAL                    1081.45\n",
       "  46 │ ../data/Scenario_2023C.xlsx     10  OPTIMAL                     756.334 ⋯\n",
       "  47 │ ../data/Scenario_2023C.xlsx     11  OPTIMAL                     708.703\n",
       "  48 │ ../data/Scenario_2023C.xlsx     12  OPTIMAL                     900.722\n",
       "\u001b[36m                                                   3 columns and 33 rows omitted\u001b[0m"
      ]
     },
     "metadata": {},
     "output_type": "display_data"
    }
   ],
   "source": [
    "results"
   ]
  },
  {
   "attachments": {},
   "cell_type": "markdown",
   "metadata": {},
   "source": [
    "We visualize the results for a specific configuration in `./04_results.ipynb`. An analysis can be found in our paper."
   ]
  },
  {
   "attachments": {},
   "cell_type": "markdown",
   "metadata": {},
   "source": [
    "**Note**:\n",
    "This notebook is there to demonstrate how to run our simulation. If you want to try out different configurations, we recommend that you use the cli interface instead.  \n",
    "Run `julia ./src/main.jl` for help."
   ]
  }
 ],
 "metadata": {
  "kernelspec": {
   "display_name": "Julia 1.8.5",
   "language": "julia",
   "name": "julia-1.8"
  },
  "language_info": {
   "file_extension": ".jl",
   "mimetype": "application/julia",
   "name": "julia",
   "version": "1.8.5"
  },
  "vscode": {
   "interpreter": {
    "hash": "2b108b0b8c917ebb81a97334be15d14f3b5a5c6f3cd31c8db627b5cf9361d105"
   }
  }
 },
 "nbformat": 4,
 "nbformat_minor": 2
}
