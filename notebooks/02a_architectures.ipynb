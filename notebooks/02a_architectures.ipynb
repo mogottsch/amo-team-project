{
 "cells": [
  {
   "attachments": {},
   "cell_type": "markdown",
   "metadata": {},
   "source": [
    "# Architecture/Data Analysis\n",
    "In this notebook we take a look at the different architectures we use in the simulation. We want to understand what a more \"modern\" architecture means."
   ]
  },
  {
   "cell_type": "markdown",
   "metadata": {},
   "source": [
    "**Disclaimer:**\n",
    "To analyze the architectures, we don't use Julia, but Python, because there is no need for performance optimized code and Python offers a simpler and more convenient way to work with data."
   ]
  },
  {
   "cell_type": "code",
   "execution_count": 14,
   "metadata": {},
   "outputs": [],
   "source": [
    "import os\n",
    "import pandas as pd\n",
    "import seaborn as sns\n",
    "import matplotlib.pyplot as plt\n",
    "sns.set_palette(\"Accent\")"
   ]
  },
  {
   "attachments": {},
   "cell_type": "markdown",
   "metadata": {},
   "source": [
    "First we load the generator data for each architecture."
   ]
  },
  {
   "cell_type": "code",
   "execution_count": 15,
   "metadata": {},
   "outputs": [
    {
     "data": {
      "text/html": [
       "<div>\n",
       "<style scoped>\n",
       "    .dataframe tbody tr th:only-of-type {\n",
       "        vertical-align: middle;\n",
       "    }\n",
       "\n",
       "    .dataframe tbody tr th {\n",
       "        vertical-align: top;\n",
       "    }\n",
       "\n",
       "    .dataframe thead th {\n",
       "        text-align: right;\n",
       "    }\n",
       "</style>\n",
       "<table border=\"1\" class=\"dataframe\">\n",
       "  <thead>\n",
       "    <tr style=\"text-align: right;\">\n",
       "      <th></th>\n",
       "      <th>Generator Number</th>\n",
       "      <th>On Bus No.</th>\n",
       "      <th>Pmax [MW]</th>\n",
       "      <th>Pmin [MW]</th>\n",
       "      <th>Qmax [MVAr]</th>\n",
       "      <th>Qmin [MVAr]</th>\n",
       "      <th>Type</th>\n",
       "      <th>Costs [€/MW]</th>\n",
       "      <th>CO2-Coefficient [t CO2/MWh_electric]</th>\n",
       "      <th>Architecture</th>\n",
       "    </tr>\n",
       "  </thead>\n",
       "  <tbody>\n",
       "    <tr>\n",
       "      <th>0</th>\n",
       "      <td>1</td>\n",
       "      <td>115</td>\n",
       "      <td>400.0</td>\n",
       "      <td>168</td>\n",
       "      <td>200.0</td>\n",
       "      <td>-200.0</td>\n",
       "      <td>Gas</td>\n",
       "      <td>121.56</td>\n",
       "      <td>0.74</td>\n",
       "      <td>2023B</td>\n",
       "    </tr>\n",
       "    <tr>\n",
       "      <th>1</th>\n",
       "      <td>2</td>\n",
       "      <td>12</td>\n",
       "      <td>600.0</td>\n",
       "      <td>297</td>\n",
       "      <td>300.0</td>\n",
       "      <td>-300.0</td>\n",
       "      <td>CCGT</td>\n",
       "      <td>80.25</td>\n",
       "      <td>0.49</td>\n",
       "      <td>2023B</td>\n",
       "    </tr>\n",
       "    <tr>\n",
       "      <th>2</th>\n",
       "      <td>3</td>\n",
       "      <td>38</td>\n",
       "      <td>1500.0</td>\n",
       "      <td>623</td>\n",
       "      <td>750.0</td>\n",
       "      <td>-750.0</td>\n",
       "      <td>Hard Coal</td>\n",
       "      <td>47.42</td>\n",
       "      <td>0.80</td>\n",
       "      <td>2023B</td>\n",
       "    </tr>\n",
       "    <tr>\n",
       "      <th>3</th>\n",
       "      <td>4</td>\n",
       "      <td>35</td>\n",
       "      <td>1600.0</td>\n",
       "      <td>843</td>\n",
       "      <td>800.0</td>\n",
       "      <td>-800.0</td>\n",
       "      <td>Lignite</td>\n",
       "      <td>36.05</td>\n",
       "      <td>1.10</td>\n",
       "      <td>2023B</td>\n",
       "    </tr>\n",
       "    <tr>\n",
       "      <th>4</th>\n",
       "      <td>5</td>\n",
       "      <td>19</td>\n",
       "      <td>800.0</td>\n",
       "      <td>389</td>\n",
       "      <td>400.0</td>\n",
       "      <td>-400.0</td>\n",
       "      <td>CCGT</td>\n",
       "      <td>76.86</td>\n",
       "      <td>0.47</td>\n",
       "      <td>2023B</td>\n",
       "    </tr>\n",
       "  </tbody>\n",
       "</table>\n",
       "</div>"
      ],
      "text/plain": [
       "   Generator Number  On Bus No.  Pmax [MW]  Pmin [MW]  Qmax [MVAr]  \\\n",
       "0                 1         115      400.0        168        200.0   \n",
       "1                 2          12      600.0        297        300.0   \n",
       "2                 3          38     1500.0        623        750.0   \n",
       "3                 4          35     1600.0        843        800.0   \n",
       "4                 5          19      800.0        389        400.0   \n",
       "\n",
       "   Qmin [MVAr]       Type  Costs [€/MW]  CO2-Coefficient [t CO2/MWh_electric]  \\\n",
       "0       -200.0        Gas        121.56                                  0.74   \n",
       "1       -300.0       CCGT         80.25                                  0.49   \n",
       "2       -750.0  Hard Coal         47.42                                  0.80   \n",
       "3       -800.0    Lignite         36.05                                  1.10   \n",
       "4       -400.0       CCGT         76.86                                  0.47   \n",
       "\n",
       "  Architecture  \n",
       "0        2023B  \n",
       "1        2023B  \n",
       "2        2023B  \n",
       "3        2023B  \n",
       "4        2023B  "
      ]
     },
     "execution_count": 15,
     "metadata": {},
     "output_type": "execute_result"
    }
   ],
   "source": [
    "filenames = [\n",
    "    filename\n",
    "    for filename in os.listdir(\"../data/\")\n",
    "    if filename.endswith(\".xlsx\") and \"Scenario_\" in filename\n",
    "]\n",
    "generator_dfs = {\n",
    "    filename: pd.read_excel(f\"../data/{filename}\", sheet_name=\"Gen\")\n",
    "    for filename in filenames\n",
    "}\n",
    "for architecture, generator_df in generator_dfs.items():\n",
    "    generator_df[\"Architecture\"] = architecture.split(\"_\")[1].split(\".\")[0]\n",
    "generator_df = pd.concat(generator_dfs).reset_index(drop=True)\n",
    "generator_df.head()"
   ]
  },
  {
   "attachments": {},
   "cell_type": "markdown",
   "metadata": {},
   "source": [
    "Now we bring the generator data into a format where we can see the capacity per architecture per generator type."
   ]
  },
  {
   "cell_type": "code",
   "execution_count": 16,
   "metadata": {},
   "outputs": [
    {
     "data": {
      "text/html": [
       "<div>\n",
       "<style scoped>\n",
       "    .dataframe tbody tr th:only-of-type {\n",
       "        vertical-align: middle;\n",
       "    }\n",
       "\n",
       "    .dataframe tbody tr th {\n",
       "        vertical-align: top;\n",
       "    }\n",
       "\n",
       "    .dataframe thead th {\n",
       "        text-align: right;\n",
       "    }\n",
       "</style>\n",
       "<table border=\"1\" class=\"dataframe\">\n",
       "  <thead>\n",
       "    <tr style=\"text-align: right;\">\n",
       "      <th>Type</th>\n",
       "      <th>CCGT</th>\n",
       "      <th>Gas</th>\n",
       "      <th>Hard Coal</th>\n",
       "      <th>Lignite</th>\n",
       "      <th>Nuclear</th>\n",
       "      <th>Solar</th>\n",
       "      <th>Wind</th>\n",
       "    </tr>\n",
       "    <tr>\n",
       "      <th>Architecture</th>\n",
       "      <th></th>\n",
       "      <th></th>\n",
       "      <th></th>\n",
       "      <th></th>\n",
       "      <th></th>\n",
       "      <th></th>\n",
       "      <th></th>\n",
       "    </tr>\n",
       "  </thead>\n",
       "  <tbody>\n",
       "    <tr>\n",
       "      <th>2013</th>\n",
       "      <td>7700.0</td>\n",
       "      <td>2000.0</td>\n",
       "      <td>10400.0</td>\n",
       "      <td>7700.0</td>\n",
       "      <td>3800.0</td>\n",
       "      <td>9361.0</td>\n",
       "      <td>10766.3</td>\n",
       "    </tr>\n",
       "    <tr>\n",
       "      <th>2023A</th>\n",
       "      <td>7700.0</td>\n",
       "      <td>1200.0</td>\n",
       "      <td>11800.0</td>\n",
       "      <td>6400.0</td>\n",
       "      <td>0.0</td>\n",
       "      <td>20216.0</td>\n",
       "      <td>20479.2</td>\n",
       "    </tr>\n",
       "    <tr>\n",
       "      <th>2023B</th>\n",
       "      <td>10010.0</td>\n",
       "      <td>2000.0</td>\n",
       "      <td>9500.0</td>\n",
       "      <td>6400.0</td>\n",
       "      <td>0.0</td>\n",
       "      <td>22263.0</td>\n",
       "      <td>23027.6</td>\n",
       "    </tr>\n",
       "    <tr>\n",
       "      <th>2023C</th>\n",
       "      <td>9610.0</td>\n",
       "      <td>2000.0</td>\n",
       "      <td>8800.0</td>\n",
       "      <td>6400.0</td>\n",
       "      <td>0.0</td>\n",
       "      <td>19269.0</td>\n",
       "      <td>35974.3</td>\n",
       "    </tr>\n",
       "  </tbody>\n",
       "</table>\n",
       "</div>"
      ],
      "text/plain": [
       "Type             CCGT     Gas  Hard Coal  Lignite  Nuclear    Solar     Wind\n",
       "Architecture                                                                \n",
       "2013           7700.0  2000.0    10400.0   7700.0   3800.0   9361.0  10766.3\n",
       "2023A          7700.0  1200.0    11800.0   6400.0      0.0  20216.0  20479.2\n",
       "2023B         10010.0  2000.0     9500.0   6400.0      0.0  22263.0  23027.6\n",
       "2023C          9610.0  2000.0     8800.0   6400.0      0.0  19269.0  35974.3"
      ]
     },
     "execution_count": 16,
     "metadata": {},
     "output_type": "execute_result"
    }
   ],
   "source": [
    "mix_per_architecture = (\n",
    "    generator_df.groupby([\"Architecture\", \"Type\"])[\"Pmax [MW]\"]\n",
    "    .sum()\n",
    "    .unstack()\n",
    "    .fillna(0)\n",
    ")\n",
    "mix_per_architecture\n"
   ]
  },
  {
   "cell_type": "code",
   "execution_count": 17,
   "metadata": {},
   "outputs": [],
   "source": [
    "# mw to gw\n",
    "mix_per_architecture = mix_per_architecture / 1000"
   ]
  },
  {
   "cell_type": "code",
   "execution_count": 18,
   "metadata": {},
   "outputs": [
    {
     "data": {
      "image/png": "[encoded data removed]",
      "text/plain": [
       "<Figure size 640x480 with 1 Axes>"
      ]
     },
     "metadata": {},
     "output_type": "display_data"
    }
   ],
   "source": [
    "ax = mix_per_architecture.plot(kind=\"bar\", stacked=True)\n",
    "ax.set_title(\"Generation Mix Per Architecture\")\n",
    "ax.set_ylabel(\"Capacity [GW]\")\n",
    "\n",
    "plt.savefig(\"../figures/generation_mix_per_architecture.png\", bbox_inches=\"tight\")\n",
    "plt.show()"
   ]
  },
  {
   "cell_type": "code",
   "execution_count": 19,
   "metadata": {},
   "outputs": [],
   "source": [
    "mix_tmp = mix_per_architecture.copy()\n",
    "renewable_types = [\"Wind\", \"Solar\"]\n",
    "fossil_types = [\"CCGT\", \"Gas\", \"Hard Coal\", \"Lignite\", \"Nuclear\"]\n",
    "mix_tmp[\"renewables\"] = mix_tmp[renewable_types].sum(axis=1)\n",
    "mix_tmp[\"fossil\"] = mix_tmp[fossil_types].sum(axis=1)"
   ]
  },
  {
   "cell_type": "code",
   "execution_count": 20,
   "metadata": {},
   "outputs": [
    {
     "data": {
      "image/png": "[encoded data removed]",
      "text/plain": [
       "<Figure size 640x480 with 1 Axes>"
      ]
     },
     "metadata": {},
     "output_type": "display_data"
    }
   ],
   "source": [
    "ax = mix_tmp[[\"renewables\", \"fossil\"]].rename(columns={\n",
    "\t\"renewables\": \"Renewables\",\n",
    "\t\"fossil\": \"Fossils\"\n",
    "}).plot(kind=\"bar\")\n",
    "ax.set_title(\"Renewables vs. Fossils Per Architecture\")\n",
    "ax.set_ylabel(\"Capacity [GW]\")\n",
    "plt.savefig(\"../figures/renewables_vs_fossil_per_architecture.png\", bbox_inches=\"tight\")\n",
    "plt.show()"
   ]
  },
  {
   "cell_type": "markdown",
   "metadata": {},
   "source": [
    "# Demand"
   ]
  },
  {
   "attachments": {},
   "cell_type": "markdown",
   "metadata": {},
   "source": [
    "Additionally, we look at the demand data. We will only differentiate between the demand in different months, because that's how our model uses the data."
   ]
  },
  {
   "cell_type": "code",
   "execution_count": 21,
   "metadata": {},
   "outputs": [],
   "source": [
    "demand = pd.read_excel(\"../data/Scenario_2013.xlsx\", sheet_name=\"hourly_BusLoadP (MW)\")\n",
    "demand = demand.rename(columns={\"Hour/Bus No.\": \"hour\"})\n",
    "demand[\"datetime\"] = pd.date_range(\n",
    "    start=\"2013-01-01 00:00:00\",\n",
    "    end=\"2013-12-31 23:00:00\",\n",
    "    freq=\"H\",\n",
    ")\n",
    "demand = demand.drop(columns=[\"hour\"]).set_index(\"datetime\")"
   ]
  },
  {
   "cell_type": "code",
   "execution_count": 22,
   "metadata": {},
   "outputs": [
    {
     "data": {
      "text/html": [
       "<div>\n",
       "<style scoped>\n",
       "    .dataframe tbody tr th:only-of-type {\n",
       "        vertical-align: middle;\n",
       "    }\n",
       "\n",
       "    .dataframe tbody tr th {\n",
       "        vertical-align: top;\n",
       "    }\n",
       "\n",
       "    .dataframe thead th {\n",
       "        text-align: right;\n",
       "    }\n",
       "</style>\n",
       "<table border=\"1\" class=\"dataframe\">\n",
       "  <thead>\n",
       "    <tr style=\"text-align: right;\">\n",
       "      <th></th>\n",
       "      <th>demand</th>\n",
       "      <th>month</th>\n",
       "    </tr>\n",
       "    <tr>\n",
       "      <th>datetime</th>\n",
       "      <th></th>\n",
       "      <th></th>\n",
       "    </tr>\n",
       "  </thead>\n",
       "  <tbody>\n",
       "    <tr>\n",
       "      <th>2013-01-01 00:00:00</th>\n",
       "      <td>12706.10</td>\n",
       "      <td>1</td>\n",
       "    </tr>\n",
       "    <tr>\n",
       "      <th>2013-01-01 01:00:00</th>\n",
       "      <td>12058.64</td>\n",
       "      <td>1</td>\n",
       "    </tr>\n",
       "    <tr>\n",
       "      <th>2013-01-01 02:00:00</th>\n",
       "      <td>11394.05</td>\n",
       "      <td>1</td>\n",
       "    </tr>\n",
       "    <tr>\n",
       "      <th>2013-01-01 03:00:00</th>\n",
       "      <td>11088.60</td>\n",
       "      <td>1</td>\n",
       "    </tr>\n",
       "    <tr>\n",
       "      <th>2013-01-01 04:00:00</th>\n",
       "      <td>10744.10</td>\n",
       "      <td>1</td>\n",
       "    </tr>\n",
       "    <tr>\n",
       "      <th>...</th>\n",
       "      <td>...</td>\n",
       "      <td>...</td>\n",
       "    </tr>\n",
       "    <tr>\n",
       "      <th>2013-12-31 19:00:00</th>\n",
       "      <td>15270.47</td>\n",
       "      <td>12</td>\n",
       "    </tr>\n",
       "    <tr>\n",
       "      <th>2013-12-31 20:00:00</th>\n",
       "      <td>15071.74</td>\n",
       "      <td>12</td>\n",
       "    </tr>\n",
       "    <tr>\n",
       "      <th>2013-12-31 21:00:00</th>\n",
       "      <td>14810.17</td>\n",
       "      <td>12</td>\n",
       "    </tr>\n",
       "    <tr>\n",
       "      <th>2013-12-31 22:00:00</th>\n",
       "      <td>13387.99</td>\n",
       "      <td>12</td>\n",
       "    </tr>\n",
       "    <tr>\n",
       "      <th>2013-12-31 23:00:00</th>\n",
       "      <td>12243.22</td>\n",
       "      <td>12</td>\n",
       "    </tr>\n",
       "  </tbody>\n",
       "</table>\n",
       "<p>8760 rows × 2 columns</p>\n",
       "</div>"
      ],
      "text/plain": [
       "                       demand  month\n",
       "datetime                            \n",
       "2013-01-01 00:00:00  12706.10      1\n",
       "2013-01-01 01:00:00  12058.64      1\n",
       "2013-01-01 02:00:00  11394.05      1\n",
       "2013-01-01 03:00:00  11088.60      1\n",
       "2013-01-01 04:00:00  10744.10      1\n",
       "...                       ...    ...\n",
       "2013-12-31 19:00:00  15270.47     12\n",
       "2013-12-31 20:00:00  15071.74     12\n",
       "2013-12-31 21:00:00  14810.17     12\n",
       "2013-12-31 22:00:00  13387.99     12\n",
       "2013-12-31 23:00:00  12243.22     12\n",
       "\n",
       "[8760 rows x 2 columns]"
      ]
     },
     "execution_count": 22,
     "metadata": {},
     "output_type": "execute_result"
    }
   ],
   "source": [
    "demand_total = demand.sum(axis=1)\n",
    "demand_total = demand_total.to_frame(\"demand\")\n",
    "demand_total[\"month\"] = demand_total.index.month\n",
    "demand_total"
   ]
  },
  {
   "cell_type": "code",
   "execution_count": 23,
   "metadata": {},
   "outputs": [
    {
     "data": {
      "text/html": [
       "<div>\n",
       "<style scoped>\n",
       "    .dataframe tbody tr th:only-of-type {\n",
       "        vertical-align: middle;\n",
       "    }\n",
       "\n",
       "    .dataframe tbody tr th {\n",
       "        vertical-align: top;\n",
       "    }\n",
       "\n",
       "    .dataframe thead th {\n",
       "        text-align: right;\n",
       "    }\n",
       "</style>\n",
       "<table border=\"1\" class=\"dataframe\">\n",
       "  <thead>\n",
       "    <tr style=\"text-align: right;\">\n",
       "      <th></th>\n",
       "      <th>demand</th>\n",
       "    </tr>\n",
       "    <tr>\n",
       "      <th>month</th>\n",
       "      <th></th>\n",
       "    </tr>\n",
       "  </thead>\n",
       "  <tbody>\n",
       "    <tr>\n",
       "      <th>1</th>\n",
       "      <td>15015375.48</td>\n",
       "    </tr>\n",
       "    <tr>\n",
       "      <th>2</th>\n",
       "      <td>14400028.30</td>\n",
       "    </tr>\n",
       "    <tr>\n",
       "      <th>3</th>\n",
       "      <td>14987990.50</td>\n",
       "    </tr>\n",
       "    <tr>\n",
       "      <th>4</th>\n",
       "      <td>13084596.59</td>\n",
       "    </tr>\n",
       "    <tr>\n",
       "      <th>5</th>\n",
       "      <td>12829885.01</td>\n",
       "    </tr>\n",
       "    <tr>\n",
       "      <th>6</th>\n",
       "      <td>12689771.87</td>\n",
       "    </tr>\n",
       "    <tr>\n",
       "      <th>7</th>\n",
       "      <td>12389632.08</td>\n",
       "    </tr>\n",
       "    <tr>\n",
       "      <th>8</th>\n",
       "      <td>13019975.24</td>\n",
       "    </tr>\n",
       "    <tr>\n",
       "      <th>9</th>\n",
       "      <td>12919802.97</td>\n",
       "    </tr>\n",
       "    <tr>\n",
       "      <th>10</th>\n",
       "      <td>13948152.82</td>\n",
       "    </tr>\n",
       "    <tr>\n",
       "      <th>11</th>\n",
       "      <td>14181594.63</td>\n",
       "    </tr>\n",
       "    <tr>\n",
       "      <th>12</th>\n",
       "      <td>13649502.17</td>\n",
       "    </tr>\n",
       "  </tbody>\n",
       "</table>\n",
       "</div>"
      ],
      "text/plain": [
       "            demand\n",
       "month             \n",
       "1      15015375.48\n",
       "2      14400028.30\n",
       "3      14987990.50\n",
       "4      13084596.59\n",
       "5      12829885.01\n",
       "6      12689771.87\n",
       "7      12389632.08\n",
       "8      13019975.24\n",
       "9      12919802.97\n",
       "10     13948152.82\n",
       "11     14181594.63\n",
       "12     13649502.17"
      ]
     },
     "execution_count": 23,
     "metadata": {},
     "output_type": "execute_result"
    }
   ],
   "source": [
    "demand_per_month = demand_total.groupby(\"month\").sum()\n",
    "demand_per_month"
   ]
  },
  {
   "cell_type": "code",
   "execution_count": 24,
   "metadata": {},
   "outputs": [],
   "source": [
    "months = [\"Jan\", \"Feb\", \"Mar\", \"Apr\", \"May\", \"Jun\", \"Jul\", \"Aug\", \"Sep\", \"Oct\", \"Nov\", \"Dec\"]"
   ]
  },
  {
   "cell_type": "code",
   "execution_count": 25,
   "metadata": {},
   "outputs": [
    {
     "data": {
      "image/png": "[encoded data removed]",
      "text/plain": [
       "<Figure size 640x480 with 1 Axes>"
      ]
     },
     "metadata": {},
     "output_type": "display_data"
    }
   ],
   "source": [
    "fig, ax = plt.subplots()\n",
    "sns.lineplot(\n",
    "    data=demand_per_month/1000/1000,\n",
    "    x=demand_per_month.index.map(lambda x: months[x - 1]),\n",
    "    y=\"demand\",\n",
    "    ax=ax,\n",
    "    marker=\"o\",\n",
    ")\n",
    "ax.set_title(\"Demand Per Month\")\n",
    "ax.set_xlabel(\"Month\")\n",
    "ax.set_ylabel(\"TWh\")\n",
    "plt.savefig(\"../figures/demand_per_month.png\", bbox_inches=\"tight\")\n",
    "plt.show()\n"
   ]
  },
  {
   "cell_type": "code",
   "execution_count": null,
   "metadata": {},
   "outputs": [],
   "source": []
  }
 ],
 "metadata": {
  "kernelspec": {
   "display_name": "AMO",
   "language": "python",
   "name": "python3"
  },
  "language_info": {
   "codemirror_mode": {
    "name": "ipython",
    "version": 3
   },
   "file_extension": ".py",
   "mimetype": "text/x-python",
   "name": "python",
   "nbconvert_exporter": "python",
   "pygments_lexer": "ipython3",
   "version": "3.9.16"
  },
  "orig_nbformat": 4,
  "vscode": {
   "interpreter": {
    "hash": "2b108b0b8c917ebb81a97334be15d14f3b5a5c6f3cd31c8db627b5cf9361d105"
   }
  }
 },
 "nbformat": 4,
 "nbformat_minor": 2
}
